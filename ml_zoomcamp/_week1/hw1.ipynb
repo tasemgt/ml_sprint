{
 "cells": [
  {
   "cell_type": "code",
   "execution_count": 8,
   "id": "1f2c28c9-773f-430b-8e6e-ebbfa57a5575",
   "metadata": {},
   "outputs": [
    {
     "name": "stdout",
     "output_type": "stream",
     "text": [
      "/opt/anaconda3/envs/ml_/bin/python\n"
     ]
    }
   ],
   "source": [
    "!which python"
   ]
  },
  {
   "cell_type": "markdown",
   "id": "aaa99ba8-732b-4bb9-8a52-6b6f4f4b9f8b",
   "metadata": {},
   "source": [
    "### NUMPY!!"
   ]
  },
  {
   "cell_type": "code",
   "execution_count": 36,
   "id": "e274686d-b342-4be9-92c3-d6dea46fe075",
   "metadata": {},
   "outputs": [],
   "source": [
    "import numpy as np"
   ]
  },
  {
   "cell_type": "code",
   "execution_count": 12,
   "id": "dce196eb-8163-4180-b052-0cba38190e61",
   "metadata": {},
   "outputs": [
    {
     "data": {
      "text/plain": [
       "array([0., 0., 0., 0., 0., 0., 0., 0., 0., 0.])"
      ]
     },
     "execution_count": 12,
     "metadata": {},
     "output_type": "execute_result"
    }
   ],
   "source": [
    "np.zeros(10)"
   ]
  },
  {
   "cell_type": "code",
   "execution_count": 13,
   "id": "0887cc04-09e8-40f3-a44c-ac19ca9cd233",
   "metadata": {},
   "outputs": [
    {
     "data": {
      "text/plain": [
       "array([2.5, 2.5, 2.5, 2.5, 2.5, 2.5, 2.5, 2.5, 2.5, 2.5])"
      ]
     },
     "execution_count": 13,
     "metadata": {},
     "output_type": "execute_result"
    }
   ],
   "source": [
    "np.full(10, 2.5)"
   ]
  },
  {
   "cell_type": "code",
   "execution_count": 14,
   "id": "4b1daefe-8c98-4dd8-a050-a30247327701",
   "metadata": {},
   "outputs": [
    {
     "data": {
      "text/plain": [
       "array([1, 2, 3, 4, 5, 6])"
      ]
     },
     "execution_count": 14,
     "metadata": {},
     "output_type": "execute_result"
    }
   ],
   "source": [
    "li = [1,2,3,4,5,6]\n",
    "np.array(li)"
   ]
  },
  {
   "cell_type": "code",
   "execution_count": 16,
   "id": "d1b3f84c-19e7-4475-a31f-51bba0017129",
   "metadata": {},
   "outputs": [
    {
     "data": {
      "text/plain": [
       "array([2, 4, 6, 8])"
      ]
     },
     "execution_count": 16,
     "metadata": {},
     "output_type": "execute_result"
    }
   ],
   "source": [
    "np.arange(2, 10, 2)"
   ]
  },
  {
   "cell_type": "code",
   "execution_count": 24,
   "id": "03e2d918-7d21-4b7e-94b7-6cfa04c4636e",
   "metadata": {},
   "outputs": [
    {
     "data": {
      "text/plain": [
       "array([ 0.,  2.,  4.,  6.,  8., 10., 12., 14., 16., 18., 20.])"
      ]
     },
     "execution_count": 24,
     "metadata": {},
     "output_type": "execute_result"
    }
   ],
   "source": [
    "np.linspace(0, 20, 11) #3rd argument, 50 is default"
   ]
  },
  {
   "cell_type": "markdown",
   "id": "31beedf4-5186-4b4a-ba43-67be2cd49863",
   "metadata": {},
   "source": [
    "### Multi-dim"
   ]
  },
  {
   "cell_type": "code",
   "execution_count": 25,
   "id": "e8e454dc-73dc-41b1-bd3f-31fbdeca616d",
   "metadata": {},
   "outputs": [
    {
     "data": {
      "text/plain": [
       "array([[0., 0., 0.],\n",
       "       [0., 0., 0.],\n",
       "       [0., 0., 0.],\n",
       "       [0., 0., 0.],\n",
       "       [0., 0., 0.]])"
      ]
     },
     "execution_count": 25,
     "metadata": {},
     "output_type": "execute_result"
    }
   ],
   "source": [
    "np.zeros((5,3))"
   ]
  },
  {
   "cell_type": "code",
   "execution_count": 29,
   "id": "7606d761-305e-45f8-8c0a-82e5707aac8f",
   "metadata": {},
   "outputs": [
    {
     "data": {
      "text/plain": [
       "array([[0.4359949 , 0.02592623],\n",
       "       [0.54966248, 0.43532239],\n",
       "       [0.4203678 , 0.33033482],\n",
       "       [0.20464863, 0.61927097],\n",
       "       [0.29965467, 0.26682728]])"
      ]
     },
     "execution_count": 29,
     "metadata": {},
     "output_type": "execute_result"
    }
   ],
   "source": [
    "# Generates a uniform Random distribution\n",
    "\n",
    "np.random.seed(2) # Use seed to maintain reproducibility...\n",
    "\n",
    "np.random.rand(5,2)"
   ]
  },
  {
   "cell_type": "code",
   "execution_count": 30,
   "id": "0e97e1e5-9a8d-4b95-839b-3d3eeaa8e8b0",
   "metadata": {},
   "outputs": [
    {
     "data": {
      "text/plain": [
       "array([[ 5,  7,  3],\n",
       "       [ 6,  4, 10],\n",
       "       [11, 19,  7],\n",
       "       [ 6, 10,  1],\n",
       "       [ 3,  5,  4]])"
      ]
     },
     "execution_count": 30,
     "metadata": {},
     "output_type": "execute_result"
    }
   ],
   "source": [
    "np.random.randint(low= 0, high= 20, size=(5,3))"
   ]
  },
  {
   "cell_type": "code",
   "execution_count": null,
   "id": "7679ff01-68d0-43f1-b5b6-a30a41033943",
   "metadata": {},
   "outputs": [],
   "source": [
    "# Can perform element wise arithmetic operations rather than python lists and loops to perform arithemtic"
   ]
  },
  {
   "cell_type": "code",
   "execution_count": null,
   "id": "4629f154-18ff-4ac3-9b28-cf35afbf7af6",
   "metadata": {},
   "outputs": [],
   "source": [
    "# np.min(), np.sum(), np.std(), etc"
   ]
  },
  {
   "cell_type": "markdown",
   "id": "07b1dcaf-f0a7-4fef-bf37-6cedd462a313",
   "metadata": {},
   "source": [
    "## PANDAS!!"
   ]
  },
  {
   "cell_type": "code",
   "execution_count": 2,
   "id": "0d11e0b2-c8ec-4293-927a-05ea9a951eef",
   "metadata": {},
   "outputs": [],
   "source": [
    "import pandas as pd"
   ]
  },
  {
   "cell_type": "code",
   "execution_count": 3,
   "id": "2811f35b-f942-45b9-ba21-77efabdb1e50",
   "metadata": {},
   "outputs": [
    {
     "data": {
      "text/plain": [
       "'2.3.2'"
      ]
     },
     "execution_count": 3,
     "metadata": {},
     "output_type": "execute_result"
    }
   ],
   "source": [
    "pd.__version__"
   ]
  },
  {
   "cell_type": "code",
   "execution_count": 4,
   "id": "3cfccc5a-f51f-4ce3-a3c4-06ebfc06500a",
   "metadata": {},
   "outputs": [],
   "source": [
    "df = pd.read_csv('../data/car_fuel_efficiency.csv')"
   ]
  },
  {
   "cell_type": "code",
   "execution_count": 5,
   "id": "1cfd3b4b-bbcc-492e-aba5-02218b3bcdcc",
   "metadata": {},
   "outputs": [
    {
     "data": {
      "text/html": [
       "<div>\n",
       "<style scoped>\n",
       "    .dataframe tbody tr th:only-of-type {\n",
       "        vertical-align: middle;\n",
       "    }\n",
       "\n",
       "    .dataframe tbody tr th {\n",
       "        vertical-align: top;\n",
       "    }\n",
       "\n",
       "    .dataframe thead th {\n",
       "        text-align: right;\n",
       "    }\n",
       "</style>\n",
       "<table border=\"1\" class=\"dataframe\">\n",
       "  <thead>\n",
       "    <tr style=\"text-align: right;\">\n",
       "      <th></th>\n",
       "      <th>engine_displacement</th>\n",
       "      <th>num_cylinders</th>\n",
       "      <th>horsepower</th>\n",
       "      <th>vehicle_weight</th>\n",
       "      <th>acceleration</th>\n",
       "      <th>model_year</th>\n",
       "      <th>origin</th>\n",
       "      <th>fuel_type</th>\n",
       "      <th>drivetrain</th>\n",
       "      <th>num_doors</th>\n",
       "      <th>fuel_efficiency_mpg</th>\n",
       "    </tr>\n",
       "  </thead>\n",
       "  <tbody>\n",
       "    <tr>\n",
       "      <th>0</th>\n",
       "      <td>170</td>\n",
       "      <td>3.0</td>\n",
       "      <td>159.0</td>\n",
       "      <td>3413.433759</td>\n",
       "      <td>17.7</td>\n",
       "      <td>2003</td>\n",
       "      <td>Europe</td>\n",
       "      <td>Gasoline</td>\n",
       "      <td>All-wheel drive</td>\n",
       "      <td>0.0</td>\n",
       "      <td>13.231729</td>\n",
       "    </tr>\n",
       "    <tr>\n",
       "      <th>1</th>\n",
       "      <td>130</td>\n",
       "      <td>5.0</td>\n",
       "      <td>97.0</td>\n",
       "      <td>3149.664934</td>\n",
       "      <td>17.8</td>\n",
       "      <td>2007</td>\n",
       "      <td>USA</td>\n",
       "      <td>Gasoline</td>\n",
       "      <td>Front-wheel drive</td>\n",
       "      <td>0.0</td>\n",
       "      <td>13.688217</td>\n",
       "    </tr>\n",
       "    <tr>\n",
       "      <th>2</th>\n",
       "      <td>170</td>\n",
       "      <td>NaN</td>\n",
       "      <td>78.0</td>\n",
       "      <td>3079.038997</td>\n",
       "      <td>15.1</td>\n",
       "      <td>2018</td>\n",
       "      <td>Europe</td>\n",
       "      <td>Gasoline</td>\n",
       "      <td>Front-wheel drive</td>\n",
       "      <td>0.0</td>\n",
       "      <td>14.246341</td>\n",
       "    </tr>\n",
       "    <tr>\n",
       "      <th>3</th>\n",
       "      <td>220</td>\n",
       "      <td>4.0</td>\n",
       "      <td>NaN</td>\n",
       "      <td>2542.392402</td>\n",
       "      <td>20.2</td>\n",
       "      <td>2009</td>\n",
       "      <td>USA</td>\n",
       "      <td>Diesel</td>\n",
       "      <td>All-wheel drive</td>\n",
       "      <td>2.0</td>\n",
       "      <td>16.912736</td>\n",
       "    </tr>\n",
       "    <tr>\n",
       "      <th>4</th>\n",
       "      <td>210</td>\n",
       "      <td>1.0</td>\n",
       "      <td>140.0</td>\n",
       "      <td>3460.870990</td>\n",
       "      <td>14.4</td>\n",
       "      <td>2009</td>\n",
       "      <td>Europe</td>\n",
       "      <td>Gasoline</td>\n",
       "      <td>All-wheel drive</td>\n",
       "      <td>2.0</td>\n",
       "      <td>12.488369</td>\n",
       "    </tr>\n",
       "  </tbody>\n",
       "</table>\n",
       "</div>"
      ],
      "text/plain": [
       "   engine_displacement  num_cylinders  horsepower  vehicle_weight  \\\n",
       "0                  170            3.0       159.0     3413.433759   \n",
       "1                  130            5.0        97.0     3149.664934   \n",
       "2                  170            NaN        78.0     3079.038997   \n",
       "3                  220            4.0         NaN     2542.392402   \n",
       "4                  210            1.0       140.0     3460.870990   \n",
       "\n",
       "   acceleration  model_year  origin fuel_type         drivetrain  num_doors  \\\n",
       "0          17.7        2003  Europe  Gasoline    All-wheel drive        0.0   \n",
       "1          17.8        2007     USA  Gasoline  Front-wheel drive        0.0   \n",
       "2          15.1        2018  Europe  Gasoline  Front-wheel drive        0.0   \n",
       "3          20.2        2009     USA    Diesel    All-wheel drive        2.0   \n",
       "4          14.4        2009  Europe  Gasoline    All-wheel drive        2.0   \n",
       "\n",
       "   fuel_efficiency_mpg  \n",
       "0            13.231729  \n",
       "1            13.688217  \n",
       "2            14.246341  \n",
       "3            16.912736  \n",
       "4            12.488369  "
      ]
     },
     "execution_count": 5,
     "metadata": {},
     "output_type": "execute_result"
    }
   ],
   "source": [
    "df.head()"
   ]
  },
  {
   "cell_type": "code",
   "execution_count": 6,
   "id": "3c0a26b3-befb-41ef-be61-dd63705c4285",
   "metadata": {},
   "outputs": [
    {
     "data": {
      "text/plain": [
       "(9704, 11)"
      ]
     },
     "execution_count": 6,
     "metadata": {},
     "output_type": "execute_result"
    }
   ],
   "source": [
    "df.shape"
   ]
  },
  {
   "cell_type": "code",
   "execution_count": 9,
   "id": "d9a5b98a-ed80-4509-9378-fed67fc586a4",
   "metadata": {},
   "outputs": [
    {
     "data": {
      "text/plain": [
       "106744"
      ]
     },
     "execution_count": 9,
     "metadata": {},
     "output_type": "execute_result"
    }
   ],
   "source": [
    "df.size"
   ]
  },
  {
   "cell_type": "code",
   "execution_count": 16,
   "id": "ab81d484-1db6-4b6c-930e-9d1c6251a02c",
   "metadata": {},
   "outputs": [
    {
     "data": {
      "text/plain": [
       "2"
      ]
     },
     "execution_count": 16,
     "metadata": {},
     "output_type": "execute_result"
    }
   ],
   "source": [
    "len(df['fuel_type'].unique())\n",
    "# df.groupby('fuel_type').value_counts()"
   ]
  },
  {
   "cell_type": "code",
   "execution_count": 28,
   "id": "bfdf30ce-d07f-4438-aeef-9ef6333bb3a9",
   "metadata": {},
   "outputs": [],
   "source": [
    "# df.isnull()"
   ]
  },
  {
   "cell_type": "code",
   "execution_count": 25,
   "id": "c491c476-6eff-4c33-95de-e4cb82bdddb5",
   "metadata": {},
   "outputs": [
    {
     "data": {
      "text/plain": [
       "engine_displacement      0\n",
       "num_cylinders          482\n",
       "horsepower             708\n",
       "vehicle_weight           0\n",
       "acceleration           930\n",
       "model_year               0\n",
       "origin                   0\n",
       "fuel_type                0\n",
       "drivetrain               0\n",
       "num_doors              502\n",
       "fuel_efficiency_mpg      0\n",
       "dtype: int64"
      ]
     },
     "execution_count": 25,
     "metadata": {},
     "output_type": "execute_result"
    }
   ],
   "source": [
    "df.isnull().sum()"
   ]
  },
  {
   "cell_type": "code",
   "execution_count": 31,
   "id": "d11f833d-72bd-4daa-8875-13254bd32fa0",
   "metadata": {},
   "outputs": [
    {
     "data": {
      "text/plain": [
       "array(['Europe', 'USA', 'Asia'], dtype=object)"
      ]
     },
     "execution_count": 31,
     "metadata": {},
     "output_type": "execute_result"
    }
   ],
   "source": [
    "df.origin.unique()"
   ]
  },
  {
   "cell_type": "code",
   "execution_count": 34,
   "id": "f907bb55-6eb2-4227-afda-17cfa82acd8c",
   "metadata": {},
   "outputs": [
    {
     "data": {
      "text/plain": [
       "np.float64(23.759122836520497)"
      ]
     },
     "execution_count": 34,
     "metadata": {},
     "output_type": "execute_result"
    }
   ],
   "source": [
    "# df[df.origin == 'Asia'].fuel_efficiency_mpg.max()"
   ]
  },
  {
   "cell_type": "code",
   "execution_count": 37,
   "id": "cc95d6ee-cff2-4aeb-9fe1-1a5e830c99e3",
   "metadata": {},
   "outputs": [
    {
     "data": {
      "text/plain": [
       "np.float64(23.76)"
      ]
     },
     "execution_count": 37,
     "metadata": {},
     "output_type": "execute_result"
    }
   ],
   "source": [
    "np.round(df[df.origin == 'Asia'].fuel_efficiency_mpg.max(), 2)"
   ]
  },
  {
   "cell_type": "code",
   "execution_count": 39,
   "id": "f266b794-3ad8-4c4e-95e3-55e6a5abfd34",
   "metadata": {},
   "outputs": [
    {
     "data": {
      "text/plain": [
       "149.0"
      ]
     },
     "execution_count": 39,
     "metadata": {},
     "output_type": "execute_result"
    }
   ],
   "source": [
    "df.horsepower.median().item()"
   ]
  },
  {
   "cell_type": "code",
   "execution_count": 47,
   "id": "1d3c8632-c508-481d-9607-2f0648703646",
   "metadata": {},
   "outputs": [],
   "source": [
    "freq = df.horsepower.mode().item()"
   ]
  },
  {
   "cell_type": "code",
   "execution_count": 48,
   "id": "a77b508e-a0f7-450d-af6b-0ba44baf263c",
   "metadata": {},
   "outputs": [
    {
     "data": {
      "text/plain": [
       "0       159.0\n",
       "1        97.0\n",
       "2        78.0\n",
       "3       152.0\n",
       "4       140.0\n",
       "        ...  \n",
       "9699    164.0\n",
       "9700    154.0\n",
       "9701    138.0\n",
       "9702    177.0\n",
       "9703    140.0\n",
       "Name: horsepower, Length: 9704, dtype: float64"
      ]
     },
     "execution_count": 48,
     "metadata": {},
     "output_type": "execute_result"
    }
   ],
   "source": [
    "df.horsepower.fillna(freq)"
   ]
  },
  {
   "cell_type": "code",
   "execution_count": 49,
   "id": "3e16b6ed-178c-4a7f-92db-76e2cb9449bc",
   "metadata": {},
   "outputs": [
    {
     "data": {
      "text/plain": [
       "np.float64(149.0)"
      ]
     },
     "execution_count": 49,
     "metadata": {},
     "output_type": "execute_result"
    }
   ],
   "source": [
    "df.horsepower.median()"
   ]
  },
  {
   "cell_type": "code",
   "execution_count": 53,
   "id": "055ffe4f-cb7a-4f1f-822f-bb5d4a0f5de8",
   "metadata": {},
   "outputs": [],
   "source": [
    "asian_cars = df[df.origin == 'Asia']"
   ]
  },
  {
   "cell_type": "code",
   "execution_count": 54,
   "id": "d27fb342-a4c6-4f9f-a1b8-d227b1a8de02",
   "metadata": {},
   "outputs": [],
   "source": [
    "cols = ['model_year', 'vehicle_weight']"
   ]
  },
  {
   "cell_type": "code",
   "execution_count": 56,
   "id": "ed12565e-e51b-487a-9ddc-f63651d5a131",
   "metadata": {},
   "outputs": [],
   "source": [
    "asian_cars_7 = asian_cars[cols].head(7)"
   ]
  },
  {
   "cell_type": "code",
   "execution_count": 61,
   "id": "1476154a-e79c-48db-acc9-ac758c913961",
   "metadata": {},
   "outputs": [
    {
     "data": {
      "text/html": [
       "<div>\n",
       "<style scoped>\n",
       "    .dataframe tbody tr th:only-of-type {\n",
       "        vertical-align: middle;\n",
       "    }\n",
       "\n",
       "    .dataframe tbody tr th {\n",
       "        vertical-align: top;\n",
       "    }\n",
       "\n",
       "    .dataframe thead th {\n",
       "        text-align: right;\n",
       "    }\n",
       "</style>\n",
       "<table border=\"1\" class=\"dataframe\">\n",
       "  <thead>\n",
       "    <tr style=\"text-align: right;\">\n",
       "      <th></th>\n",
       "      <th>model_year</th>\n",
       "      <th>vehicle_weight</th>\n",
       "    </tr>\n",
       "  </thead>\n",
       "  <tbody>\n",
       "    <tr>\n",
       "      <th>8</th>\n",
       "      <td>2016</td>\n",
       "      <td>2714.219310</td>\n",
       "    </tr>\n",
       "    <tr>\n",
       "      <th>12</th>\n",
       "      <td>2010</td>\n",
       "      <td>2783.868974</td>\n",
       "    </tr>\n",
       "    <tr>\n",
       "      <th>14</th>\n",
       "      <td>2007</td>\n",
       "      <td>3582.687368</td>\n",
       "    </tr>\n",
       "    <tr>\n",
       "      <th>20</th>\n",
       "      <td>2011</td>\n",
       "      <td>2231.808142</td>\n",
       "    </tr>\n",
       "    <tr>\n",
       "      <th>21</th>\n",
       "      <td>2016</td>\n",
       "      <td>2659.431451</td>\n",
       "    </tr>\n",
       "    <tr>\n",
       "      <th>34</th>\n",
       "      <td>2014</td>\n",
       "      <td>2844.227534</td>\n",
       "    </tr>\n",
       "    <tr>\n",
       "      <th>38</th>\n",
       "      <td>2019</td>\n",
       "      <td>3761.994038</td>\n",
       "    </tr>\n",
       "  </tbody>\n",
       "</table>\n",
       "</div>"
      ],
      "text/plain": [
       "    model_year  vehicle_weight\n",
       "8         2016     2714.219310\n",
       "12        2010     2783.868974\n",
       "14        2007     3582.687368\n",
       "20        2011     2231.808142\n",
       "21        2016     2659.431451\n",
       "34        2014     2844.227534\n",
       "38        2019     3761.994038"
      ]
     },
     "execution_count": 61,
     "metadata": {},
     "output_type": "execute_result"
    }
   ],
   "source": [
    "asian_cars_7"
   ]
  },
  {
   "cell_type": "code",
   "execution_count": null,
   "id": "ec071410-18ad-49ee-9264-13450c088182",
   "metadata": {},
   "outputs": [],
   "source": []
  },
  {
   "cell_type": "code",
   "execution_count": 58,
   "id": "179ccc26-381a-4241-97e9-213cf6e6d8f2",
   "metadata": {},
   "outputs": [],
   "source": [
    "X = asian_cars_7.to_numpy()"
   ]
  },
  {
   "cell_type": "code",
   "execution_count": 60,
   "id": "5836c416-18b0-4e59-9227-36add8a5fa3c",
   "metadata": {},
   "outputs": [
    {
     "data": {
      "text/plain": [
       "array([[2016.        , 2714.21930965],\n",
       "       [2010.        , 2783.86897424],\n",
       "       [2007.        , 3582.68736772],\n",
       "       [2011.        , 2231.8081416 ],\n",
       "       [2016.        , 2659.43145076],\n",
       "       [2014.        , 2844.22753389],\n",
       "       [2019.        , 3761.99403819]])"
      ]
     },
     "execution_count": 60,
     "metadata": {},
     "output_type": "execute_result"
    }
   ],
   "source": [
    "X"
   ]
  },
  {
   "cell_type": "code",
   "execution_count": 64,
   "id": "1299a0d0-dea6-4029-9eb5-20df351d5ff8",
   "metadata": {},
   "outputs": [],
   "source": [
    "XTX = X.T.dot(X)"
   ]
  },
  {
   "cell_type": "code",
   "execution_count": 67,
   "id": "befbbe11-8e60-439d-917a-1a2a9aef3afd",
   "metadata": {},
   "outputs": [],
   "source": [
    "inv_XTX = np.linalg.inv(XTX)"
   ]
  },
  {
   "cell_type": "code",
   "execution_count": 66,
   "id": "8738bf3f-1e31-4e58-9b54-c7185c630324",
   "metadata": {},
   "outputs": [],
   "source": [
    "y = np.array([1100, 1300, 800, 900, 1000, 1100, 1200])"
   ]
  },
  {
   "cell_type": "code",
   "execution_count": 68,
   "id": "26568f94-6470-493d-ab86-dca3eaed15fa",
   "metadata": {},
   "outputs": [],
   "source": [
    "prd = inv_XTX.dot(X.T)"
   ]
  },
  {
   "cell_type": "code",
   "execution_count": 72,
   "id": "f4d96aa0-82d5-40c7-a039-c0c396834eff",
   "metadata": {},
   "outputs": [
    {
     "data": {
      "text/plain": [
       "0.52"
      ]
     },
     "execution_count": 72,
     "metadata": {},
     "output_type": "execute_result"
    }
   ],
   "source": [
    "np.round(prd.dot(y).sum(), 2).item()"
   ]
  },
  {
   "cell_type": "code",
   "execution_count": null,
   "id": "5ba6b05c-32d4-41c7-97db-d1e1cda38abb",
   "metadata": {},
   "outputs": [],
   "source": []
  }
 ],
 "metadata": {
  "kernelspec": {
   "display_name": "Python 3 (ipykernel)",
   "language": "python",
   "name": "python3"
  },
  "language_info": {
   "codemirror_mode": {
    "name": "ipython",
    "version": 3
   },
   "file_extension": ".py",
   "mimetype": "text/x-python",
   "name": "python",
   "nbconvert_exporter": "python",
   "pygments_lexer": "ipython3",
   "version": "3.12.11"
  }
 },
 "nbformat": 4,
 "nbformat_minor": 5
}
