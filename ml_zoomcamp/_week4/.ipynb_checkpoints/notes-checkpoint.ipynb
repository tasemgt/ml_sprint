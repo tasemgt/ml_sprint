{
 "cells": [
  {
   "cell_type": "code",
   "execution_count": 1,
   "id": "941b1454-984e-4ffe-90f9-abd37bb7bca1",
   "metadata": {},
   "outputs": [
    {
     "name": "stdout",
     "output_type": "stream",
     "text": [
      "/opt/anaconda3/envs/ml_/bin/python\n"
     ]
    }
   ],
   "source": [
    "!which python"
   ]
  },
  {
   "cell_type": "markdown",
   "id": "db9cb7f3-1fe2-4f30-b459-34eb7e9c3d0a",
   "metadata": {},
   "source": [
    "### Module 4. Evaluation"
   ]
  },
  {
   "cell_type": "markdown",
   "id": "81ef2cb3-a813-4408-af64-b117c442b129",
   "metadata": {},
   "source": [
    "#### 4.1 Evaluation metrics: session overview"
   ]
  },
  {
   "cell_type": "markdown",
   "id": "810f29c8-bb51-429b-adab-21b3e6a1400d",
   "metadata": {},
   "source": [
    "#### 4.2 Accuracy Good enough?"
   ]
  },
  {
   "cell_type": "markdown",
   "id": "79491d54-7a56-4490-895d-657e2a4ed0c6",
   "metadata": {},
   "source": [
    "#### Remember accuracy simply talks about the ratio of correct to total predictions"
   ]
  },
  {
   "cell_type": "markdown",
   "id": "f9fb3e93-182b-4311-a18c-77492182f77d",
   "metadata": {},
   "source": [
    "So, we used a threshold of 0.5 as our decision threshold, but what happens when we move the threshold? Would it improve our accuracy? What would our accuracy look like at different thresholds?"
   ]
  },
  {
   "cell_type": "code",
   "execution_count": null,
   "id": "637064bb-a4ba-4320-93ef-4e37d04ddc0a",
   "metadata": {},
   "outputs": [],
   "source": []
  },
  {
   "cell_type": "code",
   "execution_count": null,
   "id": "0324ed5d-2cd9-4db7-9f24-1bdf9fe75e1b",
   "metadata": {},
   "outputs": [],
   "source": []
  },
  {
   "cell_type": "code",
   "execution_count": null,
   "id": "9a80e584-31fc-4a0c-bad3-9597e7e594e0",
   "metadata": {},
   "outputs": [],
   "source": []
  },
  {
   "cell_type": "code",
   "execution_count": null,
   "id": "fe7eec11-5b98-45e0-94a9-6b12e01120ca",
   "metadata": {},
   "outputs": [],
   "source": []
  }
 ],
 "metadata": {
  "kernelspec": {
   "display_name": "Python 3 (ipykernel)",
   "language": "python",
   "name": "python3"
  },
  "language_info": {
   "codemirror_mode": {
    "name": "ipython",
    "version": 3
   },
   "file_extension": ".py",
   "mimetype": "text/x-python",
   "name": "python",
   "nbconvert_exporter": "python",
   "pygments_lexer": "ipython3",
   "version": "3.12.11"
  }
 },
 "nbformat": 4,
 "nbformat_minor": 5
}
