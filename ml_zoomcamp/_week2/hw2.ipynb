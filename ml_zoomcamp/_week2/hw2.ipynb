{
 "cells": [
  {
   "cell_type": "code",
   "execution_count": 1,
   "id": "9cc8f441-5582-42d5-9bca-4c18813b98db",
   "metadata": {},
   "outputs": [
    {
     "name": "stdout",
     "output_type": "stream",
     "text": [
      "/opt/anaconda3/envs/ml_/bin/python\n"
     ]
    }
   ],
   "source": [
    "!which python"
   ]
  },
  {
   "cell_type": "code",
   "execution_count": 2,
   "id": "cc8178ad-2a5b-41af-9224-60ef2053de4c",
   "metadata": {},
   "outputs": [],
   "source": [
    "import pandas as pd\n",
    "import numpy as np\n",
    "\n",
    "import matplotlib.pyplot as plt\n",
    "import seaborn as sns\n",
    "\n",
    "%matplotlib inline"
   ]
  },
  {
   "cell_type": "code",
   "execution_count": 10,
   "id": "2b1cada7-a7c7-4a51-ac44-8c654130b19d",
   "metadata": {},
   "outputs": [],
   "source": [
    "base_df = pd.read_csv('../data/car_fuel_efficiency.csv')"
   ]
  },
  {
   "cell_type": "code",
   "execution_count": 11,
   "id": "af8cbd20-0711-416d-8b11-a9ab1e9f8d55",
   "metadata": {},
   "outputs": [
    {
     "data": {
      "text/html": [
       "<div>\n",
       "<style scoped>\n",
       "    .dataframe tbody tr th:only-of-type {\n",
       "        vertical-align: middle;\n",
       "    }\n",
       "\n",
       "    .dataframe tbody tr th {\n",
       "        vertical-align: top;\n",
       "    }\n",
       "\n",
       "    .dataframe thead th {\n",
       "        text-align: right;\n",
       "    }\n",
       "</style>\n",
       "<table border=\"1\" class=\"dataframe\">\n",
       "  <thead>\n",
       "    <tr style=\"text-align: right;\">\n",
       "      <th></th>\n",
       "      <th>engine_displacement</th>\n",
       "      <th>num_cylinders</th>\n",
       "      <th>horsepower</th>\n",
       "      <th>vehicle_weight</th>\n",
       "      <th>acceleration</th>\n",
       "      <th>model_year</th>\n",
       "      <th>origin</th>\n",
       "      <th>fuel_type</th>\n",
       "      <th>drivetrain</th>\n",
       "      <th>num_doors</th>\n",
       "      <th>fuel_efficiency_mpg</th>\n",
       "    </tr>\n",
       "  </thead>\n",
       "  <tbody>\n",
       "    <tr>\n",
       "      <th>0</th>\n",
       "      <td>170</td>\n",
       "      <td>3.0</td>\n",
       "      <td>159.0</td>\n",
       "      <td>3413.433759</td>\n",
       "      <td>17.7</td>\n",
       "      <td>2003</td>\n",
       "      <td>Europe</td>\n",
       "      <td>Gasoline</td>\n",
       "      <td>All-wheel drive</td>\n",
       "      <td>0.0</td>\n",
       "      <td>13.231729</td>\n",
       "    </tr>\n",
       "    <tr>\n",
       "      <th>1</th>\n",
       "      <td>130</td>\n",
       "      <td>5.0</td>\n",
       "      <td>97.0</td>\n",
       "      <td>3149.664934</td>\n",
       "      <td>17.8</td>\n",
       "      <td>2007</td>\n",
       "      <td>USA</td>\n",
       "      <td>Gasoline</td>\n",
       "      <td>Front-wheel drive</td>\n",
       "      <td>0.0</td>\n",
       "      <td>13.688217</td>\n",
       "    </tr>\n",
       "    <tr>\n",
       "      <th>2</th>\n",
       "      <td>170</td>\n",
       "      <td>NaN</td>\n",
       "      <td>78.0</td>\n",
       "      <td>3079.038997</td>\n",
       "      <td>15.1</td>\n",
       "      <td>2018</td>\n",
       "      <td>Europe</td>\n",
       "      <td>Gasoline</td>\n",
       "      <td>Front-wheel drive</td>\n",
       "      <td>0.0</td>\n",
       "      <td>14.246341</td>\n",
       "    </tr>\n",
       "  </tbody>\n",
       "</table>\n",
       "</div>"
      ],
      "text/plain": [
       "   engine_displacement  num_cylinders  horsepower  vehicle_weight  \\\n",
       "0                  170            3.0       159.0     3413.433759   \n",
       "1                  130            5.0        97.0     3149.664934   \n",
       "2                  170            NaN        78.0     3079.038997   \n",
       "\n",
       "   acceleration  model_year  origin fuel_type         drivetrain  num_doors  \\\n",
       "0          17.7        2003  Europe  Gasoline    All-wheel drive        0.0   \n",
       "1          17.8        2007     USA  Gasoline  Front-wheel drive        0.0   \n",
       "2          15.1        2018  Europe  Gasoline  Front-wheel drive        0.0   \n",
       "\n",
       "   fuel_efficiency_mpg  \n",
       "0            13.231729  \n",
       "1            13.688217  \n",
       "2            14.246341  "
      ]
     },
     "execution_count": 11,
     "metadata": {},
     "output_type": "execute_result"
    }
   ],
   "source": [
    "base_df.head(3)"
   ]
  },
  {
   "cell_type": "code",
   "execution_count": 12,
   "id": "83cb3760-11b8-4436-a42f-446f1752a225",
   "metadata": {},
   "outputs": [],
   "source": [
    "base_cols = ['engine_displacement',\n",
    "'horsepower',\n",
    "'vehicle_weight',\n",
    "'model_year',\n",
    "'fuel_efficiency_mpg']\n",
    "\n",
    "df = base_df[base_cols]"
   ]
  },
  {
   "cell_type": "markdown",
   "id": "eb6bb396-05c6-4113-9396-f39976a04ee1",
   "metadata": {},
   "source": [
    "### 0: EDA"
   ]
  },
  {
   "cell_type": "code",
   "execution_count": 13,
   "id": "61e38e60-84bc-4bf9-8e35-318804117f9f",
   "metadata": {},
   "outputs": [
    {
     "data": {
      "text/plain": [
       "<Axes: xlabel='fuel_efficiency_mpg', ylabel='Count'>"
      ]
     },
     "execution_count": 13,
     "metadata": {},
     "output_type": "execute_result"
    },
    {
     "data": {
      "image/png": "[encoded data removed]",
      "text/plain": [
       "<Figure size 640x480 with 1 Axes>"
      ]
     },
     "metadata": {},
     "output_type": "display_data"
    }
   ],
   "source": [
    "sns.histplot(df['fuel_efficiency_mpg'])"
   ]
  },
  {
   "cell_type": "markdown",
   "id": "6d24fa0c-4039-4b24-a0d7-845d0d3f35f4",
   "metadata": {},
   "source": [
    "#### Fuel Efficiency had no long tails and looks very 'Normal'"
   ]
  },
  {
   "cell_type": "markdown",
   "id": "b44d68e5-c276-4ded-b964-afa6ee07970b",
   "metadata": {},
   "source": [
    "### Q1:"
   ]
  },
  {
   "cell_type": "code",
   "execution_count": 14,
   "id": "41c80aef-c0b9-46c7-a7a9-f7a7d68a27ca",
   "metadata": {},
   "outputs": [
    {
     "data": {
      "text/plain": [
       "engine_displacement      0\n",
       "horsepower             708\n",
       "vehicle_weight           0\n",
       "model_year               0\n",
       "fuel_efficiency_mpg      0\n",
       "dtype: int64"
      ]
     },
     "execution_count": 14,
     "metadata": {},
     "output_type": "execute_result"
    }
   ],
   "source": [
    "df.isna().sum()"
   ]
  },
  {
   "cell_type": "markdown",
   "id": "01f1fd02-3e0e-4bbb-b669-e1427aefc1af",
   "metadata": {},
   "source": [
    "#### Column with missing values -> 'horsepower'"
   ]
  },
  {
   "cell_type": "code",
   "execution_count": null,
   "id": "36bf4580-61cf-4529-ad59-f3de5dabf4c3",
   "metadata": {},
   "outputs": [],
   "source": []
  },
  {
   "cell_type": "markdown",
   "id": "38510b8f-0f31-4d88-a3b8-96880ec69f44",
   "metadata": {},
   "source": [
    "### Q2:"
   ]
  },
  {
   "cell_type": "code",
   "execution_count": 15,
   "id": "f2e989a9-a0a2-45af-9177-54a4539d3035",
   "metadata": {},
   "outputs": [
    {
     "data": {
      "text/plain": [
       "np.float64(149.0)"
      ]
     },
     "execution_count": 15,
     "metadata": {},
     "output_type": "execute_result"
    }
   ],
   "source": [
    "df.horsepower.median()"
   ]
  },
  {
   "cell_type": "code",
   "execution_count": 20,
   "id": "6bd0707d-c340-473d-8b24-18b742972f71",
   "metadata": {},
   "outputs": [
    {
     "data": {
      "text/plain": [
       "np.float64(149.0)"
      ]
     },
     "execution_count": 20,
     "metadata": {},
     "output_type": "execute_result"
    }
   ],
   "source": [
    "df.describe().horsepower['50%']"
   ]
  },
  {
   "cell_type": "markdown",
   "id": "14ff4059-7569-471e-9d6f-da2f72a243f6",
   "metadata": {},
   "source": [
    "#### Median Horse power is 149.0"
   ]
  },
  {
   "cell_type": "code",
   "execution_count": null,
   "id": "e734f209-a60f-4c6a-ab11-1d898db9642d",
   "metadata": {},
   "outputs": [],
   "source": []
  },
  {
   "cell_type": "markdown",
   "id": "852d4820-0a10-4b89-8a06-e7111fbcd75a",
   "metadata": {},
   "source": [
    "### Q3: "
   ]
  },
  {
   "cell_type": "code",
   "execution_count": 21,
   "id": "2c128eff-3a5b-440e-a269-f780120f4602",
   "metadata": {},
   "outputs": [
    {
     "data": {
      "text/plain": [
       "9704"
      ]
     },
     "execution_count": 21,
     "metadata": {},
     "output_type": "execute_result"
    }
   ],
   "source": [
    "len(df)"
   ]
  },
  {
   "cell_type": "code",
   "execution_count": 132,
   "id": "74d853ef-56c9-41e5-8c47-65450f834550",
   "metadata": {},
   "outputs": [],
   "source": [
    "# Get number of rows for each split 60% train, 20% val, 20% test\n",
    "n = len(df)\n",
    "\n",
    "n_val = int(n * 0.2)\n",
    "n_test = int(n * 0.2)\n",
    "n_train = n - n_val - n_test"
   ]
  },
  {
   "cell_type": "code",
   "execution_count": 133,
   "id": "0c2af6ad-c9e9-42ed-8e64-810602acacab",
   "metadata": {},
   "outputs": [
    {
     "data": {
      "text/plain": [
       "(5824, 1940, 1940)"
      ]
     },
     "execution_count": 133,
     "metadata": {},
     "output_type": "execute_result"
    }
   ],
   "source": [
    "n_train, n_val, n_test"
   ]
  },
  {
   "cell_type": "code",
   "execution_count": 189,
   "id": "7573cedd-bd0f-41e5-b9ba-39caf8b1ff5d",
   "metadata": {},
   "outputs": [
    {
     "data": {
      "text/plain": [
       "array([ 483, 7506, 8795, ..., 5390,  860, 7270], shape=(9704,))"
      ]
     },
     "execution_count": 189,
     "metadata": {},
     "output_type": "execute_result"
    }
   ],
   "source": [
    "# Create a randomly shuffled index array from total number of rows\n",
    "idx = np.arange(n)\n",
    "np.random.seed(42)\n",
    "np.random.shuffle(idx) # shuffle index values to be random\n",
    "idx"
   ]
  },
  {
   "cell_type": "code",
   "execution_count": 190,
   "id": "8cf84ff9-2b83-435e-ad6d-335f8c084f64",
   "metadata": {},
   "outputs": [],
   "source": [
    "# subset the data frame to extract the sections of the indicies\n",
    "df_train = df.iloc[idx[:n_train]]\n",
    "df_val = df.iloc[idx[n_train:n_train+n_val]]\n",
    "df_test = df.iloc[idx[n_train+n_val:]]"
   ]
  },
  {
   "cell_type": "code",
   "execution_count": 191,
   "id": "ccebb3f5-dcd1-427b-bb2e-f74adb7cfe81",
   "metadata": {},
   "outputs": [],
   "source": [
    "# Reset each split to a stand alone df\n",
    "df_train = df_train.reset_index(drop=True)\n",
    "df_val = df_val.reset_index(drop=True)\n",
    "df_test = df_test.reset_index(drop=True)"
   ]
  },
  {
   "cell_type": "code",
   "execution_count": 192,
   "id": "bb7bf408-e906-4278-ad0e-241643d793c3",
   "metadata": {},
   "outputs": [
    {
     "data": {
      "text/plain": [
       "(5824, 1940, 1940)"
      ]
     },
     "execution_count": 192,
     "metadata": {},
     "output_type": "execute_result"
    }
   ],
   "source": [
    "# Checks...\n",
    "len(df_train), len(df_val), len(df_test)"
   ]
  },
  {
   "cell_type": "code",
   "execution_count": 193,
   "id": "40d67a4b-3c4f-4d1e-891d-78ec0604bfe9",
   "metadata": {},
   "outputs": [
    {
     "data": {
      "text/html": [
       "<div>\n",
       "<style scoped>\n",
       "    .dataframe tbody tr th:only-of-type {\n",
       "        vertical-align: middle;\n",
       "    }\n",
       "\n",
       "    .dataframe tbody tr th {\n",
       "        vertical-align: top;\n",
       "    }\n",
       "\n",
       "    .dataframe thead th {\n",
       "        text-align: right;\n",
       "    }\n",
       "</style>\n",
       "<table border=\"1\" class=\"dataframe\">\n",
       "  <thead>\n",
       "    <tr style=\"text-align: right;\">\n",
       "      <th></th>\n",
       "      <th>engine_displacement</th>\n",
       "      <th>horsepower</th>\n",
       "      <th>vehicle_weight</th>\n",
       "      <th>model_year</th>\n",
       "      <th>fuel_efficiency_mpg</th>\n",
       "    </tr>\n",
       "  </thead>\n",
       "  <tbody>\n",
       "    <tr>\n",
       "      <th>0</th>\n",
       "      <td>220</td>\n",
       "      <td>144.0</td>\n",
       "      <td>2535.887591</td>\n",
       "      <td>2009</td>\n",
       "      <td>16.642943</td>\n",
       "    </tr>\n",
       "    <tr>\n",
       "      <th>1</th>\n",
       "      <td>160</td>\n",
       "      <td>141.0</td>\n",
       "      <td>2741.170484</td>\n",
       "      <td>2019</td>\n",
       "      <td>16.298377</td>\n",
       "    </tr>\n",
       "    <tr>\n",
       "      <th>2</th>\n",
       "      <td>230</td>\n",
       "      <td>155.0</td>\n",
       "      <td>2471.880237</td>\n",
       "      <td>2017</td>\n",
       "      <td>18.591822</td>\n",
       "    </tr>\n",
       "  </tbody>\n",
       "</table>\n",
       "</div>"
      ],
      "text/plain": [
       "   engine_displacement  horsepower  vehicle_weight  model_year  \\\n",
       "0                  220       144.0     2535.887591        2009   \n",
       "1                  160       141.0     2741.170484        2019   \n",
       "2                  230       155.0     2471.880237        2017   \n",
       "\n",
       "   fuel_efficiency_mpg  \n",
       "0            16.642943  \n",
       "1            16.298377  \n",
       "2            18.591822  "
      ]
     },
     "execution_count": 193,
     "metadata": {},
     "output_type": "execute_result"
    }
   ],
   "source": [
    "df_train.head(3)"
   ]
  },
  {
   "cell_type": "code",
   "execution_count": 139,
   "id": "6bacc44a-b896-4e65-8bd4-16a3572088d0",
   "metadata": {},
   "outputs": [
    {
     "data": {
      "text/plain": [
       "engine_displacement      0\n",
       "horsepower             429\n",
       "vehicle_weight           0\n",
       "model_year               0\n",
       "fuel_efficiency_mpg      0\n",
       "dtype: int64"
      ]
     },
     "execution_count": 139,
     "metadata": {},
     "output_type": "execute_result"
    }
   ],
   "source": [
    "df_train.isna().sum()"
   ]
  },
  {
   "cell_type": "code",
   "execution_count": 140,
   "id": "10bd839a-55f8-41a6-a062-0edfecebe324",
   "metadata": {},
   "outputs": [],
   "source": [
    "y_train = df_train.fuel_efficiency_mpg\n",
    "y_val = df_val.fuel_efficiency_mpg\n",
    "y_test = df_test.fuel_efficiency_mpg"
   ]
  },
  {
   "cell_type": "code",
   "execution_count": 141,
   "id": "5f44d669-4c9e-4d5f-b465-fc428b2ff95b",
   "metadata": {},
   "outputs": [
    {
     "data": {
      "text/plain": [
       "0       16.642943\n",
       "1       16.298377\n",
       "2       18.591822\n",
       "3       11.818843\n",
       "4       19.402209\n",
       "          ...    \n",
       "5819    16.964054\n",
       "5820    10.059094\n",
       "5821    17.593237\n",
       "5822    18.925748\n",
       "5823    17.965284\n",
       "Name: fuel_efficiency_mpg, Length: 5824, dtype: float64"
      ]
     },
     "execution_count": 141,
     "metadata": {},
     "output_type": "execute_result"
    }
   ],
   "source": [
    "y_train"
   ]
  },
  {
   "cell_type": "code",
   "execution_count": 142,
   "id": "37e8d2b4-0b25-4d33-907a-15b6d93d9403",
   "metadata": {},
   "outputs": [],
   "source": [
    "del df_train['fuel_efficiency_mpg']\n",
    "del df_val['fuel_efficiency_mpg']\n",
    "del df_test['fuel_efficiency_mpg']"
   ]
  },
  {
   "cell_type": "code",
   "execution_count": null,
   "id": "cef6037c-5305-48e3-81df-d3556856debb",
   "metadata": {},
   "outputs": [],
   "source": []
  },
  {
   "cell_type": "markdown",
   "id": "fd079e0b-3252-40ae-978f-e6d13f9f67fe",
   "metadata": {},
   "source": [
    "#### Let's fill missing values"
   ]
  },
  {
   "cell_type": "markdown",
   "id": "ae5cbea1-9147-4659-b8aa-cf2fffb90bec",
   "metadata": {},
   "source": [
    "#### ====== Using 0 ======"
   ]
  },
  {
   "cell_type": "code",
   "execution_count": 143,
   "id": "f1e39fd8-f596-4bfb-aaea-833796dea07c",
   "metadata": {},
   "outputs": [
    {
     "data": {
      "text/plain": [
       "engine_displacement    0\n",
       "horsepower             0\n",
       "vehicle_weight         0\n",
       "model_year             0\n",
       "dtype: int64"
      ]
     },
     "execution_count": 143,
     "metadata": {},
     "output_type": "execute_result"
    }
   ],
   "source": [
    "df_train0 = df_train.fillna(0)\n",
    "df_val0 = df_val.fillna(0)\n",
    "df_test0 = df_test.fillna(0)\n",
    "\n",
    "df_val0.isna().sum()"
   ]
  },
  {
   "cell_type": "code",
   "execution_count": 163,
   "id": "5fb01e80-efcf-49bd-93e9-4cd7653492ef",
   "metadata": {},
   "outputs": [],
   "source": [
    "# Let's update our prep function one more time\n",
    "def prepare_X(df):\n",
    "    df = df.copy()\n",
    "    max_year = df.model_year.max()\n",
    "    df['age'] = max_year - df.model_year\n",
    "    del df['model_year']\n",
    "    features = list(df.columns)\n",
    "    df_numerical = df[features]\n",
    "    X = df_numerical.values\n",
    "    return X"
   ]
  },
  {
   "cell_type": "code",
   "execution_count": 164,
   "id": "50f2e7f1-3938-42b7-8ff7-6d4a10ba6901",
   "metadata": {},
   "outputs": [],
   "source": [
    "# prepare_X(df_train0)"
   ]
  },
  {
   "cell_type": "code",
   "execution_count": 159,
   "id": "858ffe7e-ac38-4671-aae8-6ce6339c509e",
   "metadata": {},
   "outputs": [],
   "source": [
    "def train_lR(X, y):\n",
    "    # Now we need the element at X = 1, for w0\n",
    "    ones = np.ones(X.shape[0])\n",
    "    X = np.column_stack([ones, X])\n",
    "    XTX = X.T.dot(X)\n",
    "    XTX_inv = np.linalg.inv(XTX)\n",
    "    # Now to approximate the weights\n",
    "    w__ = XTX_inv.dot(X.T).dot(y)\n",
    "    w0 = w__[0]\n",
    "    w = w__[1:]\n",
    "    return (w0, w)"
   ]
  },
  {
   "cell_type": "code",
   "execution_count": 160,
   "id": "7a5e1aab-87c4-489b-9724-2bf5c94dc5ab",
   "metadata": {},
   "outputs": [],
   "source": [
    "# Let's create our rmse\n",
    "def rmse(y, y_pred):\n",
    "    se = (y - y_pred) ** 2\n",
    "    mse = se.mean()\n",
    "    return np.sqrt(mse)"
   ]
  },
  {
   "cell_type": "code",
   "execution_count": 161,
   "id": "d73df4d1-2028-4e92-9971-a76c6477cd69",
   "metadata": {},
   "outputs": [],
   "source": [
    "X_train0 = prepare_X(df_train0)\n",
    "w0, w = train_lR(X_train0, y_train)\n",
    "\n",
    "X_val0 = prepare_X(df_val0)\n",
    "y_pred = w0 + X_val0.dot(w)\n",
    "\n",
    "score0 = np.round(rmse(y_val, y_pred), 2).item() #"
   ]
  },
  {
   "cell_type": "code",
   "execution_count": 162,
   "id": "4ddc035f-6b7e-4da6-a174-2029d01aa31f",
   "metadata": {},
   "outputs": [
    {
     "data": {
      "text/plain": [
       "0.52"
      ]
     },
     "execution_count": 162,
     "metadata": {},
     "output_type": "execute_result"
    }
   ],
   "source": [
    "score0"
   ]
  },
  {
   "cell_type": "markdown",
   "id": "4ad557a7-e6d1-46aa-a4b6-863eb57ac68b",
   "metadata": {},
   "source": [
    "#### ====== Using Mean ======"
   ]
  },
  {
   "cell_type": "code",
   "execution_count": 170,
   "id": "8ffb67db-ab9b-4499-8cd1-d881415ac4cd",
   "metadata": {},
   "outputs": [
    {
     "data": {
      "text/plain": [
       "engine_displacement      0\n",
       "horsepower             143\n",
       "vehicle_weight           0\n",
       "model_year               0\n",
       "dtype: int64"
      ]
     },
     "execution_count": 170,
     "metadata": {},
     "output_type": "execute_result"
    }
   ],
   "source": [
    "df_test.isna().sum()"
   ]
  },
  {
   "cell_type": "code",
   "execution_count": 173,
   "id": "7935b8c3-2372-4498-890b-9e0fb67c65fc",
   "metadata": {},
   "outputs": [
    {
     "data": {
      "text/plain": [
       "np.float64(149.61825264329437)"
      ]
     },
     "execution_count": 173,
     "metadata": {},
     "output_type": "execute_result"
    }
   ],
   "source": [
    "df_test.horsepower.mean()"
   ]
  },
  {
   "cell_type": "code",
   "execution_count": 174,
   "id": "09bb2c25-612a-4d72-995f-815671e7681e",
   "metadata": {},
   "outputs": [
    {
     "data": {
      "text/plain": [
       "engine_displacement    0\n",
       "horsepower             0\n",
       "vehicle_weight         0\n",
       "model_year             0\n",
       "dtype: int64"
      ]
     },
     "execution_count": 174,
     "metadata": {},
     "output_type": "execute_result"
    }
   ],
   "source": [
    "df_trainM = df_train.fillna(df_train.horsepower.mean())\n",
    "df_valM = df_val.fillna(df_train.horsepower.mean())\n",
    "df_test0M = df_test.fillna(df_train.horsepower.mean())\n",
    "\n",
    "df_valM.isna().sum()"
   ]
  },
  {
   "cell_type": "code",
   "execution_count": 175,
   "id": "6e6e1081-aa5f-401f-80be-75c40c94950d",
   "metadata": {},
   "outputs": [],
   "source": [
    "X_trainM = prepare_X(df_trainM)\n",
    "w0_M, w_M = train_lR(X_trainM, y_train)\n",
    "\n",
    "X_valM = prepare_X(df_valM)\n",
    "y_predM = w0_M + X_valM.dot(w_M)\n",
    "\n",
    "scoreM = np.round(rmse(y_val, y_predM), 2).item() #"
   ]
  },
  {
   "cell_type": "code",
   "execution_count": 176,
   "id": "ba650079-e289-4780-957f-3a4821151970",
   "metadata": {},
   "outputs": [
    {
     "data": {
      "text/plain": [
       "0.46"
      ]
     },
     "execution_count": 176,
     "metadata": {},
     "output_type": "execute_result"
    }
   ],
   "source": [
    "scoreM"
   ]
  },
  {
   "cell_type": "markdown",
   "id": "6ea1a5f3-6bfe-4755-8fe2-ebce35563224",
   "metadata": {},
   "source": [
    "#### Both RMSE values are good, but that of mean is better"
   ]
  },
  {
   "cell_type": "markdown",
   "id": "fea73364-6981-4289-8eb0-46075d929d6c",
   "metadata": {},
   "source": [
    "### Q4:"
   ]
  },
  {
   "cell_type": "code",
   "execution_count": 177,
   "id": "6d22162d-9d77-4c86-9cf1-f61f09f68227",
   "metadata": {},
   "outputs": [],
   "source": [
    "# Lets try some regularization"
   ]
  },
  {
   "cell_type": "code",
   "execution_count": 178,
   "id": "04a9bbb6-8078-4d32-b3dc-575e8187b1cb",
   "metadata": {},
   "outputs": [],
   "source": [
    "def train_lR_reg(X, y, r=0.001):\n",
    "    ones = np.ones(X.shape[0])\n",
    "    X = np.column_stack([ones, X])\n",
    "\n",
    "    XTX = X.T.dot(X)\n",
    "    eye = r * np.eye(XTX.shape[0])    \n",
    "    XTX = XTX + eye\n",
    "    \n",
    "    XTX_inv = np.linalg.inv(XTX)\n",
    "    \n",
    "    # Now to approximate the weights\n",
    "    w__ = XTX_inv.dot(X.T).dot(y)\n",
    "    w0 = w__[0]\n",
    "    w = w__[1:]\n",
    "    return (w0, w)"
   ]
  },
  {
   "cell_type": "code",
   "execution_count": 185,
   "id": "1472173b-8875-4386-a364-dd3afcc49a10",
   "metadata": {},
   "outputs": [
    {
     "name": "stdout",
     "output_type": "stream",
     "text": [
      "0:  0.517378\n",
      "0.01:  0.517375\n",
      "0.1:  0.51736\n",
      "1:  0.518738\n",
      "5:  0.553631\n",
      "10:  0.640757\n",
      "100:  2.058982\n"
     ]
    }
   ],
   "source": [
    "for r in [0, 0.01, 0.1, 1, 5, 10, 100]:\n",
    "    X_train0 = prepare_X(df_train0)\n",
    "    w0, w = train_lR_reg(X_train0, y_train, r=r) #r can be changed to find the best spot\n",
    "    \n",
    "    X_val0 = prepare_X(df_val0)\n",
    "    y_pred = w0 + X_val0.dot(w)\n",
    "    \n",
    "    score_reg = np.round(rmse(y_val, y_pred), 6).item()\n",
    "    print(str(r) +': ', score_reg)"
   ]
  },
  {
   "cell_type": "markdown",
   "id": "e6044451-1367-4623-a528-086068c3b40b",
   "metadata": {},
   "source": [
    "#### The best regularization was 0.01"
   ]
  },
  {
   "cell_type": "code",
   "execution_count": null,
   "id": "a8696fdf-2ba9-4116-8302-b447d4b4d8e2",
   "metadata": {},
   "outputs": [],
   "source": []
  },
  {
   "cell_type": "markdown",
   "id": "61a08fa9-4dfe-436f-9d2f-6a670eee7b82",
   "metadata": {},
   "source": [
    "### Q5:"
   ]
  },
  {
   "cell_type": "code",
   "execution_count": null,
   "id": "59027bbd-62b6-4331-8a98-183f4e5783a1",
   "metadata": {},
   "outputs": [],
   "source": []
  },
  {
   "cell_type": "code",
   "execution_count": 205,
   "id": "f5f0a0fc-848b-4cf4-a0b3-ec5b2350229a",
   "metadata": {},
   "outputs": [],
   "source": [
    "def split_df(df, seed):\n",
    "    idx = np.arange(n)\n",
    "    np.random.seed(seed)\n",
    "    np.random.shuffle(idx) # shuffle index values to be random\n",
    "    idx\n",
    "    \n",
    "    # subset the data frame to extract the sections of the indicies\n",
    "    df_train = df.iloc[idx[:n_train]]\n",
    "    df_val = df.iloc[idx[n_train:n_train+n_val]]\n",
    "    df_test = df.iloc[idx[n_train+n_val:]]\n",
    "\n",
    "    # Reset each split to a stand alone df\n",
    "    df_train = df_train.reset_index(drop=True)\n",
    "    df_val = df_val.reset_index(drop=True)\n",
    "    df_test = df_test.reset_index(drop=True)\n",
    "\n",
    "    y_train = df_train.fuel_efficiency_mpg\n",
    "    y_val = df_val.fuel_efficiency_mpg\n",
    "    y_test = df_test.fuel_efficiency_mpg\n",
    "\n",
    "    del df_train['fuel_efficiency_mpg']\n",
    "    del df_val['fuel_efficiency_mpg']\n",
    "    del df_test['fuel_efficiency_mpg']\n",
    "\n",
    "    # Quickly fill null values with 0\n",
    "    df_train0 = df_train.fillna(0)\n",
    "    df_val0 = df_val.fillna(0)\n",
    "    df_test0 = df_test.fillna(0)\n",
    "\n",
    "    return (df_train0, df_val0, df_test0), (y_train, y_val, y_test)"
   ]
  },
  {
   "cell_type": "code",
   "execution_count": null,
   "id": "e9e976a0-c5f6-4b0c-93fa-b32b90547d54",
   "metadata": {},
   "outputs": [],
   "source": []
  },
  {
   "cell_type": "code",
   "execution_count": 206,
   "id": "58cb05ed-6f26-4496-821b-26b7bf14adee",
   "metadata": {},
   "outputs": [],
   "source": [
    "# Testing....\n",
    "fM, t = split_df(df, 42)"
   ]
  },
  {
   "cell_type": "code",
   "execution_count": 207,
   "id": "894bd0eb-3502-4c7d-ac82-ab435c99c860",
   "metadata": {},
   "outputs": [
    {
     "data": {
      "text/html": [
       "<div>\n",
       "<style scoped>\n",
       "    .dataframe tbody tr th:only-of-type {\n",
       "        vertical-align: middle;\n",
       "    }\n",
       "\n",
       "    .dataframe tbody tr th {\n",
       "        vertical-align: top;\n",
       "    }\n",
       "\n",
       "    .dataframe thead th {\n",
       "        text-align: right;\n",
       "    }\n",
       "</style>\n",
       "<table border=\"1\" class=\"dataframe\">\n",
       "  <thead>\n",
       "    <tr style=\"text-align: right;\">\n",
       "      <th></th>\n",
       "      <th>engine_displacement</th>\n",
       "      <th>horsepower</th>\n",
       "      <th>vehicle_weight</th>\n",
       "      <th>model_year</th>\n",
       "    </tr>\n",
       "  </thead>\n",
       "  <tbody>\n",
       "    <tr>\n",
       "      <th>0</th>\n",
       "      <td>220</td>\n",
       "      <td>144.0</td>\n",
       "      <td>2535.887591</td>\n",
       "      <td>2009</td>\n",
       "    </tr>\n",
       "    <tr>\n",
       "      <th>1</th>\n",
       "      <td>160</td>\n",
       "      <td>141.0</td>\n",
       "      <td>2741.170484</td>\n",
       "      <td>2019</td>\n",
       "    </tr>\n",
       "    <tr>\n",
       "      <th>2</th>\n",
       "      <td>230</td>\n",
       "      <td>155.0</td>\n",
       "      <td>2471.880237</td>\n",
       "      <td>2017</td>\n",
       "    </tr>\n",
       "  </tbody>\n",
       "</table>\n",
       "</div>"
      ],
      "text/plain": [
       "   engine_displacement  horsepower  vehicle_weight  model_year\n",
       "0                  220       144.0     2535.887591        2009\n",
       "1                  160       141.0     2741.170484        2019\n",
       "2                  230       155.0     2471.880237        2017"
      ]
     },
     "execution_count": 207,
     "metadata": {},
     "output_type": "execute_result"
    }
   ],
   "source": [
    "fM[0].head(3)"
   ]
  },
  {
   "cell_type": "code",
   "execution_count": 208,
   "id": "05118794-0024-4929-8aa3-1da691c023b3",
   "metadata": {},
   "outputs": [
    {
     "data": {
      "text/plain": [
       "engine_displacement    0\n",
       "horsepower             0\n",
       "vehicle_weight         0\n",
       "model_year             0\n",
       "dtype: int64"
      ]
     },
     "execution_count": 208,
     "metadata": {},
     "output_type": "execute_result"
    }
   ],
   "source": [
    "fM[0].isna().sum()"
   ]
  },
  {
   "cell_type": "code",
   "execution_count": null,
   "id": "6cf92644-215e-4db5-9378-8a47bbed6017",
   "metadata": {},
   "outputs": [],
   "source": []
  },
  {
   "cell_type": "code",
   "execution_count": 211,
   "id": "63ec6c24-50d1-404a-8c07-0d21eec75b97",
   "metadata": {},
   "outputs": [
    {
     "name": "stdout",
     "output_type": "stream",
     "text": [
      "0:  0.521\n",
      "1:  0.521\n",
      "2:  0.523\n",
      "3:  0.516\n",
      "4:  0.511\n",
      "5:  0.528\n",
      "6:  0.531\n",
      "7:  0.509\n",
      "8:  0.515\n",
      "9:  0.513\n"
     ]
    }
   ],
   "source": [
    "scores = []\n",
    "\n",
    "for s in [0, 1, 2, 3, 4, 5, 6, 7, 8, 9]:\n",
    "    fM, targets = split_df(df, s)\n",
    "    \n",
    "    X_train = prepare_X(fM[0])\n",
    "    w0, w = train_lR(X_train, targets[0])\n",
    "    \n",
    "    X_val = prepare_X(fM[1])\n",
    "    y_pred = w0 + X_val.dot(w)\n",
    "    \n",
    "    score = np.round(rmse(targets[1], y_pred), 3).item()\n",
    "    scores.append(score)\n",
    "    print(str(s) + ': ', score)"
   ]
  },
  {
   "cell_type": "code",
   "execution_count": 214,
   "id": "c0532878-a809-4ecc-8a3b-7238dbd83196",
   "metadata": {},
   "outputs": [],
   "source": [
    "sc = np.array(scores)"
   ]
  },
  {
   "cell_type": "code",
   "execution_count": 218,
   "id": "961a0c3a-b4f1-41f7-913b-b6b0280e703a",
   "metadata": {},
   "outputs": [
    {
     "data": {
      "text/plain": [
       "np.float64(0.0069)"
      ]
     },
     "execution_count": 218,
     "metadata": {},
     "output_type": "execute_result"
    }
   ],
   "source": [
    "np.round(np.std(sc),4)"
   ]
  },
  {
   "cell_type": "markdown",
   "id": "67c219a9-7fc2-4ff9-a3f6-9134df14da5f",
   "metadata": {},
   "source": [
    "#### Std is ~ closer to 0.006"
   ]
  },
  {
   "cell_type": "code",
   "execution_count": null,
   "id": "53c225a5-8397-4d58-9553-cfe9b4a636a0",
   "metadata": {},
   "outputs": [],
   "source": []
  },
  {
   "cell_type": "markdown",
   "id": "31c37d27-cd96-483b-9f59-abbdbebf7a2a",
   "metadata": {},
   "source": [
    "### Q6:"
   ]
  },
  {
   "cell_type": "code",
   "execution_count": 235,
   "id": "4ceefca5-1fe9-4afa-8377-ec283e9872b4",
   "metadata": {},
   "outputs": [],
   "source": [
    "fM_9, targets_9 = split_df(df, 9)"
   ]
  },
  {
   "cell_type": "code",
   "execution_count": 236,
   "id": "a062a871-6d4d-4a36-a18f-6fc8b0caa9ca",
   "metadata": {},
   "outputs": [
    {
     "data": {
      "text/html": [
       "<div>\n",
       "<style scoped>\n",
       "    .dataframe tbody tr th:only-of-type {\n",
       "        vertical-align: middle;\n",
       "    }\n",
       "\n",
       "    .dataframe tbody tr th {\n",
       "        vertical-align: top;\n",
       "    }\n",
       "\n",
       "    .dataframe thead th {\n",
       "        text-align: right;\n",
       "    }\n",
       "</style>\n",
       "<table border=\"1\" class=\"dataframe\">\n",
       "  <thead>\n",
       "    <tr style=\"text-align: right;\">\n",
       "      <th></th>\n",
       "      <th>engine_displacement</th>\n",
       "      <th>horsepower</th>\n",
       "      <th>vehicle_weight</th>\n",
       "      <th>model_year</th>\n",
       "    </tr>\n",
       "  </thead>\n",
       "  <tbody>\n",
       "    <tr>\n",
       "      <th>0</th>\n",
       "      <td>240</td>\n",
       "      <td>136.0</td>\n",
       "      <td>4050.512290</td>\n",
       "      <td>2006</td>\n",
       "    </tr>\n",
       "    <tr>\n",
       "      <th>1</th>\n",
       "      <td>190</td>\n",
       "      <td>141.0</td>\n",
       "      <td>3195.866942</td>\n",
       "      <td>2017</td>\n",
       "    </tr>\n",
       "    <tr>\n",
       "      <th>2</th>\n",
       "      <td>200</td>\n",
       "      <td>184.0</td>\n",
       "      <td>3006.164370</td>\n",
       "      <td>2017</td>\n",
       "    </tr>\n",
       "  </tbody>\n",
       "</table>\n",
       "</div>"
      ],
      "text/plain": [
       "   engine_displacement  horsepower  vehicle_weight  model_year\n",
       "0                  240       136.0     4050.512290        2006\n",
       "1                  190       141.0     3195.866942        2017\n",
       "2                  200       184.0     3006.164370        2017"
      ]
     },
     "execution_count": 236,
     "metadata": {},
     "output_type": "execute_result"
    }
   ],
   "source": [
    "fM_9[0].head(3)"
   ]
  },
  {
   "cell_type": "code",
   "execution_count": 222,
   "id": "5a01c194-3807-47e6-aaeb-2bec62fbfb73",
   "metadata": {},
   "outputs": [],
   "source": [
    "df_full_train = pd.concat([fM_9[0], fM_9[1]])"
   ]
  },
  {
   "cell_type": "code",
   "execution_count": 223,
   "id": "0de18c16-bb3b-4854-ac9b-4aafa1009429",
   "metadata": {},
   "outputs": [],
   "source": [
    "df_full_train = df_full_train.reset_index(drop=True) #Resets the index and drops that column"
   ]
  },
  {
   "cell_type": "code",
   "execution_count": 225,
   "id": "38284f23-696d-448e-a702-5e170eeb8a9e",
   "metadata": {},
   "outputs": [
    {
     "data": {
      "text/html": [
       "<div>\n",
       "<style scoped>\n",
       "    .dataframe tbody tr th:only-of-type {\n",
       "        vertical-align: middle;\n",
       "    }\n",
       "\n",
       "    .dataframe tbody tr th {\n",
       "        vertical-align: top;\n",
       "    }\n",
       "\n",
       "    .dataframe thead th {\n",
       "        text-align: right;\n",
       "    }\n",
       "</style>\n",
       "<table border=\"1\" class=\"dataframe\">\n",
       "  <thead>\n",
       "    <tr style=\"text-align: right;\">\n",
       "      <th></th>\n",
       "      <th>engine_displacement</th>\n",
       "      <th>horsepower</th>\n",
       "      <th>vehicle_weight</th>\n",
       "      <th>model_year</th>\n",
       "    </tr>\n",
       "  </thead>\n",
       "  <tbody>\n",
       "    <tr>\n",
       "      <th>7761</th>\n",
       "      <td>180</td>\n",
       "      <td>154.0</td>\n",
       "      <td>3346.965671</td>\n",
       "      <td>2018</td>\n",
       "    </tr>\n",
       "    <tr>\n",
       "      <th>7762</th>\n",
       "      <td>210</td>\n",
       "      <td>152.0</td>\n",
       "      <td>2500.175687</td>\n",
       "      <td>2020</td>\n",
       "    </tr>\n",
       "    <tr>\n",
       "      <th>7763</th>\n",
       "      <td>260</td>\n",
       "      <td>174.0</td>\n",
       "      <td>2702.257301</td>\n",
       "      <td>2011</td>\n",
       "    </tr>\n",
       "  </tbody>\n",
       "</table>\n",
       "</div>"
      ],
      "text/plain": [
       "      engine_displacement  horsepower  vehicle_weight  model_year\n",
       "7761                  180       154.0     3346.965671        2018\n",
       "7762                  210       152.0     2500.175687        2020\n",
       "7763                  260       174.0     2702.257301        2011"
      ]
     },
     "execution_count": 225,
     "metadata": {},
     "output_type": "execute_result"
    }
   ],
   "source": [
    "df_full_train.tail(3)"
   ]
  },
  {
   "cell_type": "code",
   "execution_count": 230,
   "id": "a72fe8b2-e6d2-4a5c-a15a-003c14a5be74",
   "metadata": {},
   "outputs": [
    {
     "data": {
      "text/plain": [
       "(5824, 1940)"
      ]
     },
     "execution_count": 230,
     "metadata": {},
     "output_type": "execute_result"
    }
   ],
   "source": [
    "len(y_train), len(y_val)"
   ]
  },
  {
   "cell_type": "code",
   "execution_count": 237,
   "id": "3de1e075-fa16-44eb-9a46-272b81c173e1",
   "metadata": {},
   "outputs": [],
   "source": [
    "y_train = targets_9[0]\n",
    "y_val = targets_9[1]\n",
    "\n",
    "y_full_train = np.concatenate([y_train, y_val])"
   ]
  },
  {
   "cell_type": "code",
   "execution_count": 238,
   "id": "eac6730f-9c08-4584-a717-b5302bfdc776",
   "metadata": {},
   "outputs": [
    {
     "data": {
      "text/plain": [
       "7764"
      ]
     },
     "execution_count": 238,
     "metadata": {},
     "output_type": "execute_result"
    }
   ],
   "source": [
    "len(y_full_train)"
   ]
  },
  {
   "cell_type": "code",
   "execution_count": 239,
   "id": "d6a74994-bcca-4868-924b-a8bc62143062",
   "metadata": {},
   "outputs": [
    {
     "data": {
      "text/plain": [
       "engine_displacement    0\n",
       "horsepower             0\n",
       "vehicle_weight         0\n",
       "model_year             0\n",
       "dtype: int64"
      ]
     },
     "execution_count": 239,
     "metadata": {},
     "output_type": "execute_result"
    }
   ],
   "source": [
    "df_full_train.isna().sum()"
   ]
  },
  {
   "cell_type": "code",
   "execution_count": 240,
   "id": "5f536a2a-df87-408a-91f8-d5d127c19279",
   "metadata": {},
   "outputs": [],
   "source": [
    "X_full_train =  prepare_X(df_full_train)"
   ]
  },
  {
   "cell_type": "code",
   "execution_count": 241,
   "id": "1c91ecc7-02ea-40e5-a785-9b42f84300c7",
   "metadata": {},
   "outputs": [],
   "source": [
    "w0, w = train_lR_reg(X_full_train, y_full_train, r=0.001) #r can be changed to find the best spot"
   ]
  },
  {
   "cell_type": "code",
   "execution_count": 243,
   "id": "8cc1cc79-67fd-4c4c-baf6-e7eb5c06b0bd",
   "metadata": {},
   "outputs": [
    {
     "data": {
      "text/plain": [
       "0.516"
      ]
     },
     "execution_count": 243,
     "metadata": {},
     "output_type": "execute_result"
    }
   ],
   "source": [
    "df_test = fM_9[2]\n",
    "y_test = targets_9[2]\n",
    "\n",
    "X_test = prepare_X(df_test)\n",
    "y_pred = w0 + X_test.dot(w)\n",
    "\n",
    "score = np.round(rmse(y_test, y_pred), 3).item()\n",
    "score #Pretty good score achieved!"
   ]
  },
  {
   "cell_type": "markdown",
   "id": "b13917ac-98b9-4fdb-894e-16132b575ec5",
   "metadata": {},
   "source": [
    "#### Pretty close RMSE value at ~ 0.516 close to answer of 0.515"
   ]
  },
  {
   "cell_type": "code",
   "execution_count": null,
   "id": "71d7f03d-3196-4d0d-897a-9977e9c2238e",
   "metadata": {},
   "outputs": [],
   "source": []
  }
 ],
 "metadata": {
  "kernelspec": {
   "display_name": "Python 3 (ipykernel)",
   "language": "python",
   "name": "python3"
  },
  "language_info": {
   "codemirror_mode": {
    "name": "ipython",
    "version": 3
   },
   "file_extension": ".py",
   "mimetype": "text/x-python",
   "name": "python",
   "nbconvert_exporter": "python",
   "pygments_lexer": "ipython3",
   "version": "3.12.11"
  }
 },
 "nbformat": 4,
 "nbformat_minor": 5
}
