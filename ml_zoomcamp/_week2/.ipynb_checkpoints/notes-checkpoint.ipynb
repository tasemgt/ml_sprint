{
 "cells": [
  {
   "cell_type": "code",
   "execution_count": 1,
   "id": "07e18441-ac55-4dd7-be12-8909454a5428",
   "metadata": {},
   "outputs": [
    {
     "name": "stdout",
     "output_type": "stream",
     "text": [
      "/opt/anaconda3/envs/ml_/bin/python\n"
     ]
    }
   ],
   "source": [
    "!which python"
   ]
  },
  {
   "cell_type": "markdown",
   "id": "415a897e-41bd-4e92-8e09-7c613efd2792",
   "metadata": {},
   "source": [
    "### 2 REGRESSION\n",
    "\n",
    "#### 2.2: Data Preparation"
   ]
  },
  {
   "cell_type": "code",
   "execution_count": 38,
   "id": "3157227f-2b8b-41f8-a32f-cf6512d859df",
   "metadata": {},
   "outputs": [],
   "source": [
    "# !pip install seaborn"
   ]
  },
  {
   "cell_type": "code",
   "execution_count": 39,
   "id": "2450b68e-0d72-4563-b04a-94a149189848",
   "metadata": {},
   "outputs": [],
   "source": [
    "import pandas as pd\n",
    "import numpy as np\n",
    "\n",
    "import matplotlib.pyplot as plt\n",
    "import seaborn as sns\n",
    "\n",
    "%matplotlib inline"
   ]
  },
  {
   "cell_type": "code",
   "execution_count": 6,
   "id": "a8321467-04c6-4ad4-96f0-ec553a1f25d2",
   "metadata": {},
   "outputs": [],
   "source": [
    "df = pd.read_csv('../data/cars.csv')"
   ]
  },
  {
   "cell_type": "code",
   "execution_count": 8,
   "id": "61501c28-3cc0-43d7-9cac-dc586b4f8c3d",
   "metadata": {},
   "outputs": [
    {
     "data": {
      "text/html": [
       "<div>\n",
       "<style scoped>\n",
       "    .dataframe tbody tr th:only-of-type {\n",
       "        vertical-align: middle;\n",
       "    }\n",
       "\n",
       "    .dataframe tbody tr th {\n",
       "        vertical-align: top;\n",
       "    }\n",
       "\n",
       "    .dataframe thead th {\n",
       "        text-align: right;\n",
       "    }\n",
       "</style>\n",
       "<table border=\"1\" class=\"dataframe\">\n",
       "  <thead>\n",
       "    <tr style=\"text-align: right;\">\n",
       "      <th></th>\n",
       "      <th>Make</th>\n",
       "      <th>Model</th>\n",
       "      <th>Year</th>\n",
       "      <th>Engine Fuel Type</th>\n",
       "      <th>Engine HP</th>\n",
       "      <th>Engine Cylinders</th>\n",
       "      <th>Transmission Type</th>\n",
       "      <th>Driven_Wheels</th>\n",
       "      <th>Number of Doors</th>\n",
       "      <th>Market Category</th>\n",
       "      <th>Vehicle Size</th>\n",
       "      <th>Vehicle Style</th>\n",
       "      <th>highway MPG</th>\n",
       "      <th>city mpg</th>\n",
       "      <th>Popularity</th>\n",
       "      <th>MSRP</th>\n",
       "    </tr>\n",
       "  </thead>\n",
       "  <tbody>\n",
       "    <tr>\n",
       "      <th>0</th>\n",
       "      <td>BMW</td>\n",
       "      <td>1 Series M</td>\n",
       "      <td>2011</td>\n",
       "      <td>premium unleaded (required)</td>\n",
       "      <td>335.0</td>\n",
       "      <td>6.0</td>\n",
       "      <td>MANUAL</td>\n",
       "      <td>rear wheel drive</td>\n",
       "      <td>2.0</td>\n",
       "      <td>Factory Tuner,Luxury,High-Performance</td>\n",
       "      <td>Compact</td>\n",
       "      <td>Coupe</td>\n",
       "      <td>26</td>\n",
       "      <td>19</td>\n",
       "      <td>3916</td>\n",
       "      <td>46135</td>\n",
       "    </tr>\n",
       "    <tr>\n",
       "      <th>1</th>\n",
       "      <td>BMW</td>\n",
       "      <td>1 Series</td>\n",
       "      <td>2011</td>\n",
       "      <td>premium unleaded (required)</td>\n",
       "      <td>300.0</td>\n",
       "      <td>6.0</td>\n",
       "      <td>MANUAL</td>\n",
       "      <td>rear wheel drive</td>\n",
       "      <td>2.0</td>\n",
       "      <td>Luxury,Performance</td>\n",
       "      <td>Compact</td>\n",
       "      <td>Convertible</td>\n",
       "      <td>28</td>\n",
       "      <td>19</td>\n",
       "      <td>3916</td>\n",
       "      <td>40650</td>\n",
       "    </tr>\n",
       "    <tr>\n",
       "      <th>2</th>\n",
       "      <td>BMW</td>\n",
       "      <td>1 Series</td>\n",
       "      <td>2011</td>\n",
       "      <td>premium unleaded (required)</td>\n",
       "      <td>300.0</td>\n",
       "      <td>6.0</td>\n",
       "      <td>MANUAL</td>\n",
       "      <td>rear wheel drive</td>\n",
       "      <td>2.0</td>\n",
       "      <td>Luxury,High-Performance</td>\n",
       "      <td>Compact</td>\n",
       "      <td>Coupe</td>\n",
       "      <td>28</td>\n",
       "      <td>20</td>\n",
       "      <td>3916</td>\n",
       "      <td>36350</td>\n",
       "    </tr>\n",
       "  </tbody>\n",
       "</table>\n",
       "</div>"
      ],
      "text/plain": [
       "  Make       Model  Year             Engine Fuel Type  Engine HP  \\\n",
       "0  BMW  1 Series M  2011  premium unleaded (required)      335.0   \n",
       "1  BMW    1 Series  2011  premium unleaded (required)      300.0   \n",
       "2  BMW    1 Series  2011  premium unleaded (required)      300.0   \n",
       "\n",
       "   Engine Cylinders Transmission Type     Driven_Wheels  Number of Doors  \\\n",
       "0               6.0            MANUAL  rear wheel drive              2.0   \n",
       "1               6.0            MANUAL  rear wheel drive              2.0   \n",
       "2               6.0            MANUAL  rear wheel drive              2.0   \n",
       "\n",
       "                         Market Category Vehicle Size Vehicle Style  \\\n",
       "0  Factory Tuner,Luxury,High-Performance      Compact         Coupe   \n",
       "1                     Luxury,Performance      Compact   Convertible   \n",
       "2                Luxury,High-Performance      Compact         Coupe   \n",
       "\n",
       "   highway MPG  city mpg  Popularity   MSRP  \n",
       "0           26        19        3916  46135  \n",
       "1           28        19        3916  40650  \n",
       "2           28        20        3916  36350  "
      ]
     },
     "execution_count": 8,
     "metadata": {},
     "output_type": "execute_result"
    }
   ],
   "source": [
    "df.head(3)"
   ]
  },
  {
   "cell_type": "markdown",
   "id": "79269559-5baf-4a44-9245-1cc5c8e340ae",
   "metadata": {},
   "source": [
    "#### Lets implement some data cleaning to ensure consistency"
   ]
  },
  {
   "cell_type": "code",
   "execution_count": 10,
   "id": "786b6cc2-4910-4433-b6b5-540018b2819f",
   "metadata": {},
   "outputs": [
    {
     "data": {
      "text/plain": [
       "Index(['Make', 'Model', 'Year', 'Engine Fuel Type', 'Engine HP',\n",
       "       'Engine Cylinders', 'Transmission Type', 'Driven_Wheels',\n",
       "       'Number of Doors', 'Market Category', 'Vehicle Size', 'Vehicle Style',\n",
       "       'highway MPG', 'city mpg', 'Popularity', 'MSRP'],\n",
       "      dtype='object')"
      ]
     },
     "execution_count": 10,
     "metadata": {},
     "output_type": "execute_result"
    }
   ],
   "source": [
    "df.columns"
   ]
  },
  {
   "cell_type": "code",
   "execution_count": 13,
   "id": "3533e6c7-9eb4-47bb-be11-60f56c48e965",
   "metadata": {},
   "outputs": [],
   "source": [
    "df.columns = df.columns.str.lower().str.replace(' ', '_')"
   ]
  },
  {
   "cell_type": "code",
   "execution_count": 15,
   "id": "8ef1134f-818e-4e08-aa60-794e6b628cf9",
   "metadata": {},
   "outputs": [
    {
     "data": {
      "text/html": [
       "<div>\n",
       "<style scoped>\n",
       "    .dataframe tbody tr th:only-of-type {\n",
       "        vertical-align: middle;\n",
       "    }\n",
       "\n",
       "    .dataframe tbody tr th {\n",
       "        vertical-align: top;\n",
       "    }\n",
       "\n",
       "    .dataframe thead th {\n",
       "        text-align: right;\n",
       "    }\n",
       "</style>\n",
       "<table border=\"1\" class=\"dataframe\">\n",
       "  <thead>\n",
       "    <tr style=\"text-align: right;\">\n",
       "      <th></th>\n",
       "      <th>make</th>\n",
       "      <th>model</th>\n",
       "      <th>year</th>\n",
       "      <th>engine_fuel_type</th>\n",
       "      <th>engine_hp</th>\n",
       "      <th>engine_cylinders</th>\n",
       "      <th>transmission_type</th>\n",
       "      <th>driven_wheels</th>\n",
       "      <th>number_of_doors</th>\n",
       "      <th>market_category</th>\n",
       "      <th>vehicle_size</th>\n",
       "      <th>vehicle_style</th>\n",
       "      <th>highway_mpg</th>\n",
       "      <th>city_mpg</th>\n",
       "      <th>popularity</th>\n",
       "      <th>msrp</th>\n",
       "    </tr>\n",
       "  </thead>\n",
       "  <tbody>\n",
       "    <tr>\n",
       "      <th>0</th>\n",
       "      <td>BMW</td>\n",
       "      <td>1 Series M</td>\n",
       "      <td>2011</td>\n",
       "      <td>premium unleaded (required)</td>\n",
       "      <td>335.0</td>\n",
       "      <td>6.0</td>\n",
       "      <td>MANUAL</td>\n",
       "      <td>rear wheel drive</td>\n",
       "      <td>2.0</td>\n",
       "      <td>Factory Tuner,Luxury,High-Performance</td>\n",
       "      <td>Compact</td>\n",
       "      <td>Coupe</td>\n",
       "      <td>26</td>\n",
       "      <td>19</td>\n",
       "      <td>3916</td>\n",
       "      <td>46135</td>\n",
       "    </tr>\n",
       "    <tr>\n",
       "      <th>1</th>\n",
       "      <td>BMW</td>\n",
       "      <td>1 Series</td>\n",
       "      <td>2011</td>\n",
       "      <td>premium unleaded (required)</td>\n",
       "      <td>300.0</td>\n",
       "      <td>6.0</td>\n",
       "      <td>MANUAL</td>\n",
       "      <td>rear wheel drive</td>\n",
       "      <td>2.0</td>\n",
       "      <td>Luxury,Performance</td>\n",
       "      <td>Compact</td>\n",
       "      <td>Convertible</td>\n",
       "      <td>28</td>\n",
       "      <td>19</td>\n",
       "      <td>3916</td>\n",
       "      <td>40650</td>\n",
       "    </tr>\n",
       "    <tr>\n",
       "      <th>2</th>\n",
       "      <td>BMW</td>\n",
       "      <td>1 Series</td>\n",
       "      <td>2011</td>\n",
       "      <td>premium unleaded (required)</td>\n",
       "      <td>300.0</td>\n",
       "      <td>6.0</td>\n",
       "      <td>MANUAL</td>\n",
       "      <td>rear wheel drive</td>\n",
       "      <td>2.0</td>\n",
       "      <td>Luxury,High-Performance</td>\n",
       "      <td>Compact</td>\n",
       "      <td>Coupe</td>\n",
       "      <td>28</td>\n",
       "      <td>20</td>\n",
       "      <td>3916</td>\n",
       "      <td>36350</td>\n",
       "    </tr>\n",
       "  </tbody>\n",
       "</table>\n",
       "</div>"
      ],
      "text/plain": [
       "  make       model  year             engine_fuel_type  engine_hp  \\\n",
       "0  BMW  1 Series M  2011  premium unleaded (required)      335.0   \n",
       "1  BMW    1 Series  2011  premium unleaded (required)      300.0   \n",
       "2  BMW    1 Series  2011  premium unleaded (required)      300.0   \n",
       "\n",
       "   engine_cylinders transmission_type     driven_wheels  number_of_doors  \\\n",
       "0               6.0            MANUAL  rear wheel drive              2.0   \n",
       "1               6.0            MANUAL  rear wheel drive              2.0   \n",
       "2               6.0            MANUAL  rear wheel drive              2.0   \n",
       "\n",
       "                         market_category vehicle_size vehicle_style  \\\n",
       "0  Factory Tuner,Luxury,High-Performance      Compact         Coupe   \n",
       "1                     Luxury,Performance      Compact   Convertible   \n",
       "2                Luxury,High-Performance      Compact         Coupe   \n",
       "\n",
       "   highway_mpg  city_mpg  popularity   msrp  \n",
       "0           26        19        3916  46135  \n",
       "1           28        19        3916  40650  \n",
       "2           28        20        3916  36350  "
      ]
     },
     "execution_count": 15,
     "metadata": {},
     "output_type": "execute_result"
    }
   ],
   "source": [
    "df.head(3)"
   ]
  },
  {
   "cell_type": "code",
   "execution_count": 16,
   "id": "5f8efbb8-4eb3-4831-952c-b1027ea9e781",
   "metadata": {},
   "outputs": [
    {
     "data": {
      "text/plain": [
       "make                  object\n",
       "model                 object\n",
       "year                   int64\n",
       "engine_fuel_type      object\n",
       "engine_hp            float64\n",
       "engine_cylinders     float64\n",
       "transmission_type     object\n",
       "driven_wheels         object\n",
       "number_of_doors      float64\n",
       "market_category       object\n",
       "vehicle_size          object\n",
       "vehicle_style         object\n",
       "highway_mpg            int64\n",
       "city_mpg               int64\n",
       "popularity             int64\n",
       "msrp                   int64\n",
       "dtype: object"
      ]
     },
     "execution_count": 16,
     "metadata": {},
     "output_type": "execute_result"
    }
   ],
   "source": [
    "df.dtypes"
   ]
  },
  {
   "cell_type": "code",
   "execution_count": 23,
   "id": "92159843-6f8b-4ce2-860b-3140d1c6391b",
   "metadata": {},
   "outputs": [],
   "source": [
    "string_vals = list(df.dtypes[df.dtypes == 'object'].index)"
   ]
  },
  {
   "cell_type": "code",
   "execution_count": 25,
   "id": "eae5e280-2f6d-4690-8531-708d54937d5f",
   "metadata": {},
   "outputs": [
    {
     "data": {
      "text/plain": [
       "['make',\n",
       " 'model',\n",
       " 'engine_fuel_type',\n",
       " 'transmission_type',\n",
       " 'driven_wheels',\n",
       " 'market_category',\n",
       " 'vehicle_size',\n",
       " 'vehicle_style']"
      ]
     },
     "execution_count": 25,
     "metadata": {},
     "output_type": "execute_result"
    }
   ],
   "source": [
    "string_vals"
   ]
  },
  {
   "cell_type": "code",
   "execution_count": 27,
   "id": "6d38be05-2358-4174-aa77-bb3ac8849322",
   "metadata": {},
   "outputs": [],
   "source": [
    "for col in string_vals:\n",
    "    df[col] = df[col].str.lower().str.replace(' ', '_')"
   ]
  },
  {
   "cell_type": "code",
   "execution_count": 28,
   "id": "83d3f146-a7b5-4062-b0cc-074baa58af4d",
   "metadata": {},
   "outputs": [
    {
     "data": {
      "text/html": [
       "<div>\n",
       "<style scoped>\n",
       "    .dataframe tbody tr th:only-of-type {\n",
       "        vertical-align: middle;\n",
       "    }\n",
       "\n",
       "    .dataframe tbody tr th {\n",
       "        vertical-align: top;\n",
       "    }\n",
       "\n",
       "    .dataframe thead th {\n",
       "        text-align: right;\n",
       "    }\n",
       "</style>\n",
       "<table border=\"1\" class=\"dataframe\">\n",
       "  <thead>\n",
       "    <tr style=\"text-align: right;\">\n",
       "      <th></th>\n",
       "      <th>make</th>\n",
       "      <th>model</th>\n",
       "      <th>year</th>\n",
       "      <th>engine_fuel_type</th>\n",
       "      <th>engine_hp</th>\n",
       "      <th>engine_cylinders</th>\n",
       "      <th>transmission_type</th>\n",
       "      <th>driven_wheels</th>\n",
       "      <th>number_of_doors</th>\n",
       "      <th>market_category</th>\n",
       "      <th>vehicle_size</th>\n",
       "      <th>vehicle_style</th>\n",
       "      <th>highway_mpg</th>\n",
       "      <th>city_mpg</th>\n",
       "      <th>popularity</th>\n",
       "      <th>msrp</th>\n",
       "    </tr>\n",
       "  </thead>\n",
       "  <tbody>\n",
       "    <tr>\n",
       "      <th>0</th>\n",
       "      <td>bmw</td>\n",
       "      <td>1_series_m</td>\n",
       "      <td>2011</td>\n",
       "      <td>premium_unleaded_(required)</td>\n",
       "      <td>335.0</td>\n",
       "      <td>6.0</td>\n",
       "      <td>manual</td>\n",
       "      <td>rear_wheel_drive</td>\n",
       "      <td>2.0</td>\n",
       "      <td>factory_tuner,luxury,high-performance</td>\n",
       "      <td>compact</td>\n",
       "      <td>coupe</td>\n",
       "      <td>26</td>\n",
       "      <td>19</td>\n",
       "      <td>3916</td>\n",
       "      <td>46135</td>\n",
       "    </tr>\n",
       "    <tr>\n",
       "      <th>1</th>\n",
       "      <td>bmw</td>\n",
       "      <td>1_series</td>\n",
       "      <td>2011</td>\n",
       "      <td>premium_unleaded_(required)</td>\n",
       "      <td>300.0</td>\n",
       "      <td>6.0</td>\n",
       "      <td>manual</td>\n",
       "      <td>rear_wheel_drive</td>\n",
       "      <td>2.0</td>\n",
       "      <td>luxury,performance</td>\n",
       "      <td>compact</td>\n",
       "      <td>convertible</td>\n",
       "      <td>28</td>\n",
       "      <td>19</td>\n",
       "      <td>3916</td>\n",
       "      <td>40650</td>\n",
       "    </tr>\n",
       "    <tr>\n",
       "      <th>2</th>\n",
       "      <td>bmw</td>\n",
       "      <td>1_series</td>\n",
       "      <td>2011</td>\n",
       "      <td>premium_unleaded_(required)</td>\n",
       "      <td>300.0</td>\n",
       "      <td>6.0</td>\n",
       "      <td>manual</td>\n",
       "      <td>rear_wheel_drive</td>\n",
       "      <td>2.0</td>\n",
       "      <td>luxury,high-performance</td>\n",
       "      <td>compact</td>\n",
       "      <td>coupe</td>\n",
       "      <td>28</td>\n",
       "      <td>20</td>\n",
       "      <td>3916</td>\n",
       "      <td>36350</td>\n",
       "    </tr>\n",
       "  </tbody>\n",
       "</table>\n",
       "</div>"
      ],
      "text/plain": [
       "  make       model  year             engine_fuel_type  engine_hp  \\\n",
       "0  bmw  1_series_m  2011  premium_unleaded_(required)      335.0   \n",
       "1  bmw    1_series  2011  premium_unleaded_(required)      300.0   \n",
       "2  bmw    1_series  2011  premium_unleaded_(required)      300.0   \n",
       "\n",
       "   engine_cylinders transmission_type     driven_wheels  number_of_doors  \\\n",
       "0               6.0            manual  rear_wheel_drive              2.0   \n",
       "1               6.0            manual  rear_wheel_drive              2.0   \n",
       "2               6.0            manual  rear_wheel_drive              2.0   \n",
       "\n",
       "                         market_category vehicle_size vehicle_style  \\\n",
       "0  factory_tuner,luxury,high-performance      compact         coupe   \n",
       "1                     luxury,performance      compact   convertible   \n",
       "2                luxury,high-performance      compact         coupe   \n",
       "\n",
       "   highway_mpg  city_mpg  popularity   msrp  \n",
       "0           26        19        3916  46135  \n",
       "1           28        19        3916  40650  \n",
       "2           28        20        3916  36350  "
      ]
     },
     "execution_count": 28,
     "metadata": {},
     "output_type": "execute_result"
    }
   ],
   "source": [
    "df.head(3)"
   ]
  },
  {
   "cell_type": "markdown",
   "id": "25d632b4-6863-400e-b0e1-7fe593d2e7cd",
   "metadata": {},
   "source": [
    "#### 2.3 Exploratory Data Analysis"
   ]
  },
  {
   "cell_type": "code",
   "execution_count": 34,
   "id": "83cde4ef-29ba-45cb-9b34-333e7829138f",
   "metadata": {},
   "outputs": [
    {
     "name": "stdout",
     "output_type": "stream",
     "text": [
      "make\n",
      "['bmw' 'audi' 'fiat' 'mercedes-benz' 'chrysler']\n",
      "48\n",
      "\n",
      "model\n",
      "['1_series_m' '1_series' '100' '124_spider' '190-class']\n",
      "914\n",
      "\n",
      "year\n",
      "[2011 2012 2013 1992 1993]\n",
      "28\n",
      "\n",
      "engine_fuel_type\n",
      "['premium_unleaded_(required)' 'regular_unleaded'\n",
      " 'premium_unleaded_(recommended)' 'flex-fuel_(unleaded/e85)' 'diesel']\n",
      "10\n",
      "\n",
      "engine_hp\n",
      "[335. 300. 230. 320. 172.]\n",
      "356\n",
      "\n",
      "engine_cylinders\n",
      "[ 6.  4.  5.  8. 12.]\n",
      "9\n",
      "\n",
      "transmission_type\n",
      "['manual' 'automatic' 'automated_manual' 'direct_drive' 'unknown']\n",
      "5\n",
      "\n",
      "driven_wheels\n",
      "['rear_wheel_drive' 'front_wheel_drive' 'all_wheel_drive'\n",
      " 'four_wheel_drive']\n",
      "4\n",
      "\n",
      "number_of_doors\n",
      "[ 2.  4.  3. nan]\n",
      "3\n",
      "\n",
      "market_category\n",
      "['factory_tuner,luxury,high-performance' 'luxury,performance'\n",
      " 'luxury,high-performance' 'luxury' 'performance']\n",
      "71\n",
      "\n",
      "vehicle_size\n",
      "['compact' 'midsize' 'large']\n",
      "3\n",
      "\n",
      "vehicle_style\n",
      "['coupe' 'convertible' 'sedan' 'wagon' '4dr_hatchback']\n",
      "16\n",
      "\n",
      "highway_mpg\n",
      "[26 28 27 25 24]\n",
      "59\n",
      "\n",
      "city_mpg\n",
      "[19 20 18 17 16]\n",
      "69\n",
      "\n",
      "popularity\n",
      "[3916 3105  819  617 1013]\n",
      "48\n",
      "\n",
      "msrp\n",
      "[46135 40650 36350 29450 34500]\n",
      "6049\n",
      "\n"
     ]
    }
   ],
   "source": [
    "# Check data in columns\n",
    "\n",
    "# NB: Popularity refers to how popular the car is gotten from twitter\n",
    "# Mentions about the car\n",
    "\n",
    "for col in df.columns:\n",
    "    print(col)\n",
    "    print(df[col].unique()[:5])\n",
    "    print(df[col].nunique())\n",
    "    print()"
   ]
  },
  {
   "cell_type": "markdown",
   "id": "383df1e4-d2c3-42ff-8c34-fc394d1f10be",
   "metadata": {},
   "source": [
    "#### Price Distribution"
   ]
  },
  {
   "cell_type": "code",
   "execution_count": 40,
   "id": "d5816f45-78b7-4560-a4a0-e1213ccd5d24",
   "metadata": {},
   "outputs": [
    {
     "data": {
      "text/plain": [
       "<Axes: xlabel='msrp', ylabel='Count'>"
      ]
     },
     "execution_count": 40,
     "metadata": {},
     "output_type": "execute_result"
    },
    {
     "data": {
      "image/png": "[encoded data removed]",
      "text/plain": [
       "<Figure size 640x480 with 1 Axes>"
      ]
     },
     "metadata": {},
     "output_type": "display_data"
    }
   ],
   "source": [
    "sns.histplot(df.msrp, bins=50)"
   ]
  },
  {
   "cell_type": "markdown",
   "id": "03db4122-c1f3-48fe-ab1f-10de18b01ab1",
   "metadata": {},
   "source": [
    "#### This produces a long tail distribution with many cheap cars"
   ]
  },
  {
   "cell_type": "code",
   "execution_count": null,
   "id": "a69972a2-0223-4790-8177-e1c1283b727f",
   "metadata": {},
   "outputs": [],
   "source": [
    "Looking at the most populated area more closely"
   ]
  },
  {
   "cell_type": "code",
   "execution_count": 41,
   "id": "13abfa32-8ed3-4e6d-b1a1-9b09afc22fc4",
   "metadata": {},
   "outputs": [
    {
     "data": {
      "text/plain": [
       "<Axes: xlabel='msrp', ylabel='Count'>"
      ]
     },
     "execution_count": 41,
     "metadata": {},
     "output_type": "execute_result"
    },
    {
     "data": {
      "image/png": "[encoded data removed]",
      "text/plain": [
       "<Figure size 640x480 with 1 Axes>"
      ]
     },
     "metadata": {},
     "output_type": "display_data"
    }
   ],
   "source": [
    "sns.histplot(df.msrp[df.msrp < 100000], bins=50)"
   ]
  },
  {
   "cell_type": "markdown",
   "id": "fca1b41d-490e-4c7c-b6fb-e4d17bf42709",
   "metadata": {},
   "source": [
    "#### Gives us a much more clearer picture looking as a normal curve"
   ]
  },
  {
   "cell_type": "markdown",
   "id": "789eadcb-eea8-4595-8003-816a49fb3ccf",
   "metadata": {},
   "source": [
    "#### NB: This kind of distribution might most likely confuse our model as it has outliers and long tails which we must remove"
   ]
  },
  {
   "cell_type": "code",
   "execution_count": 47,
   "id": "1f92d8f0-2780-4be5-a6a9-2da8dcd48b09",
   "metadata": {},
   "outputs": [
    {
     "data": {
      "text/plain": [
       "array([ 0.69314718,  2.39789527,  6.90875478, 13.81551156])"
      ]
     },
     "execution_count": 47,
     "metadata": {},
     "output_type": "execute_result"
    }
   ],
   "source": [
    "# We can use logs to shrink this values for ml\n",
    "# Also we add 1 to the values so we dont accidentally be\n",
    "# looking for the log of 0, we use log1p for this\n",
    "\n",
    "np.log1p([1, 10, 1000, 1000000])"
   ]
  },
  {
   "cell_type": "code",
   "execution_count": 50,
   "id": "0b9ed90d-bc2b-4bf9-b50c-9b1048021596",
   "metadata": {},
   "outputs": [
    {
     "data": {
      "text/plain": [
       "0    46135\n",
       "1    40650\n",
       "2    36350\n",
       "3    29450\n",
       "4    34500\n",
       "Name: msrp, dtype: int64"
      ]
     },
     "execution_count": 50,
     "metadata": {},
     "output_type": "execute_result"
    }
   ],
   "source": [
    "df.msrp.head()"
   ]
  },
  {
   "cell_type": "code",
   "execution_count": 51,
   "id": "e4aecd7a-aeec-4d87-8450-602c2b45d082",
   "metadata": {},
   "outputs": [],
   "source": [
    "price_logs = np.log1p(df.msrp)"
   ]
  },
  {
   "cell_type": "code",
   "execution_count": 52,
   "id": "6adae361-e8aa-4612-a34c-766437d547ae",
   "metadata": {},
   "outputs": [
    {
     "data": {
      "text/plain": [
       "0        10.739349\n",
       "1        10.612779\n",
       "2        10.500977\n",
       "3        10.290483\n",
       "4        10.448744\n",
       "           ...    \n",
       "11909    10.739024\n",
       "11910    10.945018\n",
       "11911    10.832122\n",
       "11912    10.838031\n",
       "11913    10.274913\n",
       "Name: msrp, Length: 11914, dtype: float64"
      ]
     },
     "execution_count": 52,
     "metadata": {},
     "output_type": "execute_result"
    }
   ],
   "source": [
    "price_logs"
   ]
  },
  {
   "cell_type": "code",
   "execution_count": 57,
   "id": "3bc32dac-75e8-4520-8c03-de170af32eb3",
   "metadata": {},
   "outputs": [
    {
     "data": {
      "text/plain": [
       "<Axes: xlabel='msrp', ylabel='Count'>"
      ]
     },
     "execution_count": 57,
     "metadata": {},
     "output_type": "execute_result"
    },
    {
     "data": {
      "image/png": "[encoded data removed]",
      "text/plain": [
       "<Figure size 640x480 with 1 Axes>"
      ]
     },
     "metadata": {},
     "output_type": "display_data"
    }
   ],
   "source": [
    "sns.histplot(price_logs, bins=50, kde=True)"
   ]
  },
  {
   "cell_type": "markdown",
   "id": "fa55831b-81c1-49ec-9efc-036e8c77cfcb",
   "metadata": {},
   "source": [
    "#### Gives us a much clearer normal curve that our ml models like"
   ]
  },
  {
   "cell_type": "code",
   "execution_count": null,
   "id": "bf06b9a2-fdcb-45d6-a834-d4db3e2e4814",
   "metadata": {},
   "outputs": [],
   "source": []
  },
  {
   "cell_type": "markdown",
   "id": "47a5523a-2719-465d-ba0e-985c5d2908f1",
   "metadata": {},
   "source": [
    "#### Taking note of the missing values"
   ]
  },
  {
   "cell_type": "code",
   "execution_count": 59,
   "id": "2f220ae4-ce25-4837-b0cc-9eafe64a3c68",
   "metadata": {},
   "outputs": [
    {
     "data": {
      "text/plain": [
       "make                    0\n",
       "model                   0\n",
       "year                    0\n",
       "engine_fuel_type        3\n",
       "engine_hp              69\n",
       "engine_cylinders       30\n",
       "transmission_type       0\n",
       "driven_wheels           0\n",
       "number_of_doors         6\n",
       "market_category      3742\n",
       "vehicle_size            0\n",
       "vehicle_style           0\n",
       "highway_mpg             0\n",
       "city_mpg                0\n",
       "popularity              0\n",
       "msrp                    0\n",
       "dtype: int64"
      ]
     },
     "execution_count": 59,
     "metadata": {},
     "output_type": "execute_result"
    }
   ],
   "source": [
    "df.isnull().sum()"
   ]
  },
  {
   "cell_type": "code",
   "execution_count": 67,
   "id": "45b1386c-df47-4e3a-bc9b-e5d21ab3f9e0",
   "metadata": {},
   "outputs": [
    {
     "data": {
      "text/plain": [
       "11914"
      ]
     },
     "execution_count": 67,
     "metadata": {},
     "output_type": "execute_result"
    }
   ],
   "source": [
    "df.shape[0]"
   ]
  },
  {
   "cell_type": "markdown",
   "id": "20f3f343-c7d6-4156-a4c2-0eae2eb85316",
   "metadata": {},
   "source": [
    "#### 2.4 Setting up validation framework"
   ]
  },
  {
   "cell_type": "code",
   "execution_count": 395,
   "id": "8bb64abe-f437-429e-aaf6-d1148aef39f7",
   "metadata": {},
   "outputs": [],
   "source": [
    "n = len(df)\n",
    "\n",
    "n_val = int(n * 0.2)\n",
    "n_test = int(n * 0.2)\n",
    "n_train = n - n_val - n_test"
   ]
  },
  {
   "cell_type": "code",
   "execution_count": 396,
   "id": "ba82a975-f75e-4cc5-a455-66f00a86176e",
   "metadata": {},
   "outputs": [
    {
     "data": {
      "text/plain": [
       "(2382, 2382, 7150)"
      ]
     },
     "execution_count": 396,
     "metadata": {},
     "output_type": "execute_result"
    }
   ],
   "source": [
    "n_test, n_val, n_train"
   ]
  },
  {
   "cell_type": "code",
   "execution_count": 397,
   "id": "7949eeb4-f53e-412c-aa8c-3f18cf8b5b66",
   "metadata": {},
   "outputs": [
    {
     "data": {
      "text/html": [
       "<div>\n",
       "<style scoped>\n",
       "    .dataframe tbody tr th:only-of-type {\n",
       "        vertical-align: middle;\n",
       "    }\n",
       "\n",
       "    .dataframe tbody tr th {\n",
       "        vertical-align: top;\n",
       "    }\n",
       "\n",
       "    .dataframe thead th {\n",
       "        text-align: right;\n",
       "    }\n",
       "</style>\n",
       "<table border=\"1\" class=\"dataframe\">\n",
       "  <thead>\n",
       "    <tr style=\"text-align: right;\">\n",
       "      <th></th>\n",
       "      <th>make</th>\n",
       "      <th>model</th>\n",
       "      <th>year</th>\n",
       "      <th>engine_fuel_type</th>\n",
       "      <th>engine_hp</th>\n",
       "      <th>engine_cylinders</th>\n",
       "      <th>transmission_type</th>\n",
       "      <th>driven_wheels</th>\n",
       "      <th>number_of_doors</th>\n",
       "      <th>market_category</th>\n",
       "      <th>vehicle_size</th>\n",
       "      <th>vehicle_style</th>\n",
       "      <th>highway_mpg</th>\n",
       "      <th>city_mpg</th>\n",
       "      <th>popularity</th>\n",
       "      <th>msrp</th>\n",
       "    </tr>\n",
       "  </thead>\n",
       "  <tbody>\n",
       "    <tr>\n",
       "      <th>0</th>\n",
       "      <td>bmw</td>\n",
       "      <td>1_series_m</td>\n",
       "      <td>2011</td>\n",
       "      <td>premium_unleaded_(required)</td>\n",
       "      <td>335.0</td>\n",
       "      <td>6.0</td>\n",
       "      <td>manual</td>\n",
       "      <td>rear_wheel_drive</td>\n",
       "      <td>2.0</td>\n",
       "      <td>factory_tuner,luxury,high-performance</td>\n",
       "      <td>compact</td>\n",
       "      <td>coupe</td>\n",
       "      <td>26</td>\n",
       "      <td>19</td>\n",
       "      <td>3916</td>\n",
       "      <td>46135</td>\n",
       "    </tr>\n",
       "    <tr>\n",
       "      <th>1</th>\n",
       "      <td>bmw</td>\n",
       "      <td>1_series</td>\n",
       "      <td>2011</td>\n",
       "      <td>premium_unleaded_(required)</td>\n",
       "      <td>300.0</td>\n",
       "      <td>6.0</td>\n",
       "      <td>manual</td>\n",
       "      <td>rear_wheel_drive</td>\n",
       "      <td>2.0</td>\n",
       "      <td>luxury,performance</td>\n",
       "      <td>compact</td>\n",
       "      <td>convertible</td>\n",
       "      <td>28</td>\n",
       "      <td>19</td>\n",
       "      <td>3916</td>\n",
       "      <td>40650</td>\n",
       "    </tr>\n",
       "    <tr>\n",
       "      <th>2</th>\n",
       "      <td>bmw</td>\n",
       "      <td>1_series</td>\n",
       "      <td>2011</td>\n",
       "      <td>premium_unleaded_(required)</td>\n",
       "      <td>300.0</td>\n",
       "      <td>6.0</td>\n",
       "      <td>manual</td>\n",
       "      <td>rear_wheel_drive</td>\n",
       "      <td>2.0</td>\n",
       "      <td>luxury,high-performance</td>\n",
       "      <td>compact</td>\n",
       "      <td>coupe</td>\n",
       "      <td>28</td>\n",
       "      <td>20</td>\n",
       "      <td>3916</td>\n",
       "      <td>36350</td>\n",
       "    </tr>\n",
       "    <tr>\n",
       "      <th>3</th>\n",
       "      <td>bmw</td>\n",
       "      <td>1_series</td>\n",
       "      <td>2011</td>\n",
       "      <td>premium_unleaded_(required)</td>\n",
       "      <td>230.0</td>\n",
       "      <td>6.0</td>\n",
       "      <td>manual</td>\n",
       "      <td>rear_wheel_drive</td>\n",
       "      <td>2.0</td>\n",
       "      <td>luxury,performance</td>\n",
       "      <td>compact</td>\n",
       "      <td>coupe</td>\n",
       "      <td>28</td>\n",
       "      <td>18</td>\n",
       "      <td>3916</td>\n",
       "      <td>29450</td>\n",
       "    </tr>\n",
       "    <tr>\n",
       "      <th>4</th>\n",
       "      <td>bmw</td>\n",
       "      <td>1_series</td>\n",
       "      <td>2011</td>\n",
       "      <td>premium_unleaded_(required)</td>\n",
       "      <td>230.0</td>\n",
       "      <td>6.0</td>\n",
       "      <td>manual</td>\n",
       "      <td>rear_wheel_drive</td>\n",
       "      <td>2.0</td>\n",
       "      <td>luxury</td>\n",
       "      <td>compact</td>\n",
       "      <td>convertible</td>\n",
       "      <td>28</td>\n",
       "      <td>18</td>\n",
       "      <td>3916</td>\n",
       "      <td>34500</td>\n",
       "    </tr>\n",
       "  </tbody>\n",
       "</table>\n",
       "</div>"
      ],
      "text/plain": [
       "  make       model  year             engine_fuel_type  engine_hp  \\\n",
       "0  bmw  1_series_m  2011  premium_unleaded_(required)      335.0   \n",
       "1  bmw    1_series  2011  premium_unleaded_(required)      300.0   \n",
       "2  bmw    1_series  2011  premium_unleaded_(required)      300.0   \n",
       "3  bmw    1_series  2011  premium_unleaded_(required)      230.0   \n",
       "4  bmw    1_series  2011  premium_unleaded_(required)      230.0   \n",
       "\n",
       "   engine_cylinders transmission_type     driven_wheels  number_of_doors  \\\n",
       "0               6.0            manual  rear_wheel_drive              2.0   \n",
       "1               6.0            manual  rear_wheel_drive              2.0   \n",
       "2               6.0            manual  rear_wheel_drive              2.0   \n",
       "3               6.0            manual  rear_wheel_drive              2.0   \n",
       "4               6.0            manual  rear_wheel_drive              2.0   \n",
       "\n",
       "                         market_category vehicle_size vehicle_style  \\\n",
       "0  factory_tuner,luxury,high-performance      compact         coupe   \n",
       "1                     luxury,performance      compact   convertible   \n",
       "2                luxury,high-performance      compact         coupe   \n",
       "3                     luxury,performance      compact         coupe   \n",
       "4                                 luxury      compact   convertible   \n",
       "\n",
       "   highway_mpg  city_mpg  popularity   msrp  \n",
       "0           26        19        3916  46135  \n",
       "1           28        19        3916  40650  \n",
       "2           28        20        3916  36350  \n",
       "3           28        18        3916  29450  \n",
       "4           28        18        3916  34500  "
      ]
     },
     "execution_count": 397,
     "metadata": {},
     "output_type": "execute_result"
    }
   ],
   "source": [
    "df.iloc[:5]"
   ]
  },
  {
   "cell_type": "code",
   "execution_count": 398,
   "id": "6b1b8d58-313b-4715-8795-75af6a0950dd",
   "metadata": {},
   "outputs": [],
   "source": [
    "df_train = df.iloc[:n_train] # first 7150 records\n",
    "df_val = df.iloc[n_train:n_train+n_val] # next 2382 records\n",
    "df_test = df.iloc[n_train+n_val:]"
   ]
  },
  {
   "cell_type": "code",
   "execution_count": 399,
   "id": "f7d38d08-487e-4ff1-b957-73bbd372a719",
   "metadata": {},
   "outputs": [
    {
     "data": {
      "text/plain": [
       "7150"
      ]
     },
     "execution_count": 399,
     "metadata": {},
     "output_type": "execute_result"
    }
   ],
   "source": [
    "len(df_train)"
   ]
  },
  {
   "cell_type": "markdown",
   "id": "2d422677-ed09-407f-b528-de620aba1129",
   "metadata": {},
   "source": [
    "#### The above might miss some values in train not in test or val. We need to shuffle"
   ]
  },
  {
   "cell_type": "code",
   "execution_count": 464,
   "id": "2a897ef9-9b19-467a-a12c-99497d31af17",
   "metadata": {},
   "outputs": [],
   "source": [
    "idx = np.arange(n)"
   ]
  },
  {
   "cell_type": "code",
   "execution_count": 465,
   "id": "123a3ac9-0fc6-4e89-8d6b-0d847fb16b27",
   "metadata": {},
   "outputs": [],
   "source": [
    "np.random.seed(42)\n",
    "np.random.shuffle(idx) # shuffle index values to be random"
   ]
  },
  {
   "cell_type": "code",
   "execution_count": 466,
   "id": "f94f98b2-4e81-4a82-8422-33c98d55e802",
   "metadata": {},
   "outputs": [
    {
     "data": {
      "text/plain": [
       "array([3995, 7474, 7300, ..., 5390,  860, 7270], shape=(11914,))"
      ]
     },
     "execution_count": 466,
     "metadata": {},
     "output_type": "execute_result"
    }
   ],
   "source": [
    "idx"
   ]
  },
  {
   "cell_type": "code",
   "execution_count": 467,
   "id": "7ebe0260-9fe7-48bb-bcfd-ed74aeb06896",
   "metadata": {},
   "outputs": [
    {
     "data": {
      "text/plain": [
       "array([3416,  307, 3908, ..., 5390,  860, 7270], shape=(4764,))"
      ]
     },
     "execution_count": 467,
     "metadata": {},
     "output_type": "execute_result"
    }
   ],
   "source": [
    "idx_train = idx[n_train:]\n",
    "idx_train"
   ]
  },
  {
   "cell_type": "code",
   "execution_count": 468,
   "id": "3e36acfd-a212-4734-8be2-5e9820c17a26",
   "metadata": {},
   "outputs": [],
   "source": [
    "df_train = df.iloc[idx[:n_train]]\n",
    "df_val = df.iloc[idx[n_train:n_train+n_val]]\n",
    "d_test = df.iloc[idx[n_train+n_val:]]"
   ]
  },
  {
   "cell_type": "code",
   "execution_count": 469,
   "id": "96ef323e-a80c-4d8e-951a-548b5fddef1b",
   "metadata": {},
   "outputs": [
    {
     "data": {
      "text/html": [
       "<div>\n",
       "<style scoped>\n",
       "    .dataframe tbody tr th:only-of-type {\n",
       "        vertical-align: middle;\n",
       "    }\n",
       "\n",
       "    .dataframe tbody tr th {\n",
       "        vertical-align: top;\n",
       "    }\n",
       "\n",
       "    .dataframe thead th {\n",
       "        text-align: right;\n",
       "    }\n",
       "</style>\n",
       "<table border=\"1\" class=\"dataframe\">\n",
       "  <thead>\n",
       "    <tr style=\"text-align: right;\">\n",
       "      <th></th>\n",
       "      <th>make</th>\n",
       "      <th>model</th>\n",
       "      <th>year</th>\n",
       "      <th>engine_fuel_type</th>\n",
       "      <th>engine_hp</th>\n",
       "      <th>engine_cylinders</th>\n",
       "      <th>transmission_type</th>\n",
       "      <th>driven_wheels</th>\n",
       "      <th>number_of_doors</th>\n",
       "      <th>market_category</th>\n",
       "      <th>vehicle_size</th>\n",
       "      <th>vehicle_style</th>\n",
       "      <th>highway_mpg</th>\n",
       "      <th>city_mpg</th>\n",
       "      <th>popularity</th>\n",
       "      <th>msrp</th>\n",
       "    </tr>\n",
       "  </thead>\n",
       "  <tbody>\n",
       "    <tr>\n",
       "      <th>3995</th>\n",
       "      <td>gmc</td>\n",
       "      <td>envoy_xl</td>\n",
       "      <td>2005</td>\n",
       "      <td>regular_unleaded</td>\n",
       "      <td>275.0</td>\n",
       "      <td>6.0</td>\n",
       "      <td>automatic</td>\n",
       "      <td>rear_wheel_drive</td>\n",
       "      <td>4.0</td>\n",
       "      <td>NaN</td>\n",
       "      <td>large</td>\n",
       "      <td>4dr_suv</td>\n",
       "      <td>18</td>\n",
       "      <td>13</td>\n",
       "      <td>549</td>\n",
       "      <td>29695</td>\n",
       "    </tr>\n",
       "    <tr>\n",
       "      <th>7474</th>\n",
       "      <td>volkswagen</td>\n",
       "      <td>passat</td>\n",
       "      <td>2016</td>\n",
       "      <td>regular_unleaded</td>\n",
       "      <td>170.0</td>\n",
       "      <td>4.0</td>\n",
       "      <td>automatic</td>\n",
       "      <td>front_wheel_drive</td>\n",
       "      <td>4.0</td>\n",
       "      <td>NaN</td>\n",
       "      <td>midsize</td>\n",
       "      <td>sedan</td>\n",
       "      <td>38</td>\n",
       "      <td>25</td>\n",
       "      <td>873</td>\n",
       "      <td>30495</td>\n",
       "    </tr>\n",
       "    <tr>\n",
       "      <th>7300</th>\n",
       "      <td>honda</td>\n",
       "      <td>odyssey</td>\n",
       "      <td>2016</td>\n",
       "      <td>regular_unleaded</td>\n",
       "      <td>248.0</td>\n",
       "      <td>6.0</td>\n",
       "      <td>automatic</td>\n",
       "      <td>front_wheel_drive</td>\n",
       "      <td>4.0</td>\n",
       "      <td>NaN</td>\n",
       "      <td>large</td>\n",
       "      <td>passenger_minivan</td>\n",
       "      <td>28</td>\n",
       "      <td>19</td>\n",
       "      <td>2202</td>\n",
       "      <td>37650</td>\n",
       "    </tr>\n",
       "  </tbody>\n",
       "</table>\n",
       "</div>"
      ],
      "text/plain": [
       "            make     model  year  engine_fuel_type  engine_hp  \\\n",
       "3995         gmc  envoy_xl  2005  regular_unleaded      275.0   \n",
       "7474  volkswagen    passat  2016  regular_unleaded      170.0   \n",
       "7300       honda   odyssey  2016  regular_unleaded      248.0   \n",
       "\n",
       "      engine_cylinders transmission_type      driven_wheels  number_of_doors  \\\n",
       "3995               6.0         automatic   rear_wheel_drive              4.0   \n",
       "7474               4.0         automatic  front_wheel_drive              4.0   \n",
       "7300               6.0         automatic  front_wheel_drive              4.0   \n",
       "\n",
       "     market_category vehicle_size      vehicle_style  highway_mpg  city_mpg  \\\n",
       "3995             NaN        large            4dr_suv           18        13   \n",
       "7474             NaN      midsize              sedan           38        25   \n",
       "7300             NaN        large  passenger_minivan           28        19   \n",
       "\n",
       "      popularity   msrp  \n",
       "3995         549  29695  \n",
       "7474         873  30495  \n",
       "7300        2202  37650  "
      ]
     },
     "execution_count": 469,
     "metadata": {},
     "output_type": "execute_result"
    }
   ],
   "source": [
    "df_train.head(3)"
   ]
  },
  {
   "cell_type": "code",
   "execution_count": 470,
   "id": "e4307222-9dc3-4936-9795-fd73dbacd3a4",
   "metadata": {},
   "outputs": [
    {
     "data": {
      "text/plain": [
       "(7150, 2382, 2382)"
      ]
     },
     "execution_count": 470,
     "metadata": {},
     "output_type": "execute_result"
    }
   ],
   "source": [
    "len(df_train), len(df_val), len(df_test)"
   ]
  },
  {
   "cell_type": "code",
   "execution_count": 471,
   "id": "cbebe345-d979-4206-bacc-29c3b86c2e56",
   "metadata": {},
   "outputs": [],
   "source": [
    "df_train = df_train.reset_index(drop=True)\n",
    "df_val = df_val.reset_index(drop=True)\n",
    "df_test = df_test.reset_index(drop=True)"
   ]
  },
  {
   "cell_type": "code",
   "execution_count": 472,
   "id": "e09ab1f9-5a27-4b35-acf5-341e16cc5a19",
   "metadata": {},
   "outputs": [
    {
     "data": {
      "text/html": [
       "<div>\n",
       "<style scoped>\n",
       "    .dataframe tbody tr th:only-of-type {\n",
       "        vertical-align: middle;\n",
       "    }\n",
       "\n",
       "    .dataframe tbody tr th {\n",
       "        vertical-align: top;\n",
       "    }\n",
       "\n",
       "    .dataframe thead th {\n",
       "        text-align: right;\n",
       "    }\n",
       "</style>\n",
       "<table border=\"1\" class=\"dataframe\">\n",
       "  <thead>\n",
       "    <tr style=\"text-align: right;\">\n",
       "      <th></th>\n",
       "      <th>make</th>\n",
       "      <th>model</th>\n",
       "      <th>year</th>\n",
       "      <th>engine_fuel_type</th>\n",
       "      <th>engine_hp</th>\n",
       "      <th>engine_cylinders</th>\n",
       "      <th>transmission_type</th>\n",
       "      <th>driven_wheels</th>\n",
       "      <th>number_of_doors</th>\n",
       "      <th>market_category</th>\n",
       "      <th>vehicle_size</th>\n",
       "      <th>vehicle_style</th>\n",
       "      <th>highway_mpg</th>\n",
       "      <th>city_mpg</th>\n",
       "      <th>popularity</th>\n",
       "    </tr>\n",
       "  </thead>\n",
       "  <tbody>\n",
       "    <tr>\n",
       "      <th>0</th>\n",
       "      <td>chevrolet</td>\n",
       "      <td>silverado_1500</td>\n",
       "      <td>2015</td>\n",
       "      <td>regular_unleaded</td>\n",
       "      <td>355.0</td>\n",
       "      <td>8.0</td>\n",
       "      <td>automatic</td>\n",
       "      <td>rear_wheel_drive</td>\n",
       "      <td>4.0</td>\n",
       "      <td>NaN</td>\n",
       "      <td>large</td>\n",
       "      <td>crew_cab_pickup</td>\n",
       "      <td>23</td>\n",
       "      <td>16</td>\n",
       "      <td>1385</td>\n",
       "    </tr>\n",
       "    <tr>\n",
       "      <th>1</th>\n",
       "      <td>chevrolet</td>\n",
       "      <td>silverado_1500</td>\n",
       "      <td>2015</td>\n",
       "      <td>flex-fuel_(unleaded/e85)</td>\n",
       "      <td>285.0</td>\n",
       "      <td>6.0</td>\n",
       "      <td>automatic</td>\n",
       "      <td>rear_wheel_drive</td>\n",
       "      <td>4.0</td>\n",
       "      <td>flex_fuel</td>\n",
       "      <td>large</td>\n",
       "      <td>extended_cab_pickup</td>\n",
       "      <td>24</td>\n",
       "      <td>18</td>\n",
       "      <td>1385</td>\n",
       "    </tr>\n",
       "    <tr>\n",
       "      <th>2</th>\n",
       "      <td>chevrolet</td>\n",
       "      <td>silverado_1500</td>\n",
       "      <td>2015</td>\n",
       "      <td>flex-fuel_(unleaded/e85)</td>\n",
       "      <td>285.0</td>\n",
       "      <td>6.0</td>\n",
       "      <td>automatic</td>\n",
       "      <td>rear_wheel_drive</td>\n",
       "      <td>4.0</td>\n",
       "      <td>flex_fuel</td>\n",
       "      <td>large</td>\n",
       "      <td>crew_cab_pickup</td>\n",
       "      <td>24</td>\n",
       "      <td>18</td>\n",
       "      <td>1385</td>\n",
       "    </tr>\n",
       "    <tr>\n",
       "      <th>3</th>\n",
       "      <td>chevrolet</td>\n",
       "      <td>silverado_1500</td>\n",
       "      <td>2015</td>\n",
       "      <td>flex-fuel_(unleaded/e85)</td>\n",
       "      <td>285.0</td>\n",
       "      <td>6.0</td>\n",
       "      <td>automatic</td>\n",
       "      <td>rear_wheel_drive</td>\n",
       "      <td>4.0</td>\n",
       "      <td>flex_fuel</td>\n",
       "      <td>large</td>\n",
       "      <td>extended_cab_pickup</td>\n",
       "      <td>24</td>\n",
       "      <td>18</td>\n",
       "      <td>1385</td>\n",
       "    </tr>\n",
       "    <tr>\n",
       "      <th>4</th>\n",
       "      <td>chevrolet</td>\n",
       "      <td>silverado_1500</td>\n",
       "      <td>2015</td>\n",
       "      <td>flex-fuel_(unleaded/e85)</td>\n",
       "      <td>285.0</td>\n",
       "      <td>6.0</td>\n",
       "      <td>automatic</td>\n",
       "      <td>rear_wheel_drive</td>\n",
       "      <td>2.0</td>\n",
       "      <td>flex_fuel</td>\n",
       "      <td>large</td>\n",
       "      <td>regular_cab_pickup</td>\n",
       "      <td>24</td>\n",
       "      <td>18</td>\n",
       "      <td>1385</td>\n",
       "    </tr>\n",
       "  </tbody>\n",
       "</table>\n",
       "</div>"
      ],
      "text/plain": [
       "        make           model  year          engine_fuel_type  engine_hp  \\\n",
       "0  chevrolet  silverado_1500  2015          regular_unleaded      355.0   \n",
       "1  chevrolet  silverado_1500  2015  flex-fuel_(unleaded/e85)      285.0   \n",
       "2  chevrolet  silverado_1500  2015  flex-fuel_(unleaded/e85)      285.0   \n",
       "3  chevrolet  silverado_1500  2015  flex-fuel_(unleaded/e85)      285.0   \n",
       "4  chevrolet  silverado_1500  2015  flex-fuel_(unleaded/e85)      285.0   \n",
       "\n",
       "   engine_cylinders transmission_type     driven_wheels  number_of_doors  \\\n",
       "0               8.0         automatic  rear_wheel_drive              4.0   \n",
       "1               6.0         automatic  rear_wheel_drive              4.0   \n",
       "2               6.0         automatic  rear_wheel_drive              4.0   \n",
       "3               6.0         automatic  rear_wheel_drive              4.0   \n",
       "4               6.0         automatic  rear_wheel_drive              2.0   \n",
       "\n",
       "  market_category vehicle_size        vehicle_style  highway_mpg  city_mpg  \\\n",
       "0             NaN        large      crew_cab_pickup           23        16   \n",
       "1       flex_fuel        large  extended_cab_pickup           24        18   \n",
       "2       flex_fuel        large      crew_cab_pickup           24        18   \n",
       "3       flex_fuel        large  extended_cab_pickup           24        18   \n",
       "4       flex_fuel        large   regular_cab_pickup           24        18   \n",
       "\n",
       "   popularity  \n",
       "0        1385  \n",
       "1        1385  \n",
       "2        1385  \n",
       "3        1385  \n",
       "4        1385  "
      ]
     },
     "execution_count": 472,
     "metadata": {},
     "output_type": "execute_result"
    }
   ],
   "source": [
    "df_test.head()"
   ]
  },
  {
   "cell_type": "code",
   "execution_count": 409,
   "id": "59da89fc-cd75-4eaf-bf31-4d55a1237f41",
   "metadata": {},
   "outputs": [],
   "source": [
    "y_train = np.log1p(df_train.msrp.values)\n",
    "y_val = np.log1p(df_val.msrp.values)\n",
    "y_test = np.log1p(df_test.msrp.values)"
   ]
  },
  {
   "cell_type": "code",
   "execution_count": 410,
   "id": "b7f72203-2607-41ff-b4f9-ab36a348648f",
   "metadata": {},
   "outputs": [],
   "source": [
    "del df_train['msrp']\n",
    "del df_val['msrp']\n",
    "del df_test['msrp']"
   ]
  },
  {
   "cell_type": "code",
   "execution_count": null,
   "id": "2bc01795-dd6e-49e3-83e5-046ee0b58a93",
   "metadata": {},
   "outputs": [],
   "source": []
  },
  {
   "cell_type": "markdown",
   "id": "0b3e5800-9c4a-4c6f-aeaa-9a3ecfaa8de2",
   "metadata": {},
   "source": [
    "#### 2.5: Linear Regression"
   ]
  },
  {
   "cell_type": "code",
   "execution_count": 210,
   "id": "aaff6ef4-0f82-41c1-af9d-897c1d8f2c81",
   "metadata": {},
   "outputs": [
    {
     "data": {
      "text/plain": [
       "make                             nissan\n",
       "model                             truck\n",
       "year                               1995\n",
       "engine_fuel_type       regular_unleaded\n",
       "engine_hp                         134.0\n",
       "engine_cylinders                    4.0\n",
       "transmission_type                manual\n",
       "driven_wheels          four_wheel_drive\n",
       "number_of_doors                     2.0\n",
       "market_category                     NaN\n",
       "vehicle_size                    compact\n",
       "vehicle_style        regular_cab_pickup\n",
       "highway_mpg                          19\n",
       "city_mpg                             16\n",
       "popularity                         2009\n",
       "Name: 12, dtype: object"
      ]
     },
     "execution_count": 210,
     "metadata": {},
     "output_type": "execute_result"
    }
   ],
   "source": [
    "# An example\n",
    "df_train.iloc[12]"
   ]
  },
  {
   "cell_type": "code",
   "execution_count": 196,
   "id": "629ece70-e3ec-418e-b600-f5a6afe3e60b",
   "metadata": {},
   "outputs": [],
   "source": [
    "xi = [106.0, 30, 2031] #engine_hp, city_mpg, popularity"
   ]
  },
  {
   "cell_type": "code",
   "execution_count": 182,
   "id": "cfd1c9e3-cad3-4f74-82e3-6ddef671300f",
   "metadata": {},
   "outputs": [],
   "source": [
    "w0 = 0\n",
    "w = [0.01, 0.04, 0.002] "
   ]
  },
  {
   "cell_type": "code",
   "execution_count": 183,
   "id": "18ef5531-4e14-435c-83eb-7b0c96f15de1",
   "metadata": {},
   "outputs": [],
   "source": [
    "# We need something like\n",
    "\n",
    "def linear_regression(xi):\n",
    "    n = len(xi)\n",
    "\n",
    "    pred = w0\n",
    "\n",
    "    for j in range(n):\n",
    "        pred = pred + w[j] * xi[j]\n",
    "    return pred"
   ]
  },
  {
   "cell_type": "code",
   "execution_count": 184,
   "id": "75875eba-7fac-4a70-a94b-1564a2d30a1e",
   "metadata": {},
   "outputs": [
    {
     "data": {
      "text/plain": [
       "6.322"
      ]
     },
     "execution_count": 184,
     "metadata": {},
     "output_type": "execute_result"
    }
   ],
   "source": [
    "linear_regression(xi)"
   ]
  },
  {
   "cell_type": "code",
   "execution_count": 188,
   "id": "9282dabe-a46b-4a37-bf66-2b8b469dd165",
   "metadata": {},
   "outputs": [
    {
     "data": {
      "text/plain": [
       "555.6852503234251"
      ]
     },
     "execution_count": 188,
     "metadata": {},
     "output_type": "execute_result"
    }
   ],
   "source": [
    "np.expm1(6.322).item() #Getting back from the log 1p value, we take the exponent"
   ]
  },
  {
   "cell_type": "code",
   "execution_count": null,
   "id": "549987ad-a4bb-4550-9fb2-661a5889346a",
   "metadata": {},
   "outputs": [],
   "source": []
  },
  {
   "cell_type": "markdown",
   "id": "6966274e-d753-442f-b712-d33df52c4ecd",
   "metadata": {},
   "source": [
    "#### 2.6: Linear Regression vector form"
   ]
  },
  {
   "cell_type": "code",
   "execution_count": 199,
   "id": "ca853eef-0a60-4971-9eff-8fa255691b5b",
   "metadata": {},
   "outputs": [],
   "source": [
    "def dot(xi, w):\n",
    "    n = len(xi)\n",
    "    res = 0.0\n",
    "\n",
    "    for j in range(n):\n",
    "        res = res + xi[j] * w[j]\n",
    "    return res"
   ]
  },
  {
   "cell_type": "code",
   "execution_count": 200,
   "id": "78479885-df9d-44ec-bec8-87d927352cf2",
   "metadata": {},
   "outputs": [],
   "source": [
    "def linear_regression(xi):\n",
    "    return w0 + dot(xi, w)"
   ]
  },
  {
   "cell_type": "code",
   "execution_count": 201,
   "id": "65bde525-5f0a-45d2-9c81-cc929810825f",
   "metadata": {},
   "outputs": [],
   "source": [
    "w0 = 7.17 #Weight when first feature of xi = 1"
   ]
  },
  {
   "cell_type": "code",
   "execution_count": 202,
   "id": "e8af679b-f70d-4a24-a949-5cd979222da9",
   "metadata": {},
   "outputs": [],
   "source": [
    "w_ = [w0] + w"
   ]
  },
  {
   "cell_type": "code",
   "execution_count": 203,
   "id": "f7661b69-b8b7-4556-a4bc-608e944b06b4",
   "metadata": {},
   "outputs": [
    {
     "data": {
      "text/plain": [
       "[7.17, 0.01, 0.04, 0.002]"
      ]
     },
     "execution_count": 203,
     "metadata": {},
     "output_type": "execute_result"
    }
   ],
   "source": [
    "w_"
   ]
  },
  {
   "cell_type": "code",
   "execution_count": 207,
   "id": "82baf24e-cc18-4d84-b1bb-ff904287a801",
   "metadata": {},
   "outputs": [],
   "source": [
    "# NB: dot prod uses transpose of feature vector/matrix"
   ]
  },
  {
   "cell_type": "code",
   "execution_count": 204,
   "id": "aa7bb016-afff-4d1a-ac9b-72df1ca71144",
   "metadata": {},
   "outputs": [],
   "source": [
    "def linear_regression(xi):\n",
    "    xi = [1] + xi\n",
    "    return dot(xi, w_)"
   ]
  },
  {
   "cell_type": "code",
   "execution_count": 205,
   "id": "1ed2405b-904f-4345-be5b-973a9bbbd330",
   "metadata": {},
   "outputs": [
    {
     "data": {
      "text/plain": [
       "13.492"
      ]
     },
     "execution_count": 205,
     "metadata": {},
     "output_type": "execute_result"
    }
   ],
   "source": [
    "linear_regression(xi)"
   ]
  },
  {
   "cell_type": "markdown",
   "id": "f8f82988-1198-424c-a107-8b24bc45edbb",
   "metadata": {},
   "source": [
    "#### Now for the full matrix"
   ]
  },
  {
   "cell_type": "code",
   "execution_count": 206,
   "id": "87c7e80d-1b64-462d-891e-d500a99cd16a",
   "metadata": {},
   "outputs": [],
   "source": [
    "# For m rows and n columns, p = 1 col."
   ]
  },
  {
   "cell_type": "code",
   "execution_count": null,
   "id": "4705354c-0ca3-44fd-8e2c-58df0d7ff2d9",
   "metadata": {},
   "outputs": [],
   "source": [
    "# So for matrix (m x n) x (n x p) = (m x p) = predictions"
   ]
  },
  {
   "cell_type": "code",
   "execution_count": null,
   "id": "0f9391dc-a72f-4aee-99b7-ee2b2b756585",
   "metadata": {},
   "outputs": [],
   "source": [
    "# x1T*w, x2T*w, ....."
   ]
  },
  {
   "cell_type": "markdown",
   "id": "57a36b32-389b-4de1-9577-4056eb07c5bb",
   "metadata": {},
   "source": [
    "### Let's do an example"
   ]
  },
  {
   "cell_type": "code",
   "execution_count": 222,
   "id": "6261f0e9-4a7d-4e24-9725-b5c9dcb3e0b7",
   "metadata": {},
   "outputs": [
    {
     "data": {
      "text/plain": [
       "array([[   1.,  106.,   30., 2031.],\n",
       "       [   1.,  150.,   15.,  586.],\n",
       "       [   1.,  134.,   16., 2009.]])"
      ]
     },
     "execution_count": 222,
     "metadata": {},
     "output_type": "execute_result"
    }
   ],
   "source": [
    "# If our sample rows have the follow\n",
    "x1 = [1, 106.0, 30, 2031] # 1 is added to maintain the weight w0\n",
    "x2 = [1, 150, 15, 586]\n",
    "x3 = [1, 134, 16, 2009]\n",
    "\n",
    "w0 = 7.17\n",
    "w = [0.01, 0.04, 0.002]\n",
    "w_ = [w0] + w\n",
    "\n",
    "# Our matrix\n",
    "X = [x1, x2, x3]\n",
    "\n",
    "X = np.array(X)\n",
    "X.astype(int)\n",
    "X"
   ]
  },
  {
   "cell_type": "code",
   "execution_count": 224,
   "id": "e5d4a3c7-eca1-4d5a-bd16-36a97659960f",
   "metadata": {},
   "outputs": [
    {
     "data": {
      "text/plain": [
       "array([13.492, 10.442, 13.168])"
      ]
     },
     "execution_count": 224,
     "metadata": {},
     "output_type": "execute_result"
    }
   ],
   "source": [
    "X.dot(w_) \n",
    "\n",
    "#Gives us the predictions of these records, \n",
    "#look the first still same as before"
   ]
  },
  {
   "cell_type": "code",
   "execution_count": 225,
   "id": "60710121-c607-4f4f-9fa4-846fd28b2d9d",
   "metadata": {},
   "outputs": [],
   "source": [
    "def linear_regression(X):\n",
    "    return X.dot(w_)"
   ]
  },
  {
   "cell_type": "code",
   "execution_count": 226,
   "id": "9b4aa916-ff82-4e0b-80f5-723a04c078d8",
   "metadata": {},
   "outputs": [
    {
     "data": {
      "text/plain": [
       "array([13.492, 10.442, 13.168])"
      ]
     },
     "execution_count": 226,
     "metadata": {},
     "output_type": "execute_result"
    }
   ],
   "source": [
    "linear_regression(X)"
   ]
  },
  {
   "cell_type": "code",
   "execution_count": null,
   "id": "d4a7304e-e02d-43c2-b5c7-b5cd1702bd9d",
   "metadata": {},
   "outputs": [],
   "source": []
  },
  {
   "cell_type": "markdown",
   "id": "b6ea6e2a-61bf-4ab7-973f-155a273787fe",
   "metadata": {},
   "source": [
    "### 2.7: Training a Linear Regression Model"
   ]
  },
  {
   "cell_type": "code",
   "execution_count": 320,
   "id": "da96ca11-c084-4547-a565-273cc57720c3",
   "metadata": {},
   "outputs": [],
   "source": [
    "# Lets create an arbitrary X\n",
    "\n",
    "import random\n",
    "# Create a 2D list: 9 inner lists, each with 3 random integers (0–100)\n",
    "X = [[random.randint(0, 500) for _ in range(3)] for _ in range(9)]\n",
    "X = np.array(X)\n",
    "y = [10000, 20000, 15000, 20500, 10000, 20000, 15000, 25000, 12000]"
   ]
  },
  {
   "cell_type": "code",
   "execution_count": 322,
   "id": "6381b5b9-c59b-443b-a083-d45d1c45aeeb",
   "metadata": {},
   "outputs": [
    {
     "data": {
      "text/plain": [
       "(array([[314, 184, 424],\n",
       "        [ 20, 362, 143],\n",
       "        [  0, 403, 131],\n",
       "        [155, 441, 176],\n",
       "        [ 37, 248,  84],\n",
       "        [  8, 252,  96],\n",
       "        [ 78, 350, 273],\n",
       "        [355, 127,  43],\n",
       "        [367,  45,  72]]),\n",
       " [10000, 20000, 15000, 20500, 10000, 20000, 15000, 25000, 12000])"
      ]
     },
     "execution_count": 322,
     "metadata": {},
     "output_type": "execute_result"
    }
   ],
   "source": [
    "X, y"
   ]
  },
  {
   "cell_type": "code",
   "execution_count": 312,
   "id": "bee62aab-acf1-4544-8388-60c6c9eee6f5",
   "metadata": {},
   "outputs": [
    {
     "data": {
      "text/plain": [
       "array([[ 1.,  0.,  0.,  0.],\n",
       "       [ 0.,  1.,  0.,  0.],\n",
       "       [-0., -0.,  1.,  0.],\n",
       "       [-0.,  0., -0.,  1.]])"
      ]
     },
     "execution_count": 312,
     "metadata": {},
     "output_type": "execute_result"
    }
   ],
   "source": [
    "# Verify\n",
    "# XTX.dot(XTX_inv)  # Indentity matrix"
   ]
  },
  {
   "cell_type": "code",
   "execution_count": 313,
   "id": "0a9f709d-f298-4102-8297-bce63fb84119",
   "metadata": {},
   "outputs": [],
   "source": []
  },
  {
   "cell_type": "code",
   "execution_count": null,
   "id": "526360d7-68dd-4f46-ad7f-a0b1f540a0ab",
   "metadata": {},
   "outputs": [],
   "source": []
  },
  {
   "cell_type": "code",
   "execution_count": 323,
   "id": "3d2faaa0-0e90-47e7-94b7-d4bb997e0477",
   "metadata": {},
   "outputs": [],
   "source": [
    "def train_lR(X, y):\n",
    "    # Now we need the element at X = 1, for w0\n",
    "    ones = np.ones(X.shape[0])\n",
    "    X = np.column_stack([ones, X])\n",
    "    XTX = X.T.dot(X)\n",
    "    XTX_inv = np.linalg.inv(XTX)\n",
    "    # Now to approximate the weights\n",
    "    w__ = XTX_inv.dot(X.T).dot(y)\n",
    "    w0 = w__[0]\n",
    "    w = w__[1:]\n",
    "    return (w0, w)"
   ]
  },
  {
   "cell_type": "code",
   "execution_count": 324,
   "id": "62169f81-0e6f-4e5e-9259-1c54a22c5e25",
   "metadata": {},
   "outputs": [
    {
     "data": {
      "text/plain": [
       "(np.float64(9113.81766847415),\n",
       " array([ 21.99435216,  31.90971675, -28.3155767 ]))"
      ]
     },
     "execution_count": 324,
     "metadata": {},
     "output_type": "execute_result"
    }
   ],
   "source": [
    "train_lR(X, y)"
   ]
  },
  {
   "cell_type": "code",
   "execution_count": null,
   "id": "bb67ff88-4a81-4247-b35e-581802236e20",
   "metadata": {},
   "outputs": [],
   "source": []
  },
  {
   "cell_type": "markdown",
   "id": "7732f013-673b-4322-a1e6-ee1021b5d6a8",
   "metadata": {},
   "source": [
    "### 2.8: Car price baseline model"
   ]
  },
  {
   "cell_type": "code",
   "execution_count": 411,
   "id": "2a6fc132-dc7e-4a38-995c-135a912b0a1d",
   "metadata": {},
   "outputs": [
    {
     "data": {
      "text/plain": [
       "Index(['make', 'model', 'year', 'engine_fuel_type', 'engine_hp',\n",
       "       'engine_cylinders', 'transmission_type', 'driven_wheels',\n",
       "       'number_of_doors', 'market_category', 'vehicle_size', 'vehicle_style',\n",
       "       'highway_mpg', 'city_mpg', 'popularity'],\n",
       "      dtype='object')"
      ]
     },
     "execution_count": 411,
     "metadata": {},
     "output_type": "execute_result"
    }
   ],
   "source": [
    "# df_train.dtypes\n",
    "df_train.columns"
   ]
  },
  {
   "cell_type": "code",
   "execution_count": 412,
   "id": "8f779352-590e-4317-9477-5452a565c5b0",
   "metadata": {},
   "outputs": [],
   "source": [
    "numeric_cols = list(df.dtypes[df.dtypes != 'object'].index)"
   ]
  },
  {
   "cell_type": "code",
   "execution_count": 577,
   "id": "9793a706-2396-4eec-b389-59c5ded38c2f",
   "metadata": {},
   "outputs": [],
   "source": [
    "categorical_cols = list(df.dtypes[df.dtypes == 'object'].index)"
   ]
  },
  {
   "cell_type": "code",
   "execution_count": 579,
   "id": "40a0304e-30e0-45c9-90b3-a6230fd3a014",
   "metadata": {},
   "outputs": [
    {
     "data": {
      "text/plain": [
       "['make',\n",
       " 'model',\n",
       " 'engine_fuel_type',\n",
       " 'transmission_type',\n",
       " 'driven_wheels',\n",
       " 'market_category',\n",
       " 'vehicle_size',\n",
       " 'vehicle_style']"
      ]
     },
     "execution_count": 579,
     "metadata": {},
     "output_type": "execute_result"
    }
   ],
   "source": [
    "categorical_cols"
   ]
  },
  {
   "cell_type": "code",
   "execution_count": 413,
   "id": "bb5ed5ef-532d-4c7d-820b-4060738643f9",
   "metadata": {},
   "outputs": [
    {
     "data": {
      "text/plain": [
       "['year',\n",
       " 'engine_hp',\n",
       " 'engine_cylinders',\n",
       " 'number_of_doors',\n",
       " 'highway_mpg',\n",
       " 'city_mpg',\n",
       " 'popularity',\n",
       " 'msrp']"
      ]
     },
     "execution_count": 413,
     "metadata": {},
     "output_type": "execute_result"
    }
   ],
   "source": [
    "numeric_cols"
   ]
  },
  {
   "cell_type": "code",
   "execution_count": 546,
   "id": "ed4b092b-1248-4052-a7f8-60ae8652003e",
   "metadata": {},
   "outputs": [],
   "source": [
    "base = [\n",
    "    'engine_hp',\n",
    "     'engine_cylinders',\n",
    "     'highway_mpg',\n",
    "     'city_mpg',\n",
    "     'popularity'\n",
    "]"
   ]
  },
  {
   "cell_type": "code",
   "execution_count": 547,
   "id": "f99e2686-5948-4bae-813b-2fe71c961334",
   "metadata": {},
   "outputs": [
    {
     "data": {
      "text/plain": [
       "['engine_hp', 'engine_cylinders', 'highway_mpg', 'city_mpg', 'popularity']"
      ]
     },
     "execution_count": 547,
     "metadata": {},
     "output_type": "execute_result"
    }
   ],
   "source": [
    "base"
   ]
  },
  {
   "cell_type": "code",
   "execution_count": 449,
   "id": "2f015f46-b065-4609-b0b3-dec5a47d97c2",
   "metadata": {},
   "outputs": [
    {
     "data": {
      "text/html": [
       "<div>\n",
       "<style scoped>\n",
       "    .dataframe tbody tr th:only-of-type {\n",
       "        vertical-align: middle;\n",
       "    }\n",
       "\n",
       "    .dataframe tbody tr th {\n",
       "        vertical-align: top;\n",
       "    }\n",
       "\n",
       "    .dataframe thead th {\n",
       "        text-align: right;\n",
       "    }\n",
       "</style>\n",
       "<table border=\"1\" class=\"dataframe\">\n",
       "  <thead>\n",
       "    <tr style=\"text-align: right;\">\n",
       "      <th></th>\n",
       "      <th>engine_hp</th>\n",
       "      <th>engine_cylinders</th>\n",
       "      <th>highway_mpg</th>\n",
       "      <th>city_mpg</th>\n",
       "      <th>popularity</th>\n",
       "    </tr>\n",
       "  </thead>\n",
       "  <tbody>\n",
       "    <tr>\n",
       "      <th>0</th>\n",
       "      <td>275.0</td>\n",
       "      <td>6.0</td>\n",
       "      <td>18</td>\n",
       "      <td>13</td>\n",
       "      <td>549</td>\n",
       "    </tr>\n",
       "    <tr>\n",
       "      <th>1</th>\n",
       "      <td>170.0</td>\n",
       "      <td>4.0</td>\n",
       "      <td>38</td>\n",
       "      <td>25</td>\n",
       "      <td>873</td>\n",
       "    </tr>\n",
       "    <tr>\n",
       "      <th>2</th>\n",
       "      <td>248.0</td>\n",
       "      <td>6.0</td>\n",
       "      <td>28</td>\n",
       "      <td>19</td>\n",
       "      <td>2202</td>\n",
       "    </tr>\n",
       "    <tr>\n",
       "      <th>3</th>\n",
       "      <td>138.0</td>\n",
       "      <td>4.0</td>\n",
       "      <td>36</td>\n",
       "      <td>25</td>\n",
       "      <td>1385</td>\n",
       "    </tr>\n",
       "    <tr>\n",
       "      <th>4</th>\n",
       "      <td>162.0</td>\n",
       "      <td>4.0</td>\n",
       "      <td>20</td>\n",
       "      <td>17</td>\n",
       "      <td>870</td>\n",
       "    </tr>\n",
       "  </tbody>\n",
       "</table>\n",
       "</div>"
      ],
      "text/plain": [
       "   engine_hp  engine_cylinders  highway_mpg  city_mpg  popularity\n",
       "0      275.0               6.0           18        13         549\n",
       "1      170.0               4.0           38        25         873\n",
       "2      248.0               6.0           28        19        2202\n",
       "3      138.0               4.0           36        25        1385\n",
       "4      162.0               4.0           20        17         870"
      ]
     },
     "execution_count": 449,
     "metadata": {},
     "output_type": "execute_result"
    }
   ],
   "source": [
    "df_train[base].head()"
   ]
  },
  {
   "cell_type": "code",
   "execution_count": 426,
   "id": "56f79fd8-c036-4b83-b74c-2144aa5e22ad",
   "metadata": {},
   "outputs": [
    {
     "data": {
      "text/plain": [
       "engine_hp           52\n",
       "engine_cylinders    16\n",
       "highway_mpg          0\n",
       "city_mpg             0\n",
       "popularity           0\n",
       "dtype: int64"
      ]
     },
     "execution_count": 426,
     "metadata": {},
     "output_type": "execute_result"
    }
   ],
   "source": [
    "# nans can be gotten as our weights if nans exist, so we can get rid of nans\n",
    "df_train[base].isna().sum()"
   ]
  },
  {
   "cell_type": "code",
   "execution_count": 428,
   "id": "35a151c3-442a-45b4-8a94-75ae7c023569",
   "metadata": {},
   "outputs": [],
   "source": [
    "df_train = df_train[base].fillna(0)"
   ]
  },
  {
   "cell_type": "code",
   "execution_count": 429,
   "id": "913bd4b0-15dc-48fc-a31d-482b0d2fbbee",
   "metadata": {},
   "outputs": [
    {
     "data": {
      "text/plain": [
       "engine_hp           0\n",
       "engine_cylinders    0\n",
       "highway_mpg         0\n",
       "city_mpg            0\n",
       "popularity          0\n",
       "dtype: int64"
      ]
     },
     "execution_count": 429,
     "metadata": {},
     "output_type": "execute_result"
    }
   ],
   "source": [
    "df_train[base].isna().sum()"
   ]
  },
  {
   "cell_type": "code",
   "execution_count": 430,
   "id": "510b166e-83d1-4428-842c-90cd84d6af65",
   "metadata": {},
   "outputs": [
    {
     "data": {
      "text/plain": [
       "array([[ 275.,    6.,   18.,   13.,  549.],\n",
       "       [ 170.,    4.,   38.,   25.,  873.],\n",
       "       [ 248.,    6.,   28.,   19., 2202.],\n",
       "       ...,\n",
       "       [ 150.,    4.,   24.,   17., 1851.],\n",
       "       [ 160.,    4.,   31.,   22.,  204.],\n",
       "       [ 274.,    4.,   27.,   17., 1439.]], shape=(7150, 5))"
      ]
     },
     "execution_count": 430,
     "metadata": {},
     "output_type": "execute_result"
    }
   ],
   "source": [
    "X_train = df_train[base].values\n",
    "X_train"
   ]
  },
  {
   "cell_type": "code",
   "execution_count": 431,
   "id": "b84b8bda-7d97-474d-97a2-3594656886af",
   "metadata": {},
   "outputs": [
    {
     "data": {
      "text/plain": [
       "array([10.29876764, 10.32535081, 10.53611479, ...,  9.83258214,\n",
       "        9.96062374, 10.28537692], shape=(7150,))"
      ]
     },
     "execution_count": 431,
     "metadata": {},
     "output_type": "execute_result"
    }
   ],
   "source": [
    "y_train #From the initial processing of the dataset up up!"
   ]
  },
  {
   "cell_type": "code",
   "execution_count": 433,
   "id": "10ed837f-b4c0-48d9-a825-84d36d93af3e",
   "metadata": {},
   "outputs": [],
   "source": [
    "# Use model trainer function\n",
    "\n",
    "w0, w = train_lR(X_train, y_train)"
   ]
  },
  {
   "cell_type": "code",
   "execution_count": 436,
   "id": "2ce94e15-c924-4fba-8e27-490829ef09c2",
   "metadata": {},
   "outputs": [
    {
     "data": {
      "text/plain": [
       "(5,)"
      ]
     },
     "execution_count": 436,
     "metadata": {},
     "output_type": "execute_result"
    }
   ],
   "source": [
    "# Now we can make predictions\n",
    "\n",
    "# Lets apply same model to train df\n",
    "w.shape"
   ]
  },
  {
   "cell_type": "code",
   "execution_count": 437,
   "id": "ccd1958b-7a5e-4082-9663-8bdb48dc4ba7",
   "metadata": {},
   "outputs": [
    {
     "data": {
      "text/plain": [
       "(7150, 5)"
      ]
     },
     "execution_count": 437,
     "metadata": {},
     "output_type": "execute_result"
    }
   ],
   "source": [
    "X_train.shape"
   ]
  },
  {
   "cell_type": "code",
   "execution_count": 438,
   "id": "2bfff08a-2d8e-4796-883a-dc517f840bc0",
   "metadata": {},
   "outputs": [
    {
     "data": {
      "text/plain": [
       "(7150,)"
      ]
     },
     "execution_count": 438,
     "metadata": {},
     "output_type": "execute_result"
    }
   ],
   "source": [
    "y_train.shape"
   ]
  },
  {
   "cell_type": "code",
   "execution_count": 442,
   "id": "0d3f99f2-991f-42fc-b8a2-befeaf6bf44c",
   "metadata": {},
   "outputs": [],
   "source": [
    "y_pred = w0 + X_train.dot(w) # => Equivalent to what we had "
   ]
  },
  {
   "cell_type": "code",
   "execution_count": 443,
   "id": "a4c724fb-6453-49e5-9b2d-c016675c8dd9",
   "metadata": {},
   "outputs": [
    {
     "data": {
      "text/plain": [
       "<Axes: ylabel='Count'>"
      ]
     },
     "execution_count": 443,
     "metadata": {},
     "output_type": "execute_result"
    },
    {
     "data": {
      "image/png": "[encoded data removed]",
      "text/plain": [
       "<Figure size 640x480 with 1 Axes>"
      ]
     },
     "metadata": {},
     "output_type": "display_data"
    }
   ],
   "source": [
    "sns.histplot(y_pred, color='red', bins=50, alpha=0.5)\n",
    "sns.histplot(y_train, color='blue', bins=50, alpha=0.5)"
   ]
  },
  {
   "cell_type": "code",
   "execution_count": null,
   "id": "cf7850c2-e63d-4aff-9d0a-6cb6df906c94",
   "metadata": {},
   "outputs": [],
   "source": []
  },
  {
   "cell_type": "markdown",
   "id": "71d4e148-3208-4cec-9284-a1f1cfe2f664",
   "metadata": {},
   "source": [
    "### 2.9 & 2.10: RMSE"
   ]
  },
  {
   "cell_type": "code",
   "execution_count": 446,
   "id": "a1e028dd-1e44-4b13-a058-5d896aaf423a",
   "metadata": {},
   "outputs": [],
   "source": [
    "# Let's create our rmse\n",
    "def rmse(y, y_pred):\n",
    "    se = (y - y_pred) ** 2\n",
    "    mse = se.mean()\n",
    "    return np.sqrt(mse)"
   ]
  },
  {
   "cell_type": "code",
   "execution_count": 447,
   "id": "3750344b-6daf-47d0-a04f-a22b636d8e2e",
   "metadata": {},
   "outputs": [
    {
     "data": {
      "text/plain": [
       "np.float64(0.7570200472453602)"
      ]
     },
     "execution_count": 447,
     "metadata": {},
     "output_type": "execute_result"
    }
   ],
   "source": [
    "rmse(y_train, y_pred)"
   ]
  },
  {
   "cell_type": "code",
   "execution_count": 453,
   "id": "45e00326-f0c6-41bf-91d5-0d5186c811b6",
   "metadata": {},
   "outputs": [],
   "source": [
    "# Now use on validation set\n",
    "# First let's wrap creation of X in a function\n",
    "\n",
    "def prepare_X(df):\n",
    "    df_numerical = df[base]\n",
    "    df_numerical = df[base].fillna(0)\n",
    "    X = df_numerical.values\n",
    "    return X"
   ]
  },
  {
   "cell_type": "code",
   "execution_count": 455,
   "id": "19b894c2-6b78-41e4-91e3-02f903a7133e",
   "metadata": {},
   "outputs": [],
   "source": [
    "X_train = prepare_X(df_train)\n",
    "w0, w = train_lR(X_train, y_train)\n",
    "\n",
    "X_val = prepare_X(df_val)\n",
    "y_pred = w0 + X_val.dot(w) # => Equivalent to what we had "
   ]
  },
  {
   "cell_type": "code",
   "execution_count": 462,
   "id": "cb159974-98b0-460a-b39a-4b1d2efc99d5",
   "metadata": {},
   "outputs": [
    {
     "data": {
      "text/plain": [
       "0.74"
      ]
     },
     "execution_count": 462,
     "metadata": {},
     "output_type": "execute_result"
    }
   ],
   "source": [
    "np.round(rmse(y_val, y_pred), 2).item()"
   ]
  },
  {
   "cell_type": "code",
   "execution_count": null,
   "id": "8534e219-142a-498f-8fbd-185e7483d36e",
   "metadata": {},
   "outputs": [],
   "source": []
  },
  {
   "cell_type": "markdown",
   "id": "7bee9854-1179-442b-b316-b69b6429bcf2",
   "metadata": {},
   "source": [
    "### 2.11: Some Feature Engineering"
   ]
  },
  {
   "cell_type": "code",
   "execution_count": 475,
   "id": "a4ea6055-2e54-4e55-a904-91575c612497",
   "metadata": {},
   "outputs": [
    {
     "data": {
      "text/html": [
       "<div>\n",
       "<style scoped>\n",
       "    .dataframe tbody tr th:only-of-type {\n",
       "        vertical-align: middle;\n",
       "    }\n",
       "\n",
       "    .dataframe tbody tr th {\n",
       "        vertical-align: top;\n",
       "    }\n",
       "\n",
       "    .dataframe thead th {\n",
       "        text-align: right;\n",
       "    }\n",
       "</style>\n",
       "<table border=\"1\" class=\"dataframe\">\n",
       "  <thead>\n",
       "    <tr style=\"text-align: right;\">\n",
       "      <th></th>\n",
       "      <th>make</th>\n",
       "      <th>model</th>\n",
       "      <th>year</th>\n",
       "      <th>engine_fuel_type</th>\n",
       "      <th>engine_hp</th>\n",
       "      <th>engine_cylinders</th>\n",
       "      <th>transmission_type</th>\n",
       "      <th>driven_wheels</th>\n",
       "      <th>number_of_doors</th>\n",
       "      <th>market_category</th>\n",
       "      <th>vehicle_size</th>\n",
       "      <th>vehicle_style</th>\n",
       "      <th>highway_mpg</th>\n",
       "      <th>city_mpg</th>\n",
       "      <th>popularity</th>\n",
       "      <th>msrp</th>\n",
       "    </tr>\n",
       "  </thead>\n",
       "  <tbody>\n",
       "    <tr>\n",
       "      <th>0</th>\n",
       "      <td>gmc</td>\n",
       "      <td>envoy_xl</td>\n",
       "      <td>2005</td>\n",
       "      <td>regular_unleaded</td>\n",
       "      <td>275.0</td>\n",
       "      <td>6.0</td>\n",
       "      <td>automatic</td>\n",
       "      <td>rear_wheel_drive</td>\n",
       "      <td>4.0</td>\n",
       "      <td>NaN</td>\n",
       "      <td>large</td>\n",
       "      <td>4dr_suv</td>\n",
       "      <td>18</td>\n",
       "      <td>13</td>\n",
       "      <td>549</td>\n",
       "      <td>29695</td>\n",
       "    </tr>\n",
       "    <tr>\n",
       "      <th>1</th>\n",
       "      <td>volkswagen</td>\n",
       "      <td>passat</td>\n",
       "      <td>2016</td>\n",
       "      <td>regular_unleaded</td>\n",
       "      <td>170.0</td>\n",
       "      <td>4.0</td>\n",
       "      <td>automatic</td>\n",
       "      <td>front_wheel_drive</td>\n",
       "      <td>4.0</td>\n",
       "      <td>NaN</td>\n",
       "      <td>midsize</td>\n",
       "      <td>sedan</td>\n",
       "      <td>38</td>\n",
       "      <td>25</td>\n",
       "      <td>873</td>\n",
       "      <td>30495</td>\n",
       "    </tr>\n",
       "    <tr>\n",
       "      <th>2</th>\n",
       "      <td>honda</td>\n",
       "      <td>odyssey</td>\n",
       "      <td>2016</td>\n",
       "      <td>regular_unleaded</td>\n",
       "      <td>248.0</td>\n",
       "      <td>6.0</td>\n",
       "      <td>automatic</td>\n",
       "      <td>front_wheel_drive</td>\n",
       "      <td>4.0</td>\n",
       "      <td>NaN</td>\n",
       "      <td>large</td>\n",
       "      <td>passenger_minivan</td>\n",
       "      <td>28</td>\n",
       "      <td>19</td>\n",
       "      <td>2202</td>\n",
       "      <td>37650</td>\n",
       "    </tr>\n",
       "  </tbody>\n",
       "</table>\n",
       "</div>"
      ],
      "text/plain": [
       "         make     model  year  engine_fuel_type  engine_hp  engine_cylinders  \\\n",
       "0         gmc  envoy_xl  2005  regular_unleaded      275.0               6.0   \n",
       "1  volkswagen    passat  2016  regular_unleaded      170.0               4.0   \n",
       "2       honda   odyssey  2016  regular_unleaded      248.0               6.0   \n",
       "\n",
       "  transmission_type      driven_wheels  number_of_doors market_category  \\\n",
       "0         automatic   rear_wheel_drive              4.0             NaN   \n",
       "1         automatic  front_wheel_drive              4.0             NaN   \n",
       "2         automatic  front_wheel_drive              4.0             NaN   \n",
       "\n",
       "  vehicle_size      vehicle_style  highway_mpg  city_mpg  popularity   msrp  \n",
       "0        large            4dr_suv           18        13         549  29695  \n",
       "1      midsize              sedan           38        25         873  30495  \n",
       "2        large  passenger_minivan           28        19        2202  37650  "
      ]
     },
     "execution_count": 475,
     "metadata": {},
     "output_type": "execute_result"
    }
   ],
   "source": [
    "# Lets try improving the model's accuracy by decreasing RMSE\n",
    "# We can calculate the age of each car say from the max year\n",
    "df_train.head(3)"
   ]
  },
  {
   "cell_type": "code",
   "execution_count": 480,
   "id": "1368e3e3-d6af-4164-95bd-ff3c94af5b5a",
   "metadata": {},
   "outputs": [],
   "source": [
    "max_year = df_train.year.max()"
   ]
  },
  {
   "cell_type": "code",
   "execution_count": 527,
   "id": "9a78fa87-d784-4ee3-aafc-908c51229389",
   "metadata": {},
   "outputs": [
    {
     "data": {
      "text/plain": [
       "np.int64(2017)"
      ]
     },
     "execution_count": 527,
     "metadata": {},
     "output_type": "execute_result"
    }
   ],
   "source": [
    "max_year"
   ]
  },
  {
   "cell_type": "code",
   "execution_count": 481,
   "id": "54768f3e-170c-4189-8083-91e2cad7da1d",
   "metadata": {},
   "outputs": [
    {
     "data": {
      "text/plain": [
       "0       12\n",
       "1        1\n",
       "2        1\n",
       "3        2\n",
       "4       26\n",
       "        ..\n",
       "7145    14\n",
       "7146     2\n",
       "7147    11\n",
       "7148    12\n",
       "7149     3\n",
       "Name: year, Length: 7150, dtype: int64"
      ]
     },
     "execution_count": 481,
     "metadata": {},
     "output_type": "execute_result"
    }
   ],
   "source": [
    "max_year - df_train.year"
   ]
  },
  {
   "cell_type": "code",
   "execution_count": 545,
   "id": "ddda6bf3-21c5-424c-b618-3db6b1d983a2",
   "metadata": {},
   "outputs": [],
   "source": [
    "# base.append('age')"
   ]
  },
  {
   "cell_type": "code",
   "execution_count": 548,
   "id": "43748db4-29c3-4f03-9172-106d60ed1934",
   "metadata": {},
   "outputs": [
    {
     "data": {
      "text/plain": [
       "['engine_hp', 'engine_cylinders', 'highway_mpg', 'city_mpg', 'popularity']"
      ]
     },
     "execution_count": 548,
     "metadata": {},
     "output_type": "execute_result"
    }
   ],
   "source": [
    "base"
   ]
  },
  {
   "cell_type": "code",
   "execution_count": 549,
   "id": "89d435b5-70a5-4261-a6b8-c0a4dc68d308",
   "metadata": {},
   "outputs": [],
   "source": [
    "# Let's update our prep function\n",
    "def prepare_X(df):\n",
    "    df = df.copy()\n",
    "    df['age'] = max_year - df.year\n",
    "    features = base + ['age']\n",
    "    df_numerical = df[features]\n",
    "    df_numerical = df_numerical.fillna(0)\n",
    "    X = df_numerical.values\n",
    "    return X"
   ]
  },
  {
   "cell_type": "code",
   "execution_count": 550,
   "id": "651466db-c157-49a5-bd48-78fb76329375",
   "metadata": {},
   "outputs": [],
   "source": [
    "X_train = prepare_X(df_train)\n",
    "w0, w = train_lR(X_train, y_train)\n",
    "\n",
    "X_val = prepare_X(df_val)\n",
    "y_pred = w0 + X_val.dot(w) # => Equivalent to what we had "
   ]
  },
  {
   "cell_type": "code",
   "execution_count": 551,
   "id": "061c8120-169b-418e-85da-4d4cf0496b76",
   "metadata": {},
   "outputs": [
    {
     "data": {
      "text/plain": [
       "0.51"
      ]
     },
     "execution_count": 551,
     "metadata": {},
     "output_type": "execute_result"
    }
   ],
   "source": [
    "np.round(rmse(y_val, y_pred), 2).item() # Model improved as error reduced"
   ]
  },
  {
   "cell_type": "code",
   "execution_count": 552,
   "id": "18810904-d582-40c3-a457-89913b0705e4",
   "metadata": {},
   "outputs": [
    {
     "data": {
      "text/plain": [
       "<Axes: ylabel='Count'>"
      ]
     },
     "execution_count": 552,
     "metadata": {},
     "output_type": "execute_result"
    },
    {
     "data": {
      "image/png": "[encoded data removed]",
      "text/plain": [
       "<Figure size 640x480 with 1 Axes>"
      ]
     },
     "metadata": {},
     "output_type": "display_data"
    }
   ],
   "source": [
    "sns.histplot(y_pred, color='red', bins=50, alpha=0.5)\n",
    "sns.histplot(y_val, color='blue', bins=50, alpha=0.5)"
   ]
  },
  {
   "cell_type": "code",
   "execution_count": null,
   "id": "473974f0-d7a6-40a6-8015-39ec8f29f0dd",
   "metadata": {},
   "outputs": [],
   "source": []
  },
  {
   "cell_type": "markdown",
   "id": "892c5d8c-febd-4772-97da-9c922763829a",
   "metadata": {},
   "source": [
    "### 2.12: Categorical Variables"
   ]
  },
  {
   "cell_type": "code",
   "execution_count": 554,
   "id": "7a687242-49ca-4577-884b-20ffdddf4486",
   "metadata": {},
   "outputs": [
    {
     "data": {
      "text/html": [
       "<div>\n",
       "<style scoped>\n",
       "    .dataframe tbody tr th:only-of-type {\n",
       "        vertical-align: middle;\n",
       "    }\n",
       "\n",
       "    .dataframe tbody tr th {\n",
       "        vertical-align: top;\n",
       "    }\n",
       "\n",
       "    .dataframe thead th {\n",
       "        text-align: right;\n",
       "    }\n",
       "</style>\n",
       "<table border=\"1\" class=\"dataframe\">\n",
       "  <thead>\n",
       "    <tr style=\"text-align: right;\">\n",
       "      <th></th>\n",
       "      <th>make</th>\n",
       "      <th>model</th>\n",
       "      <th>year</th>\n",
       "      <th>engine_fuel_type</th>\n",
       "      <th>engine_hp</th>\n",
       "      <th>engine_cylinders</th>\n",
       "      <th>transmission_type</th>\n",
       "      <th>driven_wheels</th>\n",
       "      <th>number_of_doors</th>\n",
       "      <th>market_category</th>\n",
       "      <th>vehicle_size</th>\n",
       "      <th>vehicle_style</th>\n",
       "      <th>highway_mpg</th>\n",
       "      <th>city_mpg</th>\n",
       "      <th>popularity</th>\n",
       "      <th>msrp</th>\n",
       "      <th>num_doors_2</th>\n",
       "      <th>num_doors_3</th>\n",
       "      <th>num_doors_4</th>\n",
       "    </tr>\n",
       "  </thead>\n",
       "  <tbody>\n",
       "    <tr>\n",
       "      <th>0</th>\n",
       "      <td>gmc</td>\n",
       "      <td>envoy_xl</td>\n",
       "      <td>2005</td>\n",
       "      <td>regular_unleaded</td>\n",
       "      <td>275.0</td>\n",
       "      <td>6.0</td>\n",
       "      <td>automatic</td>\n",
       "      <td>rear_wheel_drive</td>\n",
       "      <td>4.0</td>\n",
       "      <td>NaN</td>\n",
       "      <td>large</td>\n",
       "      <td>4dr_suv</td>\n",
       "      <td>18</td>\n",
       "      <td>13</td>\n",
       "      <td>549</td>\n",
       "      <td>29695</td>\n",
       "      <td>0</td>\n",
       "      <td>0</td>\n",
       "      <td>1</td>\n",
       "    </tr>\n",
       "    <tr>\n",
       "      <th>1</th>\n",
       "      <td>volkswagen</td>\n",
       "      <td>passat</td>\n",
       "      <td>2016</td>\n",
       "      <td>regular_unleaded</td>\n",
       "      <td>170.0</td>\n",
       "      <td>4.0</td>\n",
       "      <td>automatic</td>\n",
       "      <td>front_wheel_drive</td>\n",
       "      <td>4.0</td>\n",
       "      <td>NaN</td>\n",
       "      <td>midsize</td>\n",
       "      <td>sedan</td>\n",
       "      <td>38</td>\n",
       "      <td>25</td>\n",
       "      <td>873</td>\n",
       "      <td>30495</td>\n",
       "      <td>0</td>\n",
       "      <td>0</td>\n",
       "      <td>1</td>\n",
       "    </tr>\n",
       "    <tr>\n",
       "      <th>2</th>\n",
       "      <td>honda</td>\n",
       "      <td>odyssey</td>\n",
       "      <td>2016</td>\n",
       "      <td>regular_unleaded</td>\n",
       "      <td>248.0</td>\n",
       "      <td>6.0</td>\n",
       "      <td>automatic</td>\n",
       "      <td>front_wheel_drive</td>\n",
       "      <td>4.0</td>\n",
       "      <td>NaN</td>\n",
       "      <td>large</td>\n",
       "      <td>passenger_minivan</td>\n",
       "      <td>28</td>\n",
       "      <td>19</td>\n",
       "      <td>2202</td>\n",
       "      <td>37650</td>\n",
       "      <td>0</td>\n",
       "      <td>0</td>\n",
       "      <td>1</td>\n",
       "    </tr>\n",
       "  </tbody>\n",
       "</table>\n",
       "</div>"
      ],
      "text/plain": [
       "         make     model  year  engine_fuel_type  engine_hp  engine_cylinders  \\\n",
       "0         gmc  envoy_xl  2005  regular_unleaded      275.0               6.0   \n",
       "1  volkswagen    passat  2016  regular_unleaded      170.0               4.0   \n",
       "2       honda   odyssey  2016  regular_unleaded      248.0               6.0   \n",
       "\n",
       "  transmission_type      driven_wheels  number_of_doors market_category  \\\n",
       "0         automatic   rear_wheel_drive              4.0             NaN   \n",
       "1         automatic  front_wheel_drive              4.0             NaN   \n",
       "2         automatic  front_wheel_drive              4.0             NaN   \n",
       "\n",
       "  vehicle_size      vehicle_style  highway_mpg  city_mpg  popularity   msrp  \\\n",
       "0        large            4dr_suv           18        13         549  29695   \n",
       "1      midsize              sedan           38        25         873  30495   \n",
       "2        large  passenger_minivan           28        19        2202  37650   \n",
       "\n",
       "   num_doors_2  num_doors_3  num_doors_4  \n",
       "0            0            0            1  \n",
       "1            0            0            1  \n",
       "2            0            0            1  "
      ]
     },
     "execution_count": 554,
     "metadata": {},
     "output_type": "execute_result"
    }
   ],
   "source": [
    "df_train.head(3)"
   ]
  },
  {
   "cell_type": "code",
   "execution_count": 555,
   "id": "2c1822e0-2450-4ccd-9247-df350d226910",
   "metadata": {},
   "outputs": [
    {
     "data": {
      "text/plain": [
       "array([ 4.,  2.,  3., nan])"
      ]
     },
     "execution_count": 555,
     "metadata": {},
     "output_type": "execute_result"
    }
   ],
   "source": [
    "df_train.number_of_doors.unique()"
   ]
  },
  {
   "cell_type": "code",
   "execution_count": 556,
   "id": "50bd8dd1-269e-4507-917a-f66d34a25be4",
   "metadata": {},
   "outputs": [],
   "source": [
    "for v in [2,3,4]:\n",
    "    df_train['num_doors_%s' %v] = (df_train.number_of_doors == v).astype('int')"
   ]
  },
  {
   "cell_type": "code",
   "execution_count": 557,
   "id": "89844587-a9c2-481d-9257-2f9f26023650",
   "metadata": {},
   "outputs": [
    {
     "data": {
      "text/html": [
       "<div>\n",
       "<style scoped>\n",
       "    .dataframe tbody tr th:only-of-type {\n",
       "        vertical-align: middle;\n",
       "    }\n",
       "\n",
       "    .dataframe tbody tr th {\n",
       "        vertical-align: top;\n",
       "    }\n",
       "\n",
       "    .dataframe thead th {\n",
       "        text-align: right;\n",
       "    }\n",
       "</style>\n",
       "<table border=\"1\" class=\"dataframe\">\n",
       "  <thead>\n",
       "    <tr style=\"text-align: right;\">\n",
       "      <th></th>\n",
       "      <th>make</th>\n",
       "      <th>model</th>\n",
       "      <th>year</th>\n",
       "      <th>engine_fuel_type</th>\n",
       "      <th>engine_hp</th>\n",
       "      <th>engine_cylinders</th>\n",
       "      <th>transmission_type</th>\n",
       "      <th>driven_wheels</th>\n",
       "      <th>number_of_doors</th>\n",
       "      <th>market_category</th>\n",
       "      <th>vehicle_size</th>\n",
       "      <th>vehicle_style</th>\n",
       "      <th>highway_mpg</th>\n",
       "      <th>city_mpg</th>\n",
       "      <th>popularity</th>\n",
       "      <th>msrp</th>\n",
       "      <th>num_doors_2</th>\n",
       "      <th>num_doors_3</th>\n",
       "      <th>num_doors_4</th>\n",
       "    </tr>\n",
       "  </thead>\n",
       "  <tbody>\n",
       "    <tr>\n",
       "      <th>0</th>\n",
       "      <td>gmc</td>\n",
       "      <td>envoy_xl</td>\n",
       "      <td>2005</td>\n",
       "      <td>regular_unleaded</td>\n",
       "      <td>275.0</td>\n",
       "      <td>6.0</td>\n",
       "      <td>automatic</td>\n",
       "      <td>rear_wheel_drive</td>\n",
       "      <td>4.0</td>\n",
       "      <td>NaN</td>\n",
       "      <td>large</td>\n",
       "      <td>4dr_suv</td>\n",
       "      <td>18</td>\n",
       "      <td>13</td>\n",
       "      <td>549</td>\n",
       "      <td>29695</td>\n",
       "      <td>0</td>\n",
       "      <td>0</td>\n",
       "      <td>1</td>\n",
       "    </tr>\n",
       "    <tr>\n",
       "      <th>1</th>\n",
       "      <td>volkswagen</td>\n",
       "      <td>passat</td>\n",
       "      <td>2016</td>\n",
       "      <td>regular_unleaded</td>\n",
       "      <td>170.0</td>\n",
       "      <td>4.0</td>\n",
       "      <td>automatic</td>\n",
       "      <td>front_wheel_drive</td>\n",
       "      <td>4.0</td>\n",
       "      <td>NaN</td>\n",
       "      <td>midsize</td>\n",
       "      <td>sedan</td>\n",
       "      <td>38</td>\n",
       "      <td>25</td>\n",
       "      <td>873</td>\n",
       "      <td>30495</td>\n",
       "      <td>0</td>\n",
       "      <td>0</td>\n",
       "      <td>1</td>\n",
       "    </tr>\n",
       "    <tr>\n",
       "      <th>2</th>\n",
       "      <td>honda</td>\n",
       "      <td>odyssey</td>\n",
       "      <td>2016</td>\n",
       "      <td>regular_unleaded</td>\n",
       "      <td>248.0</td>\n",
       "      <td>6.0</td>\n",
       "      <td>automatic</td>\n",
       "      <td>front_wheel_drive</td>\n",
       "      <td>4.0</td>\n",
       "      <td>NaN</td>\n",
       "      <td>large</td>\n",
       "      <td>passenger_minivan</td>\n",
       "      <td>28</td>\n",
       "      <td>19</td>\n",
       "      <td>2202</td>\n",
       "      <td>37650</td>\n",
       "      <td>0</td>\n",
       "      <td>0</td>\n",
       "      <td>1</td>\n",
       "    </tr>\n",
       "    <tr>\n",
       "      <th>3</th>\n",
       "      <td>chevrolet</td>\n",
       "      <td>cruze</td>\n",
       "      <td>2015</td>\n",
       "      <td>regular_unleaded</td>\n",
       "      <td>138.0</td>\n",
       "      <td>4.0</td>\n",
       "      <td>manual</td>\n",
       "      <td>front_wheel_drive</td>\n",
       "      <td>4.0</td>\n",
       "      <td>NaN</td>\n",
       "      <td>midsize</td>\n",
       "      <td>sedan</td>\n",
       "      <td>36</td>\n",
       "      <td>25</td>\n",
       "      <td>1385</td>\n",
       "      <td>16170</td>\n",
       "      <td>0</td>\n",
       "      <td>0</td>\n",
       "      <td>1</td>\n",
       "    </tr>\n",
       "    <tr>\n",
       "      <th>4</th>\n",
       "      <td>volvo</td>\n",
       "      <td>740</td>\n",
       "      <td>1991</td>\n",
       "      <td>regular_unleaded</td>\n",
       "      <td>162.0</td>\n",
       "      <td>4.0</td>\n",
       "      <td>automatic</td>\n",
       "      <td>rear_wheel_drive</td>\n",
       "      <td>4.0</td>\n",
       "      <td>luxury,performance</td>\n",
       "      <td>midsize</td>\n",
       "      <td>sedan</td>\n",
       "      <td>20</td>\n",
       "      <td>17</td>\n",
       "      <td>870</td>\n",
       "      <td>2000</td>\n",
       "      <td>0</td>\n",
       "      <td>0</td>\n",
       "      <td>1</td>\n",
       "    </tr>\n",
       "  </tbody>\n",
       "</table>\n",
       "</div>"
      ],
      "text/plain": [
       "         make     model  year  engine_fuel_type  engine_hp  engine_cylinders  \\\n",
       "0         gmc  envoy_xl  2005  regular_unleaded      275.0               6.0   \n",
       "1  volkswagen    passat  2016  regular_unleaded      170.0               4.0   \n",
       "2       honda   odyssey  2016  regular_unleaded      248.0               6.0   \n",
       "3   chevrolet     cruze  2015  regular_unleaded      138.0               4.0   \n",
       "4       volvo       740  1991  regular_unleaded      162.0               4.0   \n",
       "\n",
       "  transmission_type      driven_wheels  number_of_doors     market_category  \\\n",
       "0         automatic   rear_wheel_drive              4.0                 NaN   \n",
       "1         automatic  front_wheel_drive              4.0                 NaN   \n",
       "2         automatic  front_wheel_drive              4.0                 NaN   \n",
       "3            manual  front_wheel_drive              4.0                 NaN   \n",
       "4         automatic   rear_wheel_drive              4.0  luxury,performance   \n",
       "\n",
       "  vehicle_size      vehicle_style  highway_mpg  city_mpg  popularity   msrp  \\\n",
       "0        large            4dr_suv           18        13         549  29695   \n",
       "1      midsize              sedan           38        25         873  30495   \n",
       "2        large  passenger_minivan           28        19        2202  37650   \n",
       "3      midsize              sedan           36        25        1385  16170   \n",
       "4      midsize              sedan           20        17         870   2000   \n",
       "\n",
       "   num_doors_2  num_doors_3  num_doors_4  \n",
       "0            0            0            1  \n",
       "1            0            0            1  \n",
       "2            0            0            1  \n",
       "3            0            0            1  \n",
       "4            0            0            1  "
      ]
     },
     "execution_count": 557,
     "metadata": {},
     "output_type": "execute_result"
    }
   ],
   "source": [
    "df_train.head()"
   ]
  },
  {
   "cell_type": "code",
   "execution_count": 563,
   "id": "74905db2-7421-4e78-88d2-5b66dd5a3d2d",
   "metadata": {},
   "outputs": [],
   "source": [
    "# Let's update our prep function\n",
    "def prepare_X(df):\n",
    "    df = df.copy()\n",
    "    df['age'] = max_year - df.year\n",
    "    features = base + ['age'] #new array\n",
    "    \n",
    "    for v in [2,3,4]:\n",
    "        df['num_doors_%s' %v] = (df.number_of_doors == v).astype('int')\n",
    "        features.append('num_doors_%s' %v)\n",
    "        \n",
    "    df_numerical = df[features]\n",
    "    df_numerical = df_numerical.fillna(0)\n",
    "    X = df_numerical.values\n",
    "    return X"
   ]
  },
  {
   "cell_type": "code",
   "execution_count": 564,
   "id": "62383a6e-b0c4-413a-8f63-55c80867b936",
   "metadata": {},
   "outputs": [
    {
     "data": {
      "text/plain": [
       "array([[275.,   6.,  18., ...,   0.,   0.,   1.],\n",
       "       [170.,   4.,  38., ...,   0.,   0.,   1.],\n",
       "       [248.,   6.,  28., ...,   0.,   0.,   1.],\n",
       "       ...,\n",
       "       [150.,   4.,  24., ...,   0.,   0.,   1.],\n",
       "       [160.,   4.,  31., ...,   1.,   0.,   0.],\n",
       "       [274.,   4.,  27., ...,   1.,   0.,   0.]], shape=(7150, 9))"
      ]
     },
     "execution_count": 564,
     "metadata": {},
     "output_type": "execute_result"
    }
   ],
   "source": [
    "prepare_X(df_train)"
   ]
  },
  {
   "cell_type": "code",
   "execution_count": 567,
   "id": "0e62f1ab-5533-4fa6-b0af-69967f56858d",
   "metadata": {},
   "outputs": [
    {
     "data": {
      "text/plain": [
       "0.51"
      ]
     },
     "execution_count": 567,
     "metadata": {},
     "output_type": "execute_result"
    }
   ],
   "source": [
    "X_train = prepare_X(df_train)\n",
    "w0, w = train_lR(X_train, y_train)\n",
    "\n",
    "X_val = prepare_X(df_val)\n",
    "y_pred = w0 + X_val.dot(w) # => Equivalent to what we had \n",
    "\n",
    "np.round(rmse(y_val, y_pred), 2).item() # Model doesnt improve much by number of doors"
   ]
  },
  {
   "cell_type": "markdown",
   "id": "4e2944f7-c412-4281-8c43-882672b36b8f",
   "metadata": {},
   "source": [
    "#### Let's try the make of the car"
   ]
  },
  {
   "cell_type": "code",
   "execution_count": 574,
   "id": "df512ed4-c7d1-47db-8def-bdfce5785d1e",
   "metadata": {},
   "outputs": [],
   "source": [
    "makes = list(df.make.value_counts().head().index)"
   ]
  },
  {
   "cell_type": "code",
   "execution_count": 575,
   "id": "6d55c07c-a6b0-4472-a46d-ed44e90f0508",
   "metadata": {},
   "outputs": [],
   "source": [
    "# Let's update our prep function\n",
    "def prepare_X(df):\n",
    "    df = df.copy()\n",
    "    df['age'] = max_year - df.year\n",
    "    features = base + ['age'] #new array\n",
    "    \n",
    "    for v in [2,3,4]:\n",
    "        df['num_doors_%s' %v] = (df.number_of_doors == v).astype('int')\n",
    "        features.append('num_doors_%s' %v)\n",
    "\n",
    "    for v in makes:\n",
    "        df['make_%s' % v] = (df.make == v).astype('int')\n",
    "        features.append('make_%s' % v)\n",
    "        \n",
    "    df_numerical = df[features]\n",
    "    df_numerical = df_numerical.fillna(0)\n",
    "    X = df_numerical.values\n",
    "    return X"
   ]
  },
  {
   "cell_type": "code",
   "execution_count": 576,
   "id": "ca13ea34-3384-4610-b6ec-13901517b5d6",
   "metadata": {},
   "outputs": [
    {
     "data": {
      "text/plain": [
       "0.5"
      ]
     },
     "execution_count": 576,
     "metadata": {},
     "output_type": "execute_result"
    }
   ],
   "source": [
    "X_train = prepare_X(df_train)\n",
    "w0, w = train_lR(X_train, y_train)\n",
    "\n",
    "X_val = prepare_X(df_val)\n",
    "y_pred = w0 + X_val.dot(w)\n",
    "\n",
    "np.round(rmse(y_val, y_pred), 2).item() "
   ]
  },
  {
   "cell_type": "code",
   "execution_count": null,
   "id": "37945809-cbd8-4986-a945-764b0ae25da4",
   "metadata": {},
   "outputs": [],
   "source": [
    "# And so on for other categorical values"
   ]
  },
  {
   "cell_type": "code",
   "execution_count": null,
   "id": "cda23408-c44c-4ba8-bf12-7083f78e1219",
   "metadata": {},
   "outputs": [],
   "source": []
  },
  {
   "cell_type": "code",
   "execution_count": 580,
   "id": "0a05e28e-4c75-4e95-b2f9-3264ca58cd2f",
   "metadata": {},
   "outputs": [],
   "source": [
    "categories = {}\n",
    "\n",
    "for c in categorical_cols:\n",
    "    categories[c] = list(df[c].value_counts().head().index)"
   ]
  },
  {
   "cell_type": "code",
   "execution_count": 586,
   "id": "2be59dc1-9384-40f7-b27c-f16f7fa45ed4",
   "metadata": {},
   "outputs": [],
   "source": [
    "# Let's update our prep function one more time\n",
    "def prepare_X(df):\n",
    "    df = df.copy()\n",
    "    df['age'] = max_year - df.year\n",
    "    features = base + ['age'] #new array\n",
    "    \n",
    "    for v in [2,3,4]:\n",
    "        df['num_doors_%s' %v] = (df.number_of_doors == v).astype('int')\n",
    "        features.append('num_doors_%s' %v)\n",
    "\n",
    "    for c, vals in categories.items():\n",
    "        for v in vals:\n",
    "            df['%s_%s' % (c, v)] = (df[c] == v).astype(int)\n",
    "            features.append('%s_%s' %(c, v))\n",
    "        \n",
    "    df_numerical = df[features]\n",
    "    df_numerical = df_numerical.fillna(0)\n",
    "    X = df_numerical.values\n",
    "    return X"
   ]
  },
  {
   "cell_type": "code",
   "execution_count": 589,
   "id": "f0bb64e5-31ee-47b2-922c-a2b343de82a0",
   "metadata": {},
   "outputs": [
    {
     "data": {
      "text/plain": [
       "231.56"
      ]
     },
     "execution_count": 589,
     "metadata": {},
     "output_type": "execute_result"
    }
   ],
   "source": [
    "X_train = prepare_X(df_train)\n",
    "w0, w = train_lR(X_train, y_train)\n",
    "\n",
    "X_val = prepare_X(df_val)\n",
    "y_pred = w0 + X_val.dot(w)\n",
    "\n",
    "np.round(rmse(y_val, y_pred), 2).item() #Damn!! SO large RMSE"
   ]
  },
  {
   "cell_type": "code",
   "execution_count": 592,
   "id": "fab5ff15-6a97-4460-adc6-74a5b44d9806",
   "metadata": {},
   "outputs": [
    {
     "data": {
      "text/plain": [
       "1.5766668296061076e+16"
      ]
     },
     "execution_count": 592,
     "metadata": {},
     "output_type": "execute_result"
    }
   ],
   "source": [
    "w0.item() #Very large weight at x = 1, and other weights are unreasonably large"
   ]
  },
  {
   "cell_type": "code",
   "execution_count": null,
   "id": "2e4b36dc-95cb-4e7b-8da3-ca9715ec9da4",
   "metadata": {},
   "outputs": [],
   "source": []
  },
  {
   "cell_type": "markdown",
   "id": "3b9a5caf-8ee1-46de-9791-45389618b827",
   "metadata": {},
   "source": [
    "### 2.13 Regularization"
   ]
  },
  {
   "cell_type": "code",
   "execution_count": 593,
   "id": "2effb8f8-77bf-4ec4-b774-58ec4717a869",
   "metadata": {},
   "outputs": [
    {
     "data": {
      "text/plain": [
       "array([ 5.54876788e-01, -6.45114407e+01, -1.09635044e+01,  6.44197066e+00,\n",
       "        1.52754968e-04,  1.51446397e-02, -7.99887764e+03, -7.98754464e+03,\n",
       "       -7.99624928e+03,  8.21745263e+00, -1.23816647e+01,  6.53072604e+00,\n",
       "       -1.70832388e+01,  6.37037787e+00, -2.58144656e+01,  1.27215104e+01,\n",
       "       -1.30844941e+01, -7.58239330e+00, -7.77363907e+00, -4.60621497e+01,\n",
       "       -5.47970792e+01, -5.49783015e+01, -4.56365895e+01, -4.74077549e+01,\n",
       "       -2.17282555e+15, -2.17282555e+15, -2.17282555e+15, -2.17282555e+15,\n",
       "       -2.17282555e+15, -1.35938427e+16, -1.35938427e+16, -1.35938427e+16,\n",
       "       -1.35938427e+16,  5.94299890e+00,  1.01570975e+01,  8.93835934e+00,\n",
       "        9.00163390e-01, -6.52398423e+00, -6.14665025e+01, -5.14898036e+01,\n",
       "       -4.12909329e+01, -7.11782328e-02,  1.12249775e-03,  1.55689152e-01,\n",
       "        3.11539610e-01, -1.70247527e-01])"
      ]
     },
     "execution_count": 593,
     "metadata": {},
     "output_type": "execute_result"
    }
   ],
   "source": [
    "w"
   ]
  },
  {
   "cell_type": "code",
   "execution_count": 601,
   "id": "dc667356-63a5-4421-9dea-4bb7e0473cca",
   "metadata": {},
   "outputs": [
    {
     "ename": "LinAlgError",
     "evalue": "Singular matrix",
     "output_type": "error",
     "traceback": [
      "\u001b[31m---------------------------------------------------------------------------\u001b[39m",
      "\u001b[31mLinAlgError\u001b[39m                               Traceback (most recent call last)",
      "\u001b[36mCell\u001b[39m\u001b[36m \u001b[39m\u001b[32mIn[601]\u001b[39m\u001b[32m, line 14\u001b[39m\n\u001b[32m     12\u001b[39m X_s = np.array(arr)\n\u001b[32m     13\u001b[39m X_sTX_s = X_s.T.dot(X_s)\n\u001b[32m---> \u001b[39m\u001b[32m14\u001b[39m \u001b[43mnp\u001b[49m\u001b[43m.\u001b[49m\u001b[43mlinalg\u001b[49m\u001b[43m.\u001b[49m\u001b[43minv\u001b[49m\u001b[43m(\u001b[49m\u001b[43mX_sTX_s\u001b[49m\u001b[43m)\u001b[49m\n",
      "\u001b[36mFile \u001b[39m\u001b[32m/opt/anaconda3/envs/ml_/lib/python3.12/site-packages/numpy/linalg/_linalg.py:669\u001b[39m, in \u001b[36minv\u001b[39m\u001b[34m(a)\u001b[39m\n\u001b[32m    666\u001b[39m signature = \u001b[33m'\u001b[39m\u001b[33mD->D\u001b[39m\u001b[33m'\u001b[39m \u001b[38;5;28;01mif\u001b[39;00m isComplexType(t) \u001b[38;5;28;01melse\u001b[39;00m \u001b[33m'\u001b[39m\u001b[33md->d\u001b[39m\u001b[33m'\u001b[39m\n\u001b[32m    667\u001b[39m \u001b[38;5;28;01mwith\u001b[39;00m errstate(call=_raise_linalgerror_singular, invalid=\u001b[33m'\u001b[39m\u001b[33mcall\u001b[39m\u001b[33m'\u001b[39m,\n\u001b[32m    668\u001b[39m               over=\u001b[33m'\u001b[39m\u001b[33mignore\u001b[39m\u001b[33m'\u001b[39m, divide=\u001b[33m'\u001b[39m\u001b[33mignore\u001b[39m\u001b[33m'\u001b[39m, under=\u001b[33m'\u001b[39m\u001b[33mignore\u001b[39m\u001b[33m'\u001b[39m):\n\u001b[32m--> \u001b[39m\u001b[32m669\u001b[39m     ainv = \u001b[43m_umath_linalg\u001b[49m\u001b[43m.\u001b[49m\u001b[43minv\u001b[49m\u001b[43m(\u001b[49m\u001b[43ma\u001b[49m\u001b[43m,\u001b[49m\u001b[43m \u001b[49m\u001b[43msignature\u001b[49m\u001b[43m=\u001b[49m\u001b[43msignature\u001b[49m\u001b[43m)\u001b[49m\n\u001b[32m    670\u001b[39m \u001b[38;5;28;01mreturn\u001b[39;00m wrap(ainv.astype(result_t, copy=\u001b[38;5;28;01mFalse\u001b[39;00m))\n",
      "\u001b[36mFile \u001b[39m\u001b[32m/opt/anaconda3/envs/ml_/lib/python3.12/site-packages/numpy/linalg/_linalg.py:163\u001b[39m, in \u001b[36m_raise_linalgerror_singular\u001b[39m\u001b[34m(err, flag)\u001b[39m\n\u001b[32m    162\u001b[39m \u001b[38;5;28;01mdef\u001b[39;00m\u001b[38;5;250m \u001b[39m\u001b[34m_raise_linalgerror_singular\u001b[39m(err, flag):\n\u001b[32m--> \u001b[39m\u001b[32m163\u001b[39m     \u001b[38;5;28;01mraise\u001b[39;00m LinAlgError(\u001b[33m\"\u001b[39m\u001b[33mSingular matrix\u001b[39m\u001b[33m\"\u001b[39m)\n",
      "\u001b[31mLinAlgError\u001b[39m: Singular matrix"
     ]
    }
   ],
   "source": [
    "# Remember, w = Gram Matrix * X transpose * y\n",
    "\n",
    "# Problems typically can occur when you try to find the inverse of a Gram matrix (XTX) in cases where two columns are identical\n",
    "# An error of singular matrix occurs. E.g\n",
    "\n",
    "arr = [\n",
    "    [1,3,3],\n",
    "    [2,2,2],\n",
    "    [3,1,1],\n",
    "]\n",
    "\n",
    "X_s = np.array(arr)\n",
    "X_sTX_s = X_s.T.dot(X_s)\n",
    "np.linalg.inv(X_sTX_s)"
   ]
  },
  {
   "cell_type": "code",
   "execution_count": null,
   "id": "ecb90274-54cd-4750-9d15-56272d8d8aa7",
   "metadata": {},
   "outputs": [],
   "source": [
    "# We can add a small number to the diagonals of the matrix to remove any singularity in the matrix"
   ]
  },
  {
   "cell_type": "code",
   "execution_count": 623,
   "id": "18a547e9-788a-4126-aa57-376de7d8fbbd",
   "metadata": {},
   "outputs": [
    {
     "ename": "LinAlgError",
     "evalue": "Singular matrix",
     "output_type": "error",
     "traceback": [
      "\u001b[31m---------------------------------------------------------------------------\u001b[39m",
      "\u001b[31mLinAlgError\u001b[39m                               Traceback (most recent call last)",
      "\u001b[36mCell\u001b[39m\u001b[36m \u001b[39m\u001b[32mIn[623]\u001b[39m\u001b[32m, line 9\u001b[39m\n\u001b[32m      7\u001b[39m X_s = np.array(arr)\n\u001b[32m      8\u001b[39m X_sTX_s = X_s.T.dot(X_s)\n\u001b[32m----> \u001b[39m\u001b[32m9\u001b[39m \u001b[43mnp\u001b[49m\u001b[43m.\u001b[49m\u001b[43mlinalg\u001b[49m\u001b[43m.\u001b[49m\u001b[43minv\u001b[49m\u001b[43m(\u001b[49m\u001b[43mX_sTX_s\u001b[49m\u001b[43m)\u001b[49m\n",
      "\u001b[36mFile \u001b[39m\u001b[32m/opt/anaconda3/envs/ml_/lib/python3.12/site-packages/numpy/linalg/_linalg.py:669\u001b[39m, in \u001b[36minv\u001b[39m\u001b[34m(a)\u001b[39m\n\u001b[32m    666\u001b[39m signature = \u001b[33m'\u001b[39m\u001b[33mD->D\u001b[39m\u001b[33m'\u001b[39m \u001b[38;5;28;01mif\u001b[39;00m isComplexType(t) \u001b[38;5;28;01melse\u001b[39;00m \u001b[33m'\u001b[39m\u001b[33md->d\u001b[39m\u001b[33m'\u001b[39m\n\u001b[32m    667\u001b[39m \u001b[38;5;28;01mwith\u001b[39;00m errstate(call=_raise_linalgerror_singular, invalid=\u001b[33m'\u001b[39m\u001b[33mcall\u001b[39m\u001b[33m'\u001b[39m,\n\u001b[32m    668\u001b[39m               over=\u001b[33m'\u001b[39m\u001b[33mignore\u001b[39m\u001b[33m'\u001b[39m, divide=\u001b[33m'\u001b[39m\u001b[33mignore\u001b[39m\u001b[33m'\u001b[39m, under=\u001b[33m'\u001b[39m\u001b[33mignore\u001b[39m\u001b[33m'\u001b[39m):\n\u001b[32m--> \u001b[39m\u001b[32m669\u001b[39m     ainv = \u001b[43m_umath_linalg\u001b[49m\u001b[43m.\u001b[49m\u001b[43minv\u001b[49m\u001b[43m(\u001b[49m\u001b[43ma\u001b[49m\u001b[43m,\u001b[49m\u001b[43m \u001b[49m\u001b[43msignature\u001b[49m\u001b[43m=\u001b[49m\u001b[43msignature\u001b[49m\u001b[43m)\u001b[49m\n\u001b[32m    670\u001b[39m \u001b[38;5;28;01mreturn\u001b[39;00m wrap(ainv.astype(result_t, copy=\u001b[38;5;28;01mFalse\u001b[39;00m))\n",
      "\u001b[36mFile \u001b[39m\u001b[32m/opt/anaconda3/envs/ml_/lib/python3.12/site-packages/numpy/linalg/_linalg.py:163\u001b[39m, in \u001b[36m_raise_linalgerror_singular\u001b[39m\u001b[34m(err, flag)\u001b[39m\n\u001b[32m    162\u001b[39m \u001b[38;5;28;01mdef\u001b[39;00m\u001b[38;5;250m \u001b[39m\u001b[34m_raise_linalgerror_singular\u001b[39m(err, flag):\n\u001b[32m--> \u001b[39m\u001b[32m163\u001b[39m     \u001b[38;5;28;01mraise\u001b[39;00m LinAlgError(\u001b[33m\"\u001b[39m\u001b[33mSingular matrix\u001b[39m\u001b[33m\"\u001b[39m)\n",
      "\u001b[31mLinAlgError\u001b[39m: Singular matrix"
     ]
    }
   ],
   "source": [
    "arr = [\n",
    "    [1,3,3],\n",
    "    [2,2,2],\n",
    "    [3,1,1],\n",
    "]\n",
    "\n",
    "X_s = np.array(arr)\n",
    "X_sTX_s = X_s.T.dot(X_s)\n",
    "np.linalg.inv(X_sTX_s)"
   ]
  },
  {
   "cell_type": "code",
   "execution_count": 614,
   "id": "fff8ee96-65ae-4eba-b710-4946329d8405",
   "metadata": {},
   "outputs": [],
   "source": [
    "# So better still we can use the identity matrix with a small number as such\n",
    "eye = 0.01 * np.eye(3)"
   ]
  },
  {
   "cell_type": "code",
   "execution_count": 615,
   "id": "1f208306-b338-4331-97c0-6820ca8fa361",
   "metadata": {},
   "outputs": [
    {
     "data": {
      "text/plain": [
       "array([[0.01, 0.  , 0.  ],\n",
       "       [0.  , 0.01, 0.  ],\n",
       "       [0.  , 0.  , 0.01]])"
      ]
     },
     "execution_count": 615,
     "metadata": {},
     "output_type": "execute_result"
    }
   ],
   "source": [
    "eye"
   ]
  },
  {
   "cell_type": "code",
   "execution_count": 618,
   "id": "6a585b64-603a-443f-ac25-b9db22a63d15",
   "metadata": {},
   "outputs": [],
   "source": [
    "X_sTX_s = X_sTX_s + eye"
   ]
  },
  {
   "cell_type": "code",
   "execution_count": 621,
   "id": "173d4a1a-19ae-421d-b13b-b24dc1f9078f",
   "metadata": {},
   "outputs": [
    {
     "data": {
      "text/plain": [
       "array([[  0.14556691,  -0.05196962,  -0.05196962],\n",
       "       [ -0.05196962,  50.03640472, -49.96359528],\n",
       "       [ -0.05196962, -49.96359528,  50.03640472]])"
      ]
     },
     "execution_count": 621,
     "metadata": {},
     "output_type": "execute_result"
    }
   ],
   "source": [
    "np.linalg.inv(X_sTX_s) #Much better :> This is known as regularization!"
   ]
  },
  {
   "cell_type": "code",
   "execution_count": 622,
   "id": "d47ea23d-430d-46c1-85be-5f82c04ca86e",
   "metadata": {},
   "outputs": [],
   "source": [
    "# Simply mean we now can control the weights so they do not grow too much"
   ]
  },
  {
   "cell_type": "markdown",
   "id": "a6c0ecd7-f4e6-4be5-84e8-be59e3e0b88d",
   "metadata": {},
   "source": [
    "#### NB: The 0.01 becomes a parameter her which helps control how much the weights grow. If we reduce it, weights increase, and vice versa"
   ]
  },
  {
   "cell_type": "code",
   "execution_count": 624,
   "id": "93f7393f-9cd0-404d-bf07-d9201a2b6766",
   "metadata": {},
   "outputs": [],
   "source": [
    "# Now lets redo our model training and inference\n",
    "# Where r = regularisation parameter\n",
    "\n",
    "def train_lR_reg(X, y, r=0.001):\n",
    "    # Now we need the element at X = 1, for w0\n",
    "    ones = np.ones(X.shape[0])\n",
    "    X = np.column_stack([ones, X])\n",
    "\n",
    "    XTX = X.T.dot(X)\n",
    "    eye = r * np.eye(XTX.shape[0])    \n",
    "    XTX = XTX + eye\n",
    "    \n",
    "    XTX_inv = np.linalg.inv(XTX)\n",
    "    \n",
    "    # Now to approximate the weights\n",
    "    w__ = XTX_inv.dot(X.T).dot(y)\n",
    "    w0 = w__[0]\n",
    "    w = w__[1:]\n",
    "    return (w0, w)"
   ]
  },
  {
   "cell_type": "code",
   "execution_count": 627,
   "id": "308766f7-e5ff-4658-af61-1b1b38f2da48",
   "metadata": {},
   "outputs": [
    {
     "data": {
      "text/plain": [
       "0.45"
      ]
     },
     "execution_count": 627,
     "metadata": {},
     "output_type": "execute_result"
    }
   ],
   "source": [
    "X_train = prepare_X(df_train)\n",
    "w0, w = train_lR_reg(X_train, y_train, r=0.01) #r can be changed to find the best spot\n",
    "\n",
    "X_val = prepare_X(df_val)\n",
    "y_pred = w0 + X_val.dot(w)\n",
    "\n",
    "np.round(rmse(y_val, y_pred), 2).item() #Damn!! SO large RMSE"
   ]
  },
  {
   "cell_type": "code",
   "execution_count": null,
   "id": "1a55687f-6300-4198-84d9-dac38b867932",
   "metadata": {},
   "outputs": [],
   "source": [
    "# Now this is veryyyy much better!"
   ]
  },
  {
   "cell_type": "code",
   "execution_count": null,
   "id": "6a1a0412-a2ae-40ca-a87a-65efe0a70663",
   "metadata": {},
   "outputs": [],
   "source": []
  },
  {
   "cell_type": "markdown",
   "id": "f8a563ea-bdcf-45d6-8476-0e2e644a2e3b",
   "metadata": {},
   "source": [
    "### 2.14 Tuning the Model"
   ]
  },
  {
   "cell_type": "markdown",
   "id": "dc25a009-efb2-40fa-b1b3-b55b2381d327",
   "metadata": {},
   "source": [
    "#### Here we find the best value for 'r' since its affects the quality of our model"
   ]
  },
  {
   "cell_type": "code",
   "execution_count": 629,
   "id": "1b82b1b7-506a-46b1-b60e-bd7be61889f7",
   "metadata": {},
   "outputs": [
    {
     "name": "stdout",
     "output_type": "stream",
     "text": [
      "0.0 1.5766668296061076e+16 231.56\n",
      "1e-07 -598.7606550436019 0.45\n",
      "0.0001 6.375967572659045 0.45\n",
      "0.1 6.234119574133832 0.45\n",
      "1 5.575358695864111 0.45\n",
      "10 4.284557218360413 0.46\n"
     ]
    }
   ],
   "source": [
    "for r in [0.0, 0.0000001, 0.0001, 0.1, 1, 10]:\n",
    "    X_train = prepare_X(df_train)\n",
    "    w0, w = train_lR_reg(X_train, y_train, r=r) #r can be changed to find the best spot\n",
    "    \n",
    "    X_val = prepare_X(df_val)\n",
    "    y_pred = w0 + X_val.dot(w)\n",
    "    \n",
    "    score = np.round(rmse(y_val, y_pred), 2).item()\n",
    "    print(r, w0, score)"
   ]
  },
  {
   "cell_type": "code",
   "execution_count": null,
   "id": "e4057aec-e96e-4520-bee1-974c4fda5474",
   "metadata": {},
   "outputs": [],
   "source": [
    "# 0.001 looks great and stable"
   ]
  },
  {
   "cell_type": "code",
   "execution_count": null,
   "id": "89ded026-d995-4dc1-996e-8546943dd27d",
   "metadata": {},
   "outputs": [],
   "source": []
  },
  {
   "cell_type": "markdown",
   "id": "6c007f4a-2f05-4c54-9e97-840739f4cbdd",
   "metadata": {},
   "source": [
    "### 2.15 Training the final Model"
   ]
  },
  {
   "cell_type": "code",
   "execution_count": 631,
   "id": "44e0f20c-06b9-40a3-bafb-e54bfc807d8d",
   "metadata": {},
   "outputs": [],
   "source": [
    "# Let's combine the train and val sets to make combined 80% and use test for 20%"
   ]
  },
  {
   "cell_type": "code",
   "execution_count": 632,
   "id": "b0058154-04ad-4e76-b311-299b1c26d059",
   "metadata": {},
   "outputs": [],
   "source": [
    "df_full_train = pd.concat([df_train, df_val])"
   ]
  },
  {
   "cell_type": "code",
   "execution_count": 636,
   "id": "6ae89ae5-9dd2-4308-8e2e-6459773cd422",
   "metadata": {},
   "outputs": [],
   "source": [
    "df_full_train = df_full_train.reset_index(drop=True) #Resets the index and drops that column"
   ]
  },
  {
   "cell_type": "code",
   "execution_count": 638,
   "id": "bbbd7da5-d421-4a45-8846-c52e25d0cb74",
   "metadata": {},
   "outputs": [
    {
     "data": {
      "text/html": [
       "<div>\n",
       "<style scoped>\n",
       "    .dataframe tbody tr th:only-of-type {\n",
       "        vertical-align: middle;\n",
       "    }\n",
       "\n",
       "    .dataframe tbody tr th {\n",
       "        vertical-align: top;\n",
       "    }\n",
       "\n",
       "    .dataframe thead th {\n",
       "        text-align: right;\n",
       "    }\n",
       "</style>\n",
       "<table border=\"1\" class=\"dataframe\">\n",
       "  <thead>\n",
       "    <tr style=\"text-align: right;\">\n",
       "      <th></th>\n",
       "      <th>make</th>\n",
       "      <th>model</th>\n",
       "      <th>year</th>\n",
       "      <th>engine_fuel_type</th>\n",
       "      <th>engine_hp</th>\n",
       "      <th>engine_cylinders</th>\n",
       "      <th>transmission_type</th>\n",
       "      <th>driven_wheels</th>\n",
       "      <th>number_of_doors</th>\n",
       "      <th>market_category</th>\n",
       "      <th>vehicle_size</th>\n",
       "      <th>vehicle_style</th>\n",
       "      <th>highway_mpg</th>\n",
       "      <th>city_mpg</th>\n",
       "      <th>popularity</th>\n",
       "      <th>msrp</th>\n",
       "      <th>num_doors_2</th>\n",
       "      <th>num_doors_3</th>\n",
       "      <th>num_doors_4</th>\n",
       "    </tr>\n",
       "  </thead>\n",
       "  <tbody>\n",
       "    <tr>\n",
       "      <th>0</th>\n",
       "      <td>gmc</td>\n",
       "      <td>envoy_xl</td>\n",
       "      <td>2005</td>\n",
       "      <td>regular_unleaded</td>\n",
       "      <td>275.0</td>\n",
       "      <td>6.0</td>\n",
       "      <td>automatic</td>\n",
       "      <td>rear_wheel_drive</td>\n",
       "      <td>4.0</td>\n",
       "      <td>NaN</td>\n",
       "      <td>large</td>\n",
       "      <td>4dr_suv</td>\n",
       "      <td>18</td>\n",
       "      <td>13</td>\n",
       "      <td>549</td>\n",
       "      <td>29695</td>\n",
       "      <td>0.0</td>\n",
       "      <td>0.0</td>\n",
       "      <td>1.0</td>\n",
       "    </tr>\n",
       "    <tr>\n",
       "      <th>1</th>\n",
       "      <td>volkswagen</td>\n",
       "      <td>passat</td>\n",
       "      <td>2016</td>\n",
       "      <td>regular_unleaded</td>\n",
       "      <td>170.0</td>\n",
       "      <td>4.0</td>\n",
       "      <td>automatic</td>\n",
       "      <td>front_wheel_drive</td>\n",
       "      <td>4.0</td>\n",
       "      <td>NaN</td>\n",
       "      <td>midsize</td>\n",
       "      <td>sedan</td>\n",
       "      <td>38</td>\n",
       "      <td>25</td>\n",
       "      <td>873</td>\n",
       "      <td>30495</td>\n",
       "      <td>0.0</td>\n",
       "      <td>0.0</td>\n",
       "      <td>1.0</td>\n",
       "    </tr>\n",
       "    <tr>\n",
       "      <th>2</th>\n",
       "      <td>honda</td>\n",
       "      <td>odyssey</td>\n",
       "      <td>2016</td>\n",
       "      <td>regular_unleaded</td>\n",
       "      <td>248.0</td>\n",
       "      <td>6.0</td>\n",
       "      <td>automatic</td>\n",
       "      <td>front_wheel_drive</td>\n",
       "      <td>4.0</td>\n",
       "      <td>NaN</td>\n",
       "      <td>large</td>\n",
       "      <td>passenger_minivan</td>\n",
       "      <td>28</td>\n",
       "      <td>19</td>\n",
       "      <td>2202</td>\n",
       "      <td>37650</td>\n",
       "      <td>0.0</td>\n",
       "      <td>0.0</td>\n",
       "      <td>1.0</td>\n",
       "    </tr>\n",
       "  </tbody>\n",
       "</table>\n",
       "</div>"
      ],
      "text/plain": [
       "         make     model  year  engine_fuel_type  engine_hp  engine_cylinders  \\\n",
       "0         gmc  envoy_xl  2005  regular_unleaded      275.0               6.0   \n",
       "1  volkswagen    passat  2016  regular_unleaded      170.0               4.0   \n",
       "2       honda   odyssey  2016  regular_unleaded      248.0               6.0   \n",
       "\n",
       "  transmission_type      driven_wheels  number_of_doors market_category  \\\n",
       "0         automatic   rear_wheel_drive              4.0             NaN   \n",
       "1         automatic  front_wheel_drive              4.0             NaN   \n",
       "2         automatic  front_wheel_drive              4.0             NaN   \n",
       "\n",
       "  vehicle_size      vehicle_style  highway_mpg  city_mpg  popularity   msrp  \\\n",
       "0        large            4dr_suv           18        13         549  29695   \n",
       "1      midsize              sedan           38        25         873  30495   \n",
       "2        large  passenger_minivan           28        19        2202  37650   \n",
       "\n",
       "   num_doors_2  num_doors_3  num_doors_4  \n",
       "0          0.0          0.0          1.0  \n",
       "1          0.0          0.0          1.0  \n",
       "2          0.0          0.0          1.0  "
      ]
     },
     "execution_count": 638,
     "metadata": {},
     "output_type": "execute_result"
    }
   ],
   "source": [
    "df_full_train.head(3)"
   ]
  },
  {
   "cell_type": "code",
   "execution_count": 639,
   "id": "fcfe7b0a-325b-4299-b9f5-d7c10e2dc1ff",
   "metadata": {},
   "outputs": [],
   "source": [
    "X_full_train =  prepare_X(df_full_train)"
   ]
  },
  {
   "cell_type": "code",
   "execution_count": 640,
   "id": "48b035c8-b8fa-41a8-bac9-632f789cfcbf",
   "metadata": {},
   "outputs": [
    {
     "data": {
      "text/plain": [
       "array([[275.,   6.,  18., ...,   0.,   0.,   0.],\n",
       "       [170.,   4.,  38., ...,   0.,   0.,   0.],\n",
       "       [248.,   6.,  28., ...,   0.,   0.,   0.],\n",
       "       ...,\n",
       "       [310.,   8.,  19., ...,   0.,   0.,   0.],\n",
       "       [190.,   6.,  16., ...,   0.,   0.,   0.],\n",
       "       [302.,   4.,  30., ...,   0.,   0.,   0.]], shape=(9532, 46))"
      ]
     },
     "execution_count": 640,
     "metadata": {},
     "output_type": "execute_result"
    }
   ],
   "source": [
    "X_full_train"
   ]
  },
  {
   "cell_type": "code",
   "execution_count": 641,
   "id": "bcd45b6a-31ed-41f6-a7b0-38330590eba3",
   "metadata": {},
   "outputs": [],
   "source": [
    "y_full_train = np.concatenate([y_train, y_val])"
   ]
  },
  {
   "cell_type": "code",
   "execution_count": 642,
   "id": "f324b10e-4ffe-41f0-a0a1-99762488c471",
   "metadata": {},
   "outputs": [
    {
     "data": {
      "text/plain": [
       "array([10.29876764, 10.32535081, 10.53611479, ..., 10.34016059,\n",
       "       10.18229284, 10.65374731], shape=(9532,))"
      ]
     },
     "execution_count": 642,
     "metadata": {},
     "output_type": "execute_result"
    }
   ],
   "source": [
    "y_full_train"
   ]
  },
  {
   "cell_type": "code",
   "execution_count": 646,
   "id": "93d9a998-1335-4e26-9a98-5094dbcb6efa",
   "metadata": {},
   "outputs": [],
   "source": [
    "w0, w = train_lR_reg(X_full_train, y_full_train, r=0.001) #r can be changed to find the best spot"
   ]
  },
  {
   "cell_type": "code",
   "execution_count": 647,
   "id": "80b2e6dc-6fe9-4ca4-a592-024bc3b81e6e",
   "metadata": {},
   "outputs": [
    {
     "data": {
      "text/plain": [
       "np.float64(6.343222564809511)"
      ]
     },
     "execution_count": 647,
     "metadata": {},
     "output_type": "execute_result"
    }
   ],
   "source": [
    "w0"
   ]
  },
  {
   "cell_type": "code",
   "execution_count": 648,
   "id": "65eb56e7-da48-49fc-8d08-96d4acfb56d5",
   "metadata": {},
   "outputs": [
    {
     "data": {
      "text/plain": [
       "array([ 0.00164086,  0.11286897, -0.00727152, -0.00538701, -0.00005483,\n",
       "       -0.09715136, -0.773021  , -0.94243078, -0.60864013, -0.05236135,\n",
       "        0.19416623,  0.02604519, -0.01411388, -0.12356006, -0.25504999,\n",
       "       -0.59931798, -0.31831851, -0.34342736, -0.29435399, -0.44098583,\n",
       "        0.09571521, -0.28573196, -0.48833488, -0.04542336,  1.08011183,\n",
       "        0.89162072,  1.13914334,  2.69754133,  0.52860833,  1.62649577,\n",
       "        1.53432761,  1.61842498,  1.5630529 , -0.07801997,  0.11343089,\n",
       "       -0.05377346, -0.03312024,  0.002469  ,  2.17552659,  2.07107504,\n",
       "        2.09560672, -0.08354388, -0.00473056,  0.16812903,  0.33549931,\n",
       "       -0.17828615])"
      ]
     },
     "execution_count": 648,
     "metadata": {},
     "output_type": "execute_result"
    }
   ],
   "source": [
    "w"
   ]
  },
  {
   "cell_type": "code",
   "execution_count": 651,
   "id": "1c9b96ff-a41f-4d59-b5e7-68c65cb9643f",
   "metadata": {},
   "outputs": [
    {
     "data": {
      "text/plain": [
       "0.42"
      ]
     },
     "execution_count": 651,
     "metadata": {},
     "output_type": "execute_result"
    }
   ],
   "source": [
    "X_test = prepare_X(df_test)\n",
    "y_pred = w0 + X_test.dot(w)\n",
    "\n",
    "score = np.round(rmse(y_test, y_pred), 2).item()\n",
    "score #Pretty good score achieved!"
   ]
  },
  {
   "cell_type": "code",
   "execution_count": null,
   "id": "440dab0d-8deb-446f-aec4-7109fff741c5",
   "metadata": {},
   "outputs": [],
   "source": [
    "#So this shows generalization and that this score wasn't just gotten by chance"
   ]
  },
  {
   "cell_type": "code",
   "execution_count": null,
   "id": "1509015f-a2df-4e99-a39a-cb6cb5f5272e",
   "metadata": {},
   "outputs": [],
   "source": []
  },
  {
   "cell_type": "markdown",
   "id": "c17aee22-43f4-4b73-83fa-9bd37a0b269b",
   "metadata": {},
   "source": [
    "### 2.15: Using the Model"
   ]
  },
  {
   "cell_type": "code",
   "execution_count": null,
   "id": "78ebef20-748c-4f13-9fbb-f28b58e0ba44",
   "metadata": {},
   "outputs": [],
   "source": [
    "# So let's simulate a car prediction"
   ]
  },
  {
   "cell_type": "code",
   "execution_count": 652,
   "id": "40cd8746-6725-4316-ad9a-c8adb7ea313d",
   "metadata": {},
   "outputs": [],
   "source": [
    "# Asume this comes from a dictionary (A JSON like response from an API call)\n",
    "car = df_test.iloc[20].to_dict()"
   ]
  },
  {
   "cell_type": "code",
   "execution_count": 653,
   "id": "ca2624bf-b24c-41bd-9e12-7bbdd9f3396b",
   "metadata": {},
   "outputs": [
    {
     "data": {
      "text/plain": [
       "{'make': 'chevrolet',\n",
       " 'model': 'silverado_1500',\n",
       " 'year': 2016,\n",
       " 'engine_fuel_type': 'flex-fuel_(unleaded/e85)',\n",
       " 'engine_hp': 285.0,\n",
       " 'engine_cylinders': 6.0,\n",
       " 'transmission_type': 'automatic',\n",
       " 'driven_wheels': 'four_wheel_drive',\n",
       " 'number_of_doors': 2.0,\n",
       " 'market_category': 'flex_fuel',\n",
       " 'vehicle_size': 'large',\n",
       " 'vehicle_style': 'regular_cab_pickup',\n",
       " 'highway_mpg': 22,\n",
       " 'city_mpg': 17,\n",
       " 'popularity': 1385}"
      ]
     },
     "execution_count": 653,
     "metadata": {},
     "output_type": "execute_result"
    }
   ],
   "source": [
    "car"
   ]
  },
  {
   "cell_type": "code",
   "execution_count": 654,
   "id": "19cb31ee-8f54-4c0d-9a4f-3261a5e5c169",
   "metadata": {},
   "outputs": [
    {
     "data": {
      "text/html": [
       "<div>\n",
       "<style scoped>\n",
       "    .dataframe tbody tr th:only-of-type {\n",
       "        vertical-align: middle;\n",
       "    }\n",
       "\n",
       "    .dataframe tbody tr th {\n",
       "        vertical-align: top;\n",
       "    }\n",
       "\n",
       "    .dataframe thead th {\n",
       "        text-align: right;\n",
       "    }\n",
       "</style>\n",
       "<table border=\"1\" class=\"dataframe\">\n",
       "  <thead>\n",
       "    <tr style=\"text-align: right;\">\n",
       "      <th></th>\n",
       "      <th>make</th>\n",
       "      <th>model</th>\n",
       "      <th>year</th>\n",
       "      <th>engine_fuel_type</th>\n",
       "      <th>engine_hp</th>\n",
       "      <th>engine_cylinders</th>\n",
       "      <th>transmission_type</th>\n",
       "      <th>driven_wheels</th>\n",
       "      <th>number_of_doors</th>\n",
       "      <th>market_category</th>\n",
       "      <th>vehicle_size</th>\n",
       "      <th>vehicle_style</th>\n",
       "      <th>highway_mpg</th>\n",
       "      <th>city_mpg</th>\n",
       "      <th>popularity</th>\n",
       "    </tr>\n",
       "  </thead>\n",
       "  <tbody>\n",
       "    <tr>\n",
       "      <th>0</th>\n",
       "      <td>chevrolet</td>\n",
       "      <td>silverado_1500</td>\n",
       "      <td>2016</td>\n",
       "      <td>flex-fuel_(unleaded/e85)</td>\n",
       "      <td>285.0</td>\n",
       "      <td>6.0</td>\n",
       "      <td>automatic</td>\n",
       "      <td>four_wheel_drive</td>\n",
       "      <td>2.0</td>\n",
       "      <td>flex_fuel</td>\n",
       "      <td>large</td>\n",
       "      <td>regular_cab_pickup</td>\n",
       "      <td>22</td>\n",
       "      <td>17</td>\n",
       "      <td>1385</td>\n",
       "    </tr>\n",
       "  </tbody>\n",
       "</table>\n",
       "</div>"
      ],
      "text/plain": [
       "        make           model  year          engine_fuel_type  engine_hp  \\\n",
       "0  chevrolet  silverado_1500  2016  flex-fuel_(unleaded/e85)      285.0   \n",
       "\n",
       "   engine_cylinders transmission_type     driven_wheels  number_of_doors  \\\n",
       "0               6.0         automatic  four_wheel_drive              2.0   \n",
       "\n",
       "  market_category vehicle_size       vehicle_style  highway_mpg  city_mpg  \\\n",
       "0       flex_fuel        large  regular_cab_pickup           22        17   \n",
       "\n",
       "   popularity  \n",
       "0        1385  "
      ]
     },
     "execution_count": 654,
     "metadata": {},
     "output_type": "execute_result"
    }
   ],
   "source": [
    "df_small = pd.DataFrame([car])\n",
    "df_small"
   ]
  },
  {
   "cell_type": "code",
   "execution_count": 655,
   "id": "7474284d-c5e2-4b57-990b-34bd4e5d5c79",
   "metadata": {},
   "outputs": [],
   "source": [
    "X_small = prepare_X(df_small)"
   ]
  },
  {
   "cell_type": "code",
   "execution_count": 657,
   "id": "37b1da51-9a33-460a-bafe-6c00978a08cc",
   "metadata": {},
   "outputs": [
    {
     "data": {
      "text/plain": [
       "array([10.34687694])"
      ]
     },
     "execution_count": 657,
     "metadata": {},
     "output_type": "execute_result"
    }
   ],
   "source": [
    "y_pred = w0 + X_small.dot(w)\n",
    "y_pred"
   ]
  },
  {
   "cell_type": "code",
   "execution_count": 661,
   "id": "a84de00f-c7d7-4137-b894-ec120f2ed108",
   "metadata": {},
   "outputs": [],
   "source": [
    "car_price = np.expm1(y_pred[0])\n",
    "car_price = np.round(car_price, 2).item()"
   ]
  },
  {
   "cell_type": "code",
   "execution_count": 663,
   "id": "90cbd94d-7971-4498-a740-281fcccb1d9b",
   "metadata": {},
   "outputs": [
    {
     "name": "stdout",
     "output_type": "stream",
     "text": [
      "The car price is: 31158.58 dollars\n"
     ]
    }
   ],
   "source": [
    "print(f'The car price is: {car_price} dollars')"
   ]
  },
  {
   "cell_type": "code",
   "execution_count": 666,
   "id": "34ad1574-e102-4030-8aca-f59b85caec78",
   "metadata": {},
   "outputs": [
    {
     "data": {
      "text/plain": [
       "np.float64(31035.00000000002)"
      ]
     },
     "execution_count": 666,
     "metadata": {},
     "output_type": "execute_result"
    }
   ],
   "source": [
    "np.expm1(y_test[20]) #Our prediction is pretty close"
   ]
  },
  {
   "cell_type": "code",
   "execution_count": null,
   "id": "9abacef3-80cc-4bd5-9601-4656906bc0ed",
   "metadata": {},
   "outputs": [],
   "source": []
  }
 ],
 "metadata": {
  "kernelspec": {
   "display_name": "Python 3 (ipykernel)",
   "language": "python",
   "name": "python3"
  },
  "language_info": {
   "codemirror_mode": {
    "name": "ipython",
    "version": 3
   },
   "file_extension": ".py",
   "mimetype": "text/x-python",
   "name": "python",
   "nbconvert_exporter": "python",
   "pygments_lexer": "ipython3",
   "version": "3.12.11"
  }
 },
 "nbformat": 4,
 "nbformat_minor": 5
}
